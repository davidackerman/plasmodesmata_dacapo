{
 "cells": [
  {
   "attachments": {},
   "cell_type": "markdown",
   "metadata": {},
   "source": [
    "## create rasterized datasets"
   ]
  },
  {
   "cell_type": "code",
   "execution_count": 1,
   "metadata": {},
   "outputs": [
    {
     "name": "stderr",
     "output_type": "stream",
     "text": [
      "  0%|          | 13/2906 [00:00<00:26, 111.23it/s]/groups/cellmap/cellmap/ackermand/Programming/plasmodesmata_dacapo/preprocessing/jrc_22_ak351-leaf-2l/../utils/utils.py:54: RuntimeWarning: invalid value encountered in divide\n",
      "  d = np.divide(end_2 - end_1, np.linalg.norm(end_2 - end_1))\n",
      "100%|██████████| 2906/2906 [00:09<00:00, 311.25it/s]\n",
      "  1%|▏         | 39/2906 [00:03<04:19, 11.04it/s]/groups/cellmap/cellmap/ackermand/Programming/plasmodesmata_dacapo/preprocessing/jrc_22_ak351-leaf-2l/../utils/utils.py:187: UserWarning: Empty plasmodesmata #40 ([6949.04589844 4345.22607422 2007.22814941]-[6949.04589844 4345.22607422 2007.22814941]) will be ignored\n",
      "  warnings.warn(\n",
      "100%|██████████| 2906/2906 [04:42<00:00, 10.30it/s]\n"
     ]
    }
   ],
   "source": [
    "import sys\n",
    "\n",
    "sys.path.append(\"..\")\n",
    "from utils.utils import PreprocessCylindricalAnnotations\n",
    "import os\n",
    "\n",
    "dataset = \"jrc_22ak351-leaf-2l\"\n",
    "annotation_path = f\"../annotations/{dataset}/\"\n",
    "annotation_csvs = [annotation_path + f for f in os.listdir(annotation_path)]\n",
    "\n",
    "preprocess = PreprocessCylindricalAnnotations(\n",
    "    annotation_csvs=annotation_csvs,\n",
    "    dataset=dataset,\n",
    "    validation_or_test_rois=[],\n",
    ")\n",
    "preprocess.extract_annotation_information()\n",
    "preprocess.write_annotations_as_cylinders_and_get_intersections()\n",
    "preprocess.write_intersection_mask()\n",
    "# seems to work https://neuroglancer-demo.appspot.com/#!gs://flyem-user-links/short/2023-09-30.025524.json"
   ]
  },
  {
   "cell_type": "code",
   "execution_count": 2,
   "metadata": {},
   "outputs": [
    {
     "name": "stderr",
     "output_type": "stream",
     "text": [
      "100%|██████████| 4427/4427 [00:00<00:00, 10779.14it/s]"
     ]
    },
    {
     "name": "stdout",
     "output_type": "stream",
     "text": [
      "number of original centers: 4427, number of training centers: 3438\n"
     ]
    },
    {
     "name": "stderr",
     "output_type": "stream",
     "text": [
      "\n"
     ]
    }
   ],
   "source": [
    "preprocess.remove_validation_or_test_annotations_from_training()"
   ]
  },
  {
   "cell_type": "code",
   "execution_count": 9,
   "metadata": {},
   "outputs": [
    {
     "name": "stderr",
     "output_type": "stream",
     "text": [
      "100%|██████████| 989/989 [00:00<00:00, 158994.51it/s]"
     ]
    },
    {
     "name": "stdout",
     "output_type": "stream",
     "text": [
      "precomputed://https://cellmap-vm1.int.janelia.org/dm11/ackermand/Programming/plasmodesmata_dacapo/preprocessing/removed_annotations\n"
     ]
    },
    {
     "name": "stderr",
     "output_type": "stream",
     "text": [
      "\n"
     ]
    }
   ],
   "source": [
    "preprocess.write_out_removed_annotations()\n",
    "# preprocess.visualize_removed_annotations(original_validation_bounding_box)"
   ]
  },
  {
   "attachments": {},
   "cell_type": "markdown",
   "metadata": {},
   "source": [
    "# Dacapo"
   ]
  },
  {
   "cell_type": "code",
   "execution_count": 4,
   "metadata": {},
   "outputs": [],
   "source": [
    "from dacapo.experiments.architectures import CNNectomeUNetConfig\n",
    "from dacapo.experiments.trainers import GunpowderTrainerConfig\n",
    "from dacapo.experiments.trainers.gp_augments import (\n",
    "    ElasticAugmentConfig,\n",
    "    IntensityAugmentConfig,\n",
    ")\n",
    "from dacapo.experiments.tasks import AffinitiesTaskConfig\n",
    "from funlib.geometry.coordinate import Coordinate\n",
    "import math"
   ]
  },
  {
   "attachments": {},
   "cell_type": "markdown",
   "metadata": {},
   "source": [
    "## Trainer"
   ]
  },
  {
   "cell_type": "code",
   "execution_count": 5,
   "metadata": {},
   "outputs": [],
   "source": [
    "trainer_config = GunpowderTrainerConfig(\n",
    "    name=\"default_v2_no_dataset_predictor_node_lr_5E-5\",\n",
    "    batch_size=2,\n",
    "    learning_rate=0.00005,\n",
    "    augments=[\n",
    "        ElasticAugmentConfig(\n",
    "            control_point_spacing=(100, 100, 100),\n",
    "            control_point_displacement_sigma=(10.0, 10.0, 10.0),\n",
    "            rotation_interval=(0, math.pi / 2.0),\n",
    "            subsample=8,\n",
    "            uniform_3d_rotation=True,\n",
    "        ),\n",
    "        IntensityAugmentConfig(\n",
    "            scale=(0.7, 1.3),\n",
    "            shift=(-0.2, 0.2),\n",
    "            clip=True,\n",
    "        ),\n",
    "    ],\n",
    "    clip_raw=True,\n",
    "    num_data_fetchers=20,\n",
    "    snapshot_interval=10000,\n",
    "    min_masked=0.05,\n",
    "    add_predictor_nodes_to_dataset=False,\n",
    ")"
   ]
  },
  {
   "attachments": {},
   "cell_type": "markdown",
   "metadata": {},
   "source": [
    "## Task"
   ]
  },
  {
   "cell_type": "code",
   "execution_count": 6,
   "metadata": {},
   "outputs": [],
   "source": [
    "task_config = AffinitiesTaskConfig(\n",
    "    name=f\"3d_lsdaffs_weight_ratio_1.00\",\n",
    "    neighborhood=[\n",
    "        (1, 0, 0),\n",
    "        (0, 1, 0),\n",
    "        (0, 0, 1),\n",
    "        (3, 0, 0),\n",
    "        (0, 3, 0),\n",
    "        (0, 0, 3),\n",
    "        (9, 0, 0),\n",
    "        (0, 9, 0),\n",
    "        (0, 0, 9),\n",
    "    ],\n",
    "    lsds=True,\n",
    "    lsds_to_affs_weight_ratio=1.00,\n",
    ")"
   ]
  },
  {
   "attachments": {},
   "cell_type": "markdown",
   "metadata": {},
   "source": [
    "## Architecture"
   ]
  },
  {
   "attachments": {},
   "cell_type": "markdown",
   "metadata": {},
   "source": [
    "I had an issue where, by default, I created the rasterization at the same resolution as the raw data. But the default architecture (with the upsampling layer `upsample_factors`) expects it to be at 2x the resolution including mask and validation. This resulted in an error when submitting. Since we don't really care about a higher res (at the moment), we can just comment out the upsampling layer (`constant_upsample` and `upsample_factors`)"
   ]
  },
  {
   "cell_type": "code",
   "execution_count": 7,
   "metadata": {},
   "outputs": [],
   "source": [
    "architecture_config = CNNectomeUNetConfig(\n",
    "    name=\"unet\",\n",
    "    input_shape=Coordinate(216, 216, 216),\n",
    "    eval_shape_increase=Coordinate(72, 72, 72),\n",
    "    fmaps_in=1,\n",
    "    num_fmaps=12,\n",
    "    fmaps_out=72,\n",
    "    fmap_inc_factor=6,\n",
    "    downsample_factors=[(2, 2, 2), (3, 3, 3), (3, 3, 3)],\n",
    "    # constant_upsample=True,\n",
    "    # upsample_factors=[(2, 2, 2)],\n",
    ")"
   ]
  },
  {
   "attachments": {},
   "cell_type": "markdown",
   "metadata": {},
   "source": [
    "## Datasplit"
   ]
  },
  {
   "attachments": {},
   "cell_type": "markdown",
   "metadata": {},
   "source": [
    "EVERYTHING MUST BE IN Z,Y,X AND NM!"
   ]
  },
  {
   "cell_type": "code",
   "execution_count": 12,
   "metadata": {},
   "outputs": [],
   "source": [
    "# # use centers\n",
    "# from pathlib import Path\n",
    "# from dacapo.experiments.datasplits.datasets.arrays import (\n",
    "#     ZarrArrayConfig,\n",
    "#     IntensitiesArrayConfig,\n",
    "#     CropArrayConfig,\n",
    "# )\n",
    "# from dacapo.experiments.datasplits.datasets import RawGTDatasetConfig\n",
    "# from dacapo.experiments.datasplits import TrainValidateDataSplitConfig\n",
    "# from funlib.geometry import Roi\n",
    "\n",
    "# raw_config = ZarrArrayConfig(\n",
    "#     name=\"raw\",\n",
    "#     file_name=Path(\"/nrs/stern/em_data/jrc_22ak351-leaf-3m/jrc_22ak351-leaf-3m.n5\"),\n",
    "#     dataset=\"em/fibsem-uint8/s0\",\n",
    "# )\n",
    "# # We get an error without this, and will suggests having it as such https://cell-map.slack.com/archives/D02KBQ990ER/p1683762491204909\n",
    "# raw_config = IntensitiesArrayConfig(\n",
    "#     name=\"raw\", source_array_config=raw_config, min=0, max=255\n",
    "# )\n",
    "\n",
    "# gt_config = ZarrArrayConfig(\n",
    "#     name=\"plasmodesmata\",\n",
    "#     file_name=Path(\"/nrs/cellmap/ackermand/cellmap/leaf-gall/jrc_22ak351-leaf-3m.n5\"),\n",
    "#     dataset=\"plasmodesmata_as_cylinders\",\n",
    "# )\n",
    "\n",
    "# # mask out regions of overlapping plasmodesmata\n",
    "# mask_config = ZarrArrayConfig(\n",
    "#     name=\"mask\",\n",
    "#     file_name=Path(\"/nrs/cellmap/ackermand/cellmap/leaf-gall/masks.zarr\"),\n",
    "#     dataset=\"jrc_22ak351-leaf-3m\",\n",
    "# )\n",
    "\n",
    "# # could do validation as a file\n",
    "# # val_gt_config = ZarrArrayConfig(\n",
    "# #     name=\"plasmodesmata\", file_name=\"/path/to/data.zarr\", dataset=\"labels_val\"\n",
    "# # )\n",
    "\n",
    "# # NOTE: Everything has to be in z,y,x\n",
    "# validation_roi = Roi(offset[::-1] * resolution, dimensions[::-1] * resolution)\n",
    "# val_gt_config = CropArrayConfig(\n",
    "#     \"val_gt\", source_array_config=gt_config, roi=validation_roi\n",
    "# )\n",
    "# training_data_config = RawGTDatasetConfig(\n",
    "#     \"train\",\n",
    "#     raw_config=raw_config,\n",
    "#     gt_config=gt_config,\n",
    "#     sample_points=[\n",
    "#         Coordinate(pd_center[::-1]) for pd_center in updated_pd_centers\n",
    "#     ],  # [Coordinate((29229*8,1862*8,7439*8))], #\n",
    "#     mask_config=mask_config,\n",
    "# )\n",
    "# validation_data_config = RawGTDatasetConfig(\n",
    "#     \"val\", raw_config=raw_config, gt_config=val_gt_config, mask_config=mask_config\n",
    "# )\n",
    "# datasplit_config = TrainValidateDataSplitConfig(\n",
    "#     name=\"plasmodesmata\",\n",
    "#     train_configs=[training_data_config],\n",
    "#     validate_configs=[validation_data_config],\n",
    "# )"
   ]
  },
  {
   "cell_type": "code",
   "execution_count": 8,
   "metadata": {},
   "outputs": [],
   "source": [
    "# use pseudorandom centers\n",
    "from pathlib import Path\n",
    "from dacapo.experiments.datasplits.datasets.arrays import (\n",
    "    ZarrArrayConfig,\n",
    "    IntensitiesArrayConfig,\n",
    "    CropArrayConfig,\n",
    ")\n",
    "from dacapo.experiments.datasplits.datasets import RawGTDatasetConfig\n",
    "from dacapo.experiments.datasplits import TrainValidateDataSplitConfig\n",
    "from funlib.geometry import Roi\n",
    "\n",
    "raw_config = ZarrArrayConfig(\n",
    "    name=\"raw\",\n",
    "    file_name=Path(\"/nrs/stern/em_data/jrc_22ak351-leaf-3m/jrc_22ak351-leaf-3m.n5\"),\n",
    "    dataset=\"em/fibsem-uint8/s0\",\n",
    ")\n",
    "# We get an error without this, and will suggests having it as such https://cell-map.slack.com/archives/D02KBQ990ER/p1683762491204909\n",
    "raw_config = IntensitiesArrayConfig(\n",
    "    name=\"raw\", source_array_config=raw_config, min=0, max=255\n",
    ")\n",
    "\n",
    "gt_config = ZarrArrayConfig(\n",
    "    name=\"plasmodesmata\",\n",
    "    file_name=Path(\"/nrs/cellmap/ackermand/cellmap/leaf-gall/jrc_22ak351-leaf-3m.n5\"),\n",
    "    dataset=\"plasmodesmata_as_cylinders\",\n",
    ")\n",
    "\n",
    "# mask out regions of overlapping plasmodesmata\n",
    "mask_config = ZarrArrayConfig(\n",
    "    name=\"mask\",\n",
    "    file_name=Path(\"/nrs/cellmap/ackermand/cellmap/leaf-gall/masks.zarr\"),\n",
    "    dataset=\"jrc_22ak351-leaf-3m\",\n",
    ")\n",
    "\n",
    "# could do validation as a file\n",
    "# val_gt_config = ZarrArrayConfig(\n",
    "#     name=\"plasmodesmata\", file_name=\"/path/to/data.zarr\", dataset=\"labels_val\"\n",
    "# )\n",
    "\n",
    "# NOTE: Everything has to be in z,y,x\n",
    "validation_roi = Roi(\n",
    "    original_validation_bounding_box.offset[::-1] * preprocess.resolution,\n",
    "    original_validation_bounding_box.shape[::-1] * preprocess.resolution,\n",
    ")\n",
    "val_gt_config = CropArrayConfig(\n",
    "    \"val_gt\", source_array_config=gt_config, roi=validation_roi\n",
    ")\n",
    "training_data_config = RawGTDatasetConfig(\n",
    "    f\"train\",\n",
    "    raw_config=raw_config,\n",
    "    gt_config=gt_config,\n",
    "    sample_points=[\n",
    "        Coordinate(preprocess.pseudorandom_training_center[::-1])\n",
    "        for preprocess.pseudorandom_training_center in preprocess.pseudorandom_training_centers\n",
    "    ],  # [Coordinate((29229*8,1862*8,7439*8))], #\n",
    "    mask_config=mask_config,\n",
    ")\n",
    "validation_data_config = RawGTDatasetConfig(\n",
    "    \"val\", raw_config=raw_config, gt_config=val_gt_config, mask_config=mask_config\n",
    ")\n",
    "datasplit_config = TrainValidateDataSplitConfig(\n",
    "    name=f\"plasmodesmata_pseudorandom_training_centers_maxshift_18_more_annotations\",\n",
    "    train_configs=[training_data_config],\n",
    "    validate_configs=[validation_data_config],\n",
    ")"
   ]
  },
  {
   "attachments": {},
   "cell_type": "markdown",
   "metadata": {},
   "source": [
    "## Run"
   ]
  },
  {
   "cell_type": "code",
   "execution_count": 10,
   "metadata": {},
   "outputs": [],
   "source": [
    "from dacapo.experiments import RunConfig\n",
    "from dacapo.experiments.starts import StartConfig\n",
    "from dacapo.store.create_store import create_config_store\n",
    "\n",
    "config_store = create_config_store()\n",
    "\n",
    "start_config = StartConfig(\"setup04\", \"best\")\n",
    "iterations = 200000\n",
    "validation_interval = 5000\n",
    "repetitions = 3\n",
    "for i in range(repetitions):\n",
    "    run_config = RunConfig(\n",
    "        name=(\"_\").join(\n",
    "            [\n",
    "                \"scratch\" if start_config is None else \"finetuned\",\n",
    "                task_config.name,\n",
    "                datasplit_config.name,\n",
    "                architecture_config.name,\n",
    "                trainer_config.name,\n",
    "            ]\n",
    "        )\n",
    "        + f\"__{i}\",\n",
    "        task_config=task_config,\n",
    "        datasplit_config=datasplit_config,\n",
    "        architecture_config=architecture_config,\n",
    "        trainer_config=trainer_config,\n",
    "        num_iterations=iterations,\n",
    "        validation_interval=validation_interval,\n",
    "        repetition=i,\n",
    "        start_config=start_config,\n",
    "    )\n",
    "    config_store.store_run_config(run_config)\n",
    "# \"dacapo run -r {run_config.name}\""
   ]
  },
  {
   "cell_type": "code",
   "execution_count": 11,
   "metadata": {},
   "outputs": [
    {
     "name": "stdout",
     "output_type": "stream",
     "text": [
      "finetuned_3d_lsdaffs_weight_ratio_1.00_plasmodesmata_pseudorandom_training_centers_maxshift_18_more_annotations_unet_default_v2_no_dataset_predictor_node_lr_5E-5__2\n"
     ]
    }
   ],
   "source": [
    "print(run_config.name)"
   ]
  },
  {
   "attachments": {},
   "cell_type": "markdown",
   "metadata": {},
   "source": [
    "# Prediction Mask"
   ]
  },
  {
   "cell_type": "code",
   "execution_count": 7,
   "metadata": {},
   "outputs": [],
   "source": [
    "from funlib.persistence import open_ds, prepare_ds\n",
    "from funlib.geometry import Roi, Coordinate\n",
    "from scipy.ndimage import binary_dilation, distance_transform_edt\n",
    "import numpy as np\n",
    "\n",
    "for iterations in range(1, 4):\n",
    "    ds = open_ds(\n",
    "        f\"/nrs/cellmap/ackermand/cellmap/leaf-gall/{dataset}.n5\",\n",
    "        \"plasmodesmata_column_cells\",\n",
    "    )\n",
    "    voxel_size = ds.voxel_size\n",
    "    data = ds.to_ndarray() > 0\n",
    "    ds = open_ds(\n",
    "        f\"/nrs/cellmap/ackermand/cellmap/leaf-gall/{dataset}.n5\",\n",
    "        \"plasmodesmata_column_target_cells\",\n",
    "    )\n",
    "    data += ds.to_ndarray() > 0\n",
    "    data = 1 - (data > 0)\n",
    "    data = binary_dilation(data, iterations=iterations)\n",
    "\n",
    "    output_ds = prepare_ds(\n",
    "        \"/nrs/cellmap/ackermand/cellmap/leaf-gall/prediction_masks.zarr\",\n",
    "        f\"dilation_iterations_{iterations}_{dataset}\",\n",
    "        total_roi=ds.roi,\n",
    "        voxel_size=voxel_size,\n",
    "        dtype=np.uint8,\n",
    "        write_size=Coordinate(np.array([64, 64, 64]) * 256),\n",
    "        delete=True,\n",
    "        # force_exact_write_size=True\n",
    "    )\n",
    "    output_ds[ds.roi] = data"
   ]
  },
  {
   "cell_type": "code",
   "execution_count": null,
   "metadata": {},
   "outputs": [],
   "source": []
  }
 ],
 "metadata": {
  "kernelspec": {
   "display_name": "plasmodesmata_dacapo",
   "language": "python",
   "name": "python3"
  },
  "language_info": {
   "codemirror_mode": {
    "name": "ipython",
    "version": 3
   },
   "file_extension": ".py",
   "mimetype": "text/x-python",
   "name": "python",
   "nbconvert_exporter": "python",
   "pygments_lexer": "ipython3",
   "version": "3.10.12"
  },
  "orig_nbformat": 4
 },
 "nbformat": 4,
 "nbformat_minor": 2
}
