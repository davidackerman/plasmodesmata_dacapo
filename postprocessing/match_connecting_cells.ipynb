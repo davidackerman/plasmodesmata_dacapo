{
 "cells": [
  {
   "cell_type": "code",
   "execution_count": 1,
   "metadata": {},
   "outputs": [],
   "source": [
    "from funlib.persistence import open_ds\n",
    "import numpy as np\n",
    "from scipy.spatial import KDTree\n",
    "from skimage.segmentation import find_boundaries\n",
    "import pandas as pd\n",
    "\n",
    "plasmodesmata_df = pd.read_csv(\n",
    "    \"/nrs/cellmap/ackermand/cellmap/analysisResults/leaf-gall/jrc_22ak351-leaf-3m.n5/fragments_relabeled.csv\"\n",
    ")\n",
    "columns = open_ds(\n",
    "    \"/nrs/cellmap/ackermand/cellmap/leaf-gall/jrc_22ak351-leaf-3m.n5\",\n",
    "    \"plasmodesmata_column_cells\",\n",
    ")\n",
    "data = columns.to_ndarray()\n",
    "targets = open_ds(\n",
    "    \"/nrs/cellmap/ackermand/cellmap/leaf-gall/jrc_22ak351-leaf-3m.n5\",\n",
    "    \"plasmodesmata_column_target_cells\",\n",
    ")\n",
    "targets_data = targets.to_ndarray()\n",
    "targets_data[targets_data > 0] += data.max()\n",
    "data += targets_data\n",
    "\n",
    "# get surface voxels\n",
    "from scipy.ndimage import binary_erosion\n",
    "\n",
    "surface_voxels = find_boundaries(data, mode=\"inner\")\n",
    "cell_surface_voxels_coords = np.argwhere(surface_voxels) * columns.voxel_size\n",
    "plasmodesmata_coms = np.array(\n",
    "    [\n",
    "        plasmodesmata_df[\"COM Z (nm)\"] - 8 + 128,\n",
    "        plasmodesmata_df[\"COM Y (nm)\"] - 8 + 128,\n",
    "        plasmodesmata_df[\"COM X (nm)\"] - 8 + 128,\n",
    "    ]\n",
    ").T\n",
    "\n",
    "# Create KD-trees for efficient distance computation\n",
    "tree1 = KDTree(cell_surface_voxels_coords)\n",
    "tree2 = KDTree(plasmodesmata_coms)\n",
    "\n",
    "# Find all pairs of points from both organelles within the threshold distance\n",
    "contact_voxels_list_of_lists = tree1.query_ball_tree(tree2, r=2000)"
   ]
  },
  {
   "cell_type": "code",
   "execution_count": 2,
   "metadata": {},
   "outputs": [
    {
     "name": "stderr",
     "output_type": "stream",
     "text": [
      "100%|██████████| 23390701/23390701 [03:58<00:00, 97925.65it/s] \n"
     ]
    }
   ],
   "source": [
    "from tqdm import tqdm\n",
    "\n",
    "plasmodesmata_ids = plasmodesmata_df[\"Object ID\"].to_numpy()\n",
    "plasmodesmata_to_cells_dict = dict(\n",
    "    zip(plasmodesmata_ids, [{} for _ in range(len(plasmodesmata_ids))])\n",
    ")\n",
    "\n",
    "contact_voxels_pairs = [\n",
    "    [i, j] for i, sublist in enumerate(contact_voxels_list_of_lists) for j in sublist\n",
    "]\n",
    "\n",
    "for contact_voxels_pair in tqdm(contact_voxels_pairs):\n",
    "    cell_surface_voxel_index = contact_voxels_pair[0]\n",
    "    cell_surface_voxel_coords = cell_surface_voxels_coords[cell_surface_voxel_index]\n",
    "    # cell_surface_voxel_inds = tuple(cell_surface_voxel_coords // columns.voxel_size)\n",
    "    plasmodesmata_index = contact_voxels_pair[1]\n",
    "    dist = np.linalg.norm(\n",
    "        plasmodesmata_coms[plasmodesmata_index] - cell_surface_voxel_coords\n",
    "    )\n",
    "    cell_id = data[tuple(cell_surface_voxel_coords // columns.voxel_size)]\n",
    "    plasmodesmata_id = plasmodesmata_ids[plasmodesmata_index]\n",
    "    cell_to_dist_dict = plasmodesmata_to_cells_dict.get(plasmodesmata_id)\n",
    "    cell_to_dist_dict[cell_id] = min(cell_to_dist_dict.get(cell_id, np.inf), dist)\n",
    "    # print(\n",
    "    #     plasmodesmata_df.loc[plasmodesmata_index][\n",
    "    #         [\"COM X (nm)\", \"COM Y (nm)\", \"COM Z (nm)\"]\n",
    "    #     ].to_numpy(),\n",
    "    #     plasmodesmata_df.loc[plasmodesmata_index][[\"Object ID\"]].to_numpy(),\n",
    "    #     data[cell_surface_voxel_coords],\n",
    "    # )"
   ]
  },
  {
   "cell_type": "code",
   "execution_count": 104,
   "metadata": {},
   "outputs": [
    {
     "data": {
      "text/plain": [
       "array([[22835.96577755, 21803.29340715, 20446.22848515]])"
      ]
     },
     "execution_count": 104,
     "metadata": {},
     "output_type": "execute_result"
    }
   ],
   "source": [
    "plasmodesmata_coms[plasmodesmata_df[\"Object ID\"] == 8589934594]"
   ]
  },
  {
   "cell_type": "code",
   "execution_count": 103,
   "metadata": {},
   "outputs": [
    {
     "ename": "IndexError",
     "evalue": "index 8589934594 is out of bounds for axis 0 with size 391068",
     "output_type": "error",
     "traceback": [
      "\u001b[0;31m---------------------------------------------------------------------------\u001b[0m",
      "\u001b[0;31mIndexError\u001b[0m                                Traceback (most recent call last)",
      "Cell \u001b[0;32mIn[103], line 1\u001b[0m\n\u001b[0;32m----> 1\u001b[0m \u001b[43mplasmodesmata_coms\u001b[49m\u001b[43m[\u001b[49m\u001b[38;5;241;43m8589934594\u001b[39;49m\u001b[43m]\u001b[49m\n",
      "\u001b[0;31mIndexError\u001b[0m: index 8589934594 is out of bounds for axis 0 with size 391068"
     ]
    }
   ],
   "source": [
    "plasmodesmata_coms[8589934594]"
   ]
  },
  {
   "cell_type": "code",
   "execution_count": 97,
   "metadata": {},
   "outputs": [
    {
     "data": {
      "text/plain": [
       "[{'a': 4}, {}, {}, {}, {}, {}, {}, {}, {}, {}]"
      ]
     },
     "execution_count": 97,
     "metadata": {},
     "output_type": "execute_result"
    }
   ],
   "source": [
    "# create array of empty dicts\n",
    "\n",
    "\n",
    "temp = [{} for _ in range(10)]\n",
    "temp[0][\"a\"] = 4\n",
    "temp"
   ]
  },
  {
   "cell_type": "code",
   "execution_count": 75,
   "metadata": {},
   "outputs": [
    {
     "data": {
      "text/plain": [
       "array([ 74240,  38912, 206848])"
      ]
     },
     "execution_count": 75,
     "metadata": {},
     "output_type": "execute_result"
    }
   ],
   "source": [
    "cell_surface_voxel_coords"
   ]
  },
  {
   "cell_type": "code",
   "execution_count": 29,
   "metadata": {},
   "outputs": [
    {
     "data": {
      "text/plain": [
       "1"
      ]
     },
     "execution_count": 29,
     "metadata": {},
     "output_type": "execute_result"
    }
   ],
   "source": [
    "data[tuple(cell_surface_voxel // ds.voxel_size)]"
   ]
  },
  {
   "cell_type": "code",
   "execution_count": 26,
   "metadata": {},
   "outputs": [
    {
     "data": {
      "text/plain": [
       "(93, 32, 55)"
      ]
     },
     "execution_count": 26,
     "metadata": {},
     "output_type": "execute_result"
    }
   ],
   "source": [
    "tuple(cell_surface_voxel // ds.voxel_size)"
   ]
  },
  {
   "cell_type": "code",
   "execution_count": null,
   "metadata": {},
   "outputs": [],
   "source": []
  }
 ],
 "metadata": {
  "kernelspec": {
   "display_name": "plasmodesmata_dacapo",
   "language": "python",
   "name": "python3"
  },
  "language_info": {
   "codemirror_mode": {
    "name": "ipython",
    "version": 3
   },
   "file_extension": ".py",
   "mimetype": "text/x-python",
   "name": "python",
   "nbconvert_exporter": "python",
   "pygments_lexer": "ipython3",
   "version": "3.10.9"
  }
 },
 "nbformat": 4,
 "nbformat_minor": 2
}
