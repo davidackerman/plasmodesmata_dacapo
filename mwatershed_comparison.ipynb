{
 "cells": [
  {
   "cell_type": "code",
   "execution_count": 1,
   "metadata": {},
   "outputs": [
    {
     "name": "stdout",
     "output_type": "stream",
     "text": [
      "Time elapsed start: 20.291747ms\n",
      "Time elapsed inside get_edges 1: 13.003µs\n",
      "Time elapsed inside get_edges 1: 2.208µs\n",
      "Time elapsed inside get_edges 2: 151.671237ms\n",
      "Time elapsed inside get_edges 1: 2.07µs\n",
      "Time elapsed inside get_edges 2: 150.212306ms\n",
      "Time elapsed inside get_edges 1: 1.876µs\n",
      "Time elapsed inside get_edges 2: 151.504423ms\n",
      "Time elapsed inside get_edges 1: 1.563µs\n",
      "Time elapsed inside get_edges 2: 149.389795ms\n",
      "Time elapsed inside get_edges 1: 1.925µs\n",
      "Time elapsed inside get_edges 2: 150.866292ms\n",
      "Time elapsed inside get_edges 1: 1.438µs\n",
      "Time elapsed inside get_edges 2: 149.729919ms\n",
      "Time elapsed inside get_edges 1: 1.431µs\n",
      "Time elapsed inside get_edges 2: 145.609859ms\n",
      "Time elapsed inside get_edges 1: 1.64µs\n",
      "Time elapsed inside get_edges 2: 144.913009ms\n",
      "Time elapsed inside get_edges 1: 1.814µs\n",
      "Time elapsed inside get_edges 2: 145.513209ms\n",
      "Time elapsed inside inside get_edges affs.into_iter: 3.480372322s\n",
      "Time elapsed get_edges: 4.819896422s\n",
      "Time elapsed extend edges: 408.652478ms\n",
      "Time elapsed clustering: 77.131106ms\n",
      "Time elapsed process_edges: 11.359412017s\n",
      "Time elapsed map: 7.295214ms\n",
      "Time elapsed lookup: 136ns\n",
      "Time elapsed iter_mut: 1.000375ms\n",
      "MWATERSHED: 1484 components in 16.86310124397278 seconds\n"
     ]
    }
   ],
   "source": [
    "import numpy as np\n",
    "import mwatershed\n",
    "from importlib import reload\n",
    "reload(mwatershed)\n",
    "\n",
    "import time\n",
    "\n",
    "shape = [160, 160, 160]\n",
    "offsets = [\n",
    "    (0, 0, 1),\n",
    "    (0, 1, 0),\n",
    "    (1, 0, 0),\n",
    "    (0, 0, 3),\n",
    "    (0, 3, 0),\n",
    "    (3, 0, 0),\n",
    "    (0, 0, 9),\n",
    "    (0, 9, 0),\n",
    "    (9, 0, 0),\n",
    "]\n",
    "nodes = np.zeros(shape, dtype=np.uint64)\n",
    "affinities = np.random.randn(9, *shape)\n",
    "\n",
    "t1 = time.time()\n",
    "components = mwatershed.agglom(affinities, offsets)\n",
    "t2 = time.time()\n",
    "\n",
    "print(f\"MWATERSHED: {len(np.unique(components))} components in {t2-t1} seconds\")\n",
    "\n",
    "from affogato.segmentation.mws import compute_mws_segmentation_from_affinities\n",
    "\n",
    "t3 = time.time()\n",
    "components = compute_mws_segmentation_from_affinities(affinities, offsets, 0)\n",
    "t4 = time.time()\n",
    "\n",
    "print(f\"AFFOGATO: {len(np.unique(components))} components in {t4-t3} seconds\")"
   ]
  },
  {
   "cell_type": "code",
   "execution_count": null,
   "metadata": {},
   "outputs": [],
   "source": []
  }
 ],
 "metadata": {
  "kernelspec": {
   "display_name": "mwatershed_comparison",
   "language": "python",
   "name": "python3"
  },
  "language_info": {
   "codemirror_mode": {
    "name": "ipython",
    "version": 3
   },
   "file_extension": ".py",
   "mimetype": "text/x-python",
   "name": "python",
   "nbconvert_exporter": "python",
   "pygments_lexer": "ipython3",
   "version": "3.10.12"
  },
  "orig_nbformat": 4
 },
 "nbformat": 4,
 "nbformat_minor": 2
}
