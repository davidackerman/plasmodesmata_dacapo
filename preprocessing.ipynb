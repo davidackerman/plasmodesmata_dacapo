{
 "cells": [
  {
   "attachments": {},
   "cell_type": "markdown",
   "metadata": {},
   "source": [
    "## create rasterized datasets"
   ]
  },
  {
   "cell_type": "code",
   "execution_count": 1,
   "metadata": {},
   "outputs": [],
   "source": [
    "import pandas as pd\n",
    "import numpy as np\n",
    "import zarr\n",
    "\n",
    "def in_cylinder(end_1, end_2, radius):\n",
    "    # https://stackoverflow.com/questions/56463412/distance-from-a-point-to-a-line-segment-in-3d-python\n",
    "    # normalized tangent vector\n",
    "    d = np.divide(end_2 - end_1, np.linalg.norm(end_2 - end_1))\n",
    "\n",
    "    # possible points\n",
    "    mins = np.floor(np.minimum(end_1,end_2)).astype(int)-(radius+1) #1s for padding\n",
    "    maxs = np.ceil(np.maximum(end_1,end_2)).astype(int) +(radius+1)\n",
    "    \n",
    "    x,y,z = [list(range(mins[i],maxs[i]+1,1)) for i in range(3)]\n",
    "    p = np.array(np.meshgrid(x, y,z)).T.reshape((-1,3))\n",
    "\n",
    "    # signed parallel distance components\n",
    "    s = np.dot(end_1 - p, d)\n",
    "    t = np.dot(p - end_2, d)\n",
    "\n",
    "    # clamped parallel distance\n",
    "    h = np.maximum.reduce([s, t, np.zeros_like(s)])\n",
    "\n",
    "    # perpendicular distance component\n",
    "    c = np.linalg.norm(np.cross(p - end_1, d),axis=1)\n",
    "    \n",
    "    is_in_cylinder = (h==0) & (c<=radius)\n",
    "    return set(map(tuple, p[is_in_cylinder]))\n",
    "\n",
    "zarr_file = zarr.open(f\"/nrs/stern/em_data/jrc_22ak351-leaf-3m/jrc_22ak351-leaf-3m.n5\", mode=\"r\")\n",
    "dataset = \"em/fibsem-uint8/s0\"\n",
    "resolution = np.array(zarr_file[dataset].attrs.asdict()[\"transform\"][\"scale\"])\n",
    "# https://cell-map.slack.com/archives/C04N9JUFQK1/p1683733456153269\n",
    "df = pd.read_csv(\"annotations_20230510_114340.csv\")\n",
    "pd_starts = np.array([df[\"start x (nm)\"], df[\"start y (nm)\"], df[\"start z (nm)\"]]).T/resolution\n",
    "pd_ends = np.array([df[\"end x (nm)\"], df[\"end y (nm)\"], df[\"end z (nm)\"]]).T/resolution\n",
    "pd_centers = list(map(tuple,np.round(((pd_starts+pd_ends)*resolution/2)).astype(int)))\n",
    "\n",
    "# densely annotated validation region:\n",
    "offset = np.array([27400, 2000, 5300])\n",
    "dimensions = np.array([300, 200, 200])\n"
   ]
  },
  {
   "attachments": {},
   "cell_type": "markdown",
   "metadata": {},
   "source": [
    "now that we can find which points are in cylinder, we can do this for all annotations and concatenate, then we can write out the n5 file"
   ]
  },
  {
   "cell_type": "code",
   "execution_count": 2,
   "metadata": {},
   "outputs": [
    {
     "name": "stderr",
     "output_type": "stream",
     "text": [
      "100%|██████████| 1920/1920 [00:14<00:00, 133.42it/s]\n"
     ]
    }
   ],
   "source": [
    "\n",
    "from tqdm import tqdm\n",
    "from numcodecs.gzip import GZip\n",
    "import zarr\n",
    "\n",
    "# get all pd voxels and all overlapping/intersecting voxels between multiple pd\n",
    "all_pd_voxels_set = set()\n",
    "intersection_voxels_set = set()\n",
    "for pd_start,pd_end in tqdm(zip(pd_starts,pd_ends),total=len(pd_starts)):\n",
    "    voxels_in_cylinder = in_cylinder(pd_start,pd_end,radius=4)\n",
    "    intersection_voxels_set.update(all_pd_voxels_set.intersection(voxels_in_cylinder))\n",
    "    all_pd_voxels_set.update(voxels_in_cylinder)\n",
    "\n",
    "# # repeat but now will write out the relevant voxels with appropriate id\n",
    "# store = zarr.N5Store(\"/nrs/cellmap/ackermand/cellmap/leaf-gall/jrc_22ak351-leaf-3m.n5\")\n",
    "# zarr_root = zarr.group(store=store)\n",
    "# ds = zarr_root.create_dataset(\n",
    "#         overwrite=True,\n",
    "#         name=\"plasmodesmata_as_cylinders\",\n",
    "#         dtype='u2',\n",
    "#         shape=zarr_file[dataset].shape,\n",
    "#         chunks=128,\n",
    "#         write_empty_chunks=False,\n",
    "#         compressor=GZip(level=6),\n",
    "#     )\n",
    "# attributes = ds.attrs\n",
    "# attributes[\"pixelResolution\"] = {\n",
    "#     \"dimensions\": 3 * [8],\n",
    "#     \"unit\": \"nm\",\n",
    "# }\n",
    "\n",
    "# pd_id = 1\n",
    "# all_pd_voxels_set -= intersection_voxels_set\n",
    "# for pd_start,pd_end in tqdm(zip(pd_starts,pd_ends),total=len(pd_starts)):\n",
    "#     voxels_in_cylinder = in_cylinder(pd_start,pd_end,radius=4) - intersection_voxels_set\n",
    "#     if len(voxels_in_cylinder)>0:\n",
    "#         voxels_in_cylinder = np.array(list(voxels_in_cylinder))\n",
    "#         ds[voxels_in_cylinder[:,2],voxels_in_cylinder[:,1],voxels_in_cylinder[:,0]] = pd_id\n",
    "#         pd_id +=1\n",
    "#     else:\n",
    "#         raise Exception(f\"Empty plasmodesmata {pd_starts}-{pd_ends}\")\n"
   ]
  },
  {
   "attachments": {},
   "cell_type": "markdown",
   "metadata": {},
   "source": [
    "mask where we set all intersection voxels to 0"
   ]
  },
  {
   "cell_type": "code",
   "execution_count": 69,
   "metadata": {},
   "outputs": [],
   "source": [
    "import os\n",
    "zarr_file = zarr.open(f\"/nrs/stern/em_data/jrc_22ak351-leaf-3m/jrc_22ak351-leaf-3m.n5\", mode=\"r\")\n",
    "zarr_path = \"/nrs/cellmap/ackermand/cellmap/leaf-gall/masks.zarr\"\n",
    "if not os.path.exists(zarr_path):\n",
    "    zarr_root = zarr.open(zarr_path, mode='w')\n",
    "ds = zarr_root.create_dataset(\n",
    "        overwrite=True,\n",
    "        name=\"jrc_22ak351-leaf-3m\",\n",
    "        dtype='u1',\n",
    "        fill_value = 1,\n",
    "        shape=zarr_file[dataset].shape,\n",
    "        chunks=128,\n",
    "        write_empty_chunks=False,\n",
    "        compressor=GZip(level=6),\n",
    "    )\n",
    "attributes = ds.attrs\n",
    "attributes[\"pixelResolution\"] = {\n",
    "    \"dimensions\": 3 * [8],\n",
    "    \"unit\": \"nm\",\n",
    "}\n",
    "intersection_voxels = np.array(list(intersection_voxels_set))\n",
    "ds[intersection_voxels[:,2],intersection_voxels[:,1],intersection_voxels[:,0]] = 0\n",
    "\n"
   ]
  },
  {
   "attachments": {},
   "cell_type": "markdown",
   "metadata": {},
   "source": [
    "## validation crop"
   ]
  },
  {
   "cell_type": "code",
   "execution_count": 15,
   "metadata": {},
   "outputs": [],
   "source": [
    "from numcodecs.gzip import GZip\n",
    "zarr_file = zarr.open(f\"/nrs/cellmap/ackermand/cellmap/leaf-gall/jrc_22ak351-leaf-3m.n5\", mode=\"r\")\n",
    "plasmodesmata_as_cylinders = zarr_file[\"plasmodesmata_as_cylinders\"]\n",
    "validation_crop = plasmodesmata_as_cylinders[offset[2]:offset[2]+dimensions[2],\n",
    "                                             offset[1]:offset[1]+dimensions[1],\n",
    "                                             offset[0]:offset[0]+dimensions[0]]\n",
    "\n",
    "store = zarr.N5Store(\"/nrs/cellmap/ackermand/cellmap/leaf-gall/jrc_22ak351-leaf-3m.n5\")\n",
    "zarr_root = zarr.group(store=store)\n",
    "ds = zarr_root.create_dataset(\n",
    "        overwrite=True,\n",
    "        name=\"validation_crop\",\n",
    "        data=validation_crop,\n",
    "        dtype='u2',\n",
    "        chunks=128,\n",
    "        write_empty_chunks=False,\n",
    "        compressor=GZip(level=6),\n",
    "    )\n",
    "attributes = ds.attrs\n",
    "attributes[\"pixelResolution\"] = {\n",
    "    \"dimensions\": 3 * [8],\n",
    "    \"unit\": \"nm\",\n",
    "}\n",
    "attributes[\"offset\"] = offset"
   ]
  },
  {
   "attachments": {},
   "cell_type": "markdown",
   "metadata": {},
   "source": [
    "get plasmodesmata that are not in validation crop"
   ]
  },
  {
   "cell_type": "code",
   "execution_count": 3,
   "metadata": {},
   "outputs": [
    {
     "name": "stderr",
     "output_type": "stream",
     "text": [
      "100%|██████████| 1920/1920 [00:14<00:00, 132.59it/s]\n"
     ]
    },
    {
     "data": {
      "text/plain": [
       "(1878, 1920)"
      ]
     },
     "execution_count": 3,
     "metadata": {},
     "output_type": "execute_result"
    }
   ],
   "source": [
    "updated_pd_centers = []\n",
    "for pd_start,pd_end,pd_center in tqdm(zip(pd_starts,pd_ends,pd_centers),total=len(pd_starts)):\n",
    "    voxels_in_cylinder = in_cylinder(pd_start,pd_end,radius=4)\n",
    "    voxels_in_cylinder = np.array(list(voxels_in_cylinder))\n",
    "    if ~np.any([(voxels_in_cylinder[:,0]>=offset[0]) & (voxels_in_cylinder[:,0]<=offset[0]+dimensions[0])\n",
    "                & (voxels_in_cylinder[:,1]>=offset[1]) & (voxels_in_cylinder[:,1]<=offset[1]+dimensions[1])\n",
    "                & (voxels_in_cylinder[:,2]>=offset[2]) & (voxels_in_cylinder[:,2]<=offset[2]+dimensions[2])]):\n",
    "        updated_pd_centers.append(pd_center)\n",
    "len(updated_pd_centers),len(pd_centers)"
   ]
  },
  {
   "attachments": {},
   "cell_type": "markdown",
   "metadata": {},
   "source": [
    "# Dacapo"
   ]
  },
  {
   "cell_type": "code",
   "execution_count": 4,
   "metadata": {},
   "outputs": [
    {
     "name": "stderr",
     "output_type": "stream",
     "text": [
      "/groups/scicompsoft/home/ackermand/miniconda3/envs/plasmodesmata_dacapo/lib/python3.10/site-packages/tqdm/auto.py:21: TqdmWarning: IProgress not found. Please update jupyter and ipywidgets. See https://ipywidgets.readthedocs.io/en/stable/user_install.html\n",
      "  from .autonotebook import tqdm as notebook_tqdm\n"
     ]
    }
   ],
   "source": [
    "from dacapo.experiments.architectures import CNNectomeUNetConfig\n",
    "from dacapo.experiments.trainers import GunpowderTrainerConfig\n",
    "from dacapo.experiments.trainers.gp_augments import ElasticAugmentConfig,IntensityAugmentConfig\n",
    "from dacapo.experiments.tasks import AffinitiesTaskConfig\n",
    "from funlib.geometry.coordinate import Coordinate\n",
    "import math"
   ]
  },
  {
   "attachments": {},
   "cell_type": "markdown",
   "metadata": {},
   "source": [
    "## Trainer"
   ]
  },
  {
   "cell_type": "code",
   "execution_count": null,
   "metadata": {},
   "outputs": [],
   "source": [
    "trainer_config = GunpowderTrainerConfig(\n",
    "        name=\"default_v2\",\n",
    "        batch_size=2,\n",
    "        learning_rate=0.0001,\n",
    "        augments=[\n",
    "            ElasticAugmentConfig(\n",
    "                control_point_spacing=(100, 100, 100),\n",
    "                control_point_displacement_sigma=(10.0, 10.0, 10.0),\n",
    "                rotation_interval=(0, math.pi / 2.0),\n",
    "                subsample=8,\n",
    "                uniform_3d_rotation=True,\n",
    "            ),\n",
    "            IntensityAugmentConfig(\n",
    "                scale=(0.7, 1.3),\n",
    "                shift=(-0.2, 0.2),\n",
    "                clip=True,\n",
    "            ),\n",
    "        ],\n",
    "        clip_raw=True,\n",
    "        num_data_fetchers=20,\n",
    "        snapshot_interval=10000,\n",
    "        min_masked=0.05,\n",
    "    )"
   ]
  },
  {
   "attachments": {},
   "cell_type": "markdown",
   "metadata": {},
   "source": [
    "## Task"
   ]
  },
  {
   "cell_type": "code",
   "execution_count": null,
   "metadata": {},
   "outputs": [],
   "source": [
    "task_config = AffinitiesTaskConfig(\n",
    "            name=f\"3d_lsdaffs\",\n",
    "            neighborhood=[\n",
    "                (1, 0, 0),\n",
    "                (0, 1, 0),\n",
    "                (0, 0, 1),\n",
    "                (3, 0, 0),\n",
    "                (0, 3, 0),\n",
    "                (0, 0, 3),\n",
    "                (9, 0, 0),\n",
    "                (0, 9, 0),\n",
    "                (0, 0, 9),\n",
    "            ],\n",
    "            lsds=True,\n",
    "        )"
   ]
  },
  {
   "attachments": {},
   "cell_type": "markdown",
   "metadata": {},
   "source": [
    "## Architecture"
   ]
  },
  {
   "cell_type": "code",
   "execution_count": null,
   "metadata": {},
   "outputs": [],
   "source": [
    "architecture_config = CNNectomeUNetConfig(\n",
    "        name=\"upsample-unet\",\n",
    "        input_shape=Coordinate(216, 216, 216),\n",
    "        eval_shape_increase=Coordinate(72, 72, 72),\n",
    "        fmaps_in=1,\n",
    "        num_fmaps=12,\n",
    "        fmaps_out=72,\n",
    "        fmap_inc_factor=6,\n",
    "        downsample_factors=[(2, 2, 2), (3, 3, 3), (3, 3, 3)],\n",
    "        constant_upsample=True,\n",
    "        upsample_factors=[(2, 2, 2)],\n",
    "    )"
   ]
  },
  {
   "attachments": {},
   "cell_type": "markdown",
   "metadata": {},
   "source": [
    "## Datasplit"
   ]
  },
  {
   "cell_type": "code",
   "execution_count": null,
   "metadata": {},
   "outputs": [],
   "source": [
    "from pathlib import Path\n",
    "from dacapo.experiments.datasplits.datasets.arrays import (\n",
    "    ZarrArrayConfig,\n",
    "    IntensitiesArrayConfig,\n",
    "    CropArrayConfig,\n",
    ")\n",
    "from dacapo.experiments.datasplits.datasets import RawGTDatasetConfig\n",
    "from dacapo.experiments.datasplits import TrainValidateDataSplitConfig\n",
    "from funlib.geometry import Roi\n",
    "\n",
    "raw_config = ZarrArrayConfig(\n",
    "    name = \"raw\",\n",
    "    file_name=Path(\"/nrs/stern/em_data/jrc_22ak351-leaf-3m/jrc_22ak351-leaf-3m.n5\"),\n",
    "    dataset=\"em/fibsem-uint8/s0\",\n",
    ")\n",
    "# We get an error without this, and will suggests having it as such https://cell-map.slack.com/archives/D02KBQ990ER/p1683762491204909\n",
    "raw_config = IntensitiesArrayConfig(name=\"raw\", source_array_config = raw_config, min=0, max=255)\n",
    "\n",
    "gt_config = ZarrArrayConfig(\n",
    "    name=\"plasmodesmata\", \n",
    "    file_name=Path(\"/nrs/cellmap/ackermand/cellmap/leaf-gall/jrc_22ak351-leaf-3m.n5\"), \n",
    "    dataset=\"plasmodesmata_as_cylinders\"\n",
    ")\n",
    "\n",
    "# mask out regions of overlapping plasmodesmata\n",
    "mask_config = ZarrArrayConfig(\n",
    "    name=\"mask\", \n",
    "    file_name=Path(\"/nrs/cellmap/ackermand/cellmap/leaf-gall/masks.zarr\"), \n",
    "    dataset=\"jrc_22ak351-leaf-3m\"\n",
    ")\n",
    "\n",
    "# could do validation as a file\n",
    "# val_gt_config = ZarrArrayConfig(\n",
    "#     name=\"plasmodesmata\", file_name=\"/path/to/data.zarr\", dataset=\"labels_val\"\n",
    "# )\n",
    "validation_roi = Roi(offset*resolution, dimensions*resolution)\n",
    "val_gt_config = CropArrayConfig(\n",
    "    \"val_gt\", source_array_config=gt_config, roi=validation_roi\n",
    ")\n",
    "training_data_config = RawGTDatasetConfig(\n",
    "    \"train\",\n",
    "    raw_config = raw_config,\n",
    "    gt_config = gt_config,\n",
    "    sample_points = [Coordinate(pd_center) for pd_center in updated_pd_centers], #[Coordinate((29229*8,1862*8,7439*8))], #[Coordinate(pd_center[::-1]) for pd_center in updated_pd_centers],\n",
    "    mask_config = mask_config\n",
    ")\n",
    "validation_data_config = RawGTDatasetConfig(\"val\", raw_config = raw_config, gt_config=val_gt_config, mask_config=mask_config)\n",
    "datasplit_config = TrainValidateDataSplitConfig(\n",
    "    name=\"plasmodesmata\", train_configs=[training_data_config], validate_configs=[validation_data_config]\n",
    ")"
   ]
  },
  {
   "attachments": {},
   "cell_type": "markdown",
   "metadata": {},
   "source": [
    "## Run"
   ]
  },
  {
   "cell_type": "code",
   "execution_count": 13,
   "metadata": {},
   "outputs": [],
   "source": [
    "from dacapo.experiments import RunConfig\n",
    "from dacapo.experiments.starts import StartConfig\n",
    "from dacapo.store.create_store import create_config_store\n",
    "config_store = create_config_store()\n",
    "\n",
    "start_config = StartConfig(\"setup04\", \"best\")\n",
    "iterations = 2\n",
    "validation_interval = 5000\n",
    "for i in range(iterations):\n",
    "    run_config = RunConfig(\n",
    "        name=(\"_\").join(\n",
    "            [\n",
    "                \"scratch\" if start_config is None else \"finetuned\",\n",
    "                task_config.name,\n",
    "                datasplit_config.name,\n",
    "                architecture_config.name,\n",
    "                trainer_config.name,\n",
    "            ]\n",
    "        )\n",
    "        + f\"__{i}\",\n",
    "        task_config=task_config,\n",
    "        datasplit_config=datasplit_config,\n",
    "        architecture_config=architecture_config,\n",
    "        trainer_config=trainer_config,\n",
    "        num_iterations=iterations,\n",
    "        validation_interval=validation_interval,\n",
    "        repetition=i,\n",
    "        start_config=start_config,\n",
    "    )\n",
    "    config_store.store_run_config(run_config)\n",
    "#\"dacapo run -r {run_config.name}\""
   ]
  },
  {
   "cell_type": "code",
   "execution_count": 8,
   "metadata": {},
   "outputs": [
    {
     "data": {
      "text/plain": [
       "array([219200,  16000,  42400])"
      ]
     },
     "execution_count": 8,
     "metadata": {},
     "output_type": "execute_result"
    }
   ],
   "source": [
    "offset*8"
   ]
  },
  {
   "cell_type": "code",
   "execution_count": 21,
   "metadata": {},
   "outputs": [
    {
     "data": {
      "text/plain": [
       "'finetuned_3d_lsdaffs_plasmodesmata_upsample-unet_default_v2__1'"
      ]
     },
     "execution_count": 21,
     "metadata": {},
     "output_type": "execute_result"
    }
   ],
   "source": [
    "run_config.name"
   ]
  },
  {
   "attachments": {},
   "cell_type": "markdown",
   "metadata": {},
   "source": [
    "## Visualize run before train: https://github.com/janelia-cellmap/ml_experiments/blob/main/scripts/visualize_pipeline.py\n",
    "creates a neuroglancer view, of your training samples. hitting \"t\" refreshes to a new example"
   ]
  },
  {
   "attachments": {},
   "cell_type": "markdown",
   "metadata": {},
   "source": [
    "python ~/Programming/ml_experiments/scripts/visualize_pipeline.py visualize-pipeline -r finetuned_3d_lsdaffs_plasmodesmata_upsample-unet_default_v2__1"
   ]
  },
  {
   "cell_type": "code",
   "execution_count": 27,
   "metadata": {},
   "outputs": [],
   "source": [
    "from numcodecs.gzip import GZip\n",
    "import zarr\n",
    "\n",
    "store = zarr.N5Store(\"./test.n5\")\n",
    "zarr_root = zarr.group(store=store)\n",
    "ds = zarr_root.create_dataset(\n",
    "        overwrite=True,\n",
    "        name=\"test\",\n",
    "        dtype='u1',\n",
    "        shape=zarr_file[dataset].shape,\n",
    "        chunks=128,\n",
    "        write_empty_chunks=False,\n",
    "        compressor=GZip(level=6),\n",
    "    )\n",
    "attributes = ds.attrs\n",
    "attributes[\"pixelResolution\"] = {\n",
    "    \"dimensions\": 3 * [8],\n",
    "    \"unit\": \"nm\",\n",
    "}"
   ]
  },
  {
   "cell_type": "code",
   "execution_count": 32,
   "metadata": {},
   "outputs": [
    {
     "ename": "IndexError",
     "evalue": "unsupported selection item for basic indexing; expected integer or slice, got <class 'numpy.ndarray'>",
     "output_type": "error",
     "traceback": [
      "\u001b[0;31m---------------------------------------------------------------------------\u001b[0m",
      "\u001b[0;31mIndexError\u001b[0m                                Traceback (most recent call last)",
      "Cell \u001b[0;32mIn[32], line 1\u001b[0m\n\u001b[0;32m----> 1\u001b[0m ds[np\u001b[39m.\u001b[39;49marray([\u001b[39m1\u001b[39;49m,\u001b[39m2\u001b[39;49m,\u001b[39m3\u001b[39;49m,\u001b[39m4\u001b[39;49m])] \u001b[39m=\u001b[39m \u001b[39m1\u001b[39m\n",
      "File \u001b[0;32m~/miniconda3/envs/plasmodesmata_dacapo/lib/python3.10/site-packages/zarr/core.py:1391\u001b[0m, in \u001b[0;36mArray.__setitem__\u001b[0;34m(self, selection, value)\u001b[0m\n\u001b[1;32m   1389\u001b[0m     \u001b[39mself\u001b[39m\u001b[39m.\u001b[39mvindex[selection] \u001b[39m=\u001b[39m value\n\u001b[1;32m   1390\u001b[0m \u001b[39melse\u001b[39;00m:\n\u001b[0;32m-> 1391\u001b[0m     \u001b[39mself\u001b[39;49m\u001b[39m.\u001b[39;49mset_basic_selection(pure_selection, value, fields\u001b[39m=\u001b[39;49mfields)\n",
      "File \u001b[0;32m~/miniconda3/envs/plasmodesmata_dacapo/lib/python3.10/site-packages/zarr/core.py:1486\u001b[0m, in \u001b[0;36mArray.set_basic_selection\u001b[0;34m(self, selection, value, fields)\u001b[0m\n\u001b[1;32m   1484\u001b[0m     \u001b[39mreturn\u001b[39;00m \u001b[39mself\u001b[39m\u001b[39m.\u001b[39m_set_basic_selection_zd(selection, value, fields\u001b[39m=\u001b[39mfields)\n\u001b[1;32m   1485\u001b[0m \u001b[39melse\u001b[39;00m:\n\u001b[0;32m-> 1486\u001b[0m     \u001b[39mreturn\u001b[39;00m \u001b[39mself\u001b[39;49m\u001b[39m.\u001b[39;49m_set_basic_selection_nd(selection, value, fields\u001b[39m=\u001b[39;49mfields)\n",
      "File \u001b[0;32m~/miniconda3/envs/plasmodesmata_dacapo/lib/python3.10/site-packages/zarr/core.py:1788\u001b[0m, in \u001b[0;36mArray._set_basic_selection_nd\u001b[0;34m(self, selection, value, fields)\u001b[0m\n\u001b[1;32m   1784\u001b[0m \u001b[39mdef\u001b[39;00m \u001b[39m_set_basic_selection_nd\u001b[39m(\u001b[39mself\u001b[39m, selection, value, fields\u001b[39m=\u001b[39m\u001b[39mNone\u001b[39;00m):\n\u001b[1;32m   1785\u001b[0m     \u001b[39m# implementation of __setitem__ for array with at least one dimension\u001b[39;00m\n\u001b[1;32m   1786\u001b[0m \n\u001b[1;32m   1787\u001b[0m     \u001b[39m# setup indexer\u001b[39;00m\n\u001b[0;32m-> 1788\u001b[0m     indexer \u001b[39m=\u001b[39m BasicIndexer(selection, \u001b[39mself\u001b[39;49m)\n\u001b[1;32m   1790\u001b[0m     \u001b[39mself\u001b[39m\u001b[39m.\u001b[39m_set_selection(indexer, value, fields\u001b[39m=\u001b[39mfields)\n",
      "File \u001b[0;32m~/miniconda3/envs/plasmodesmata_dacapo/lib/python3.10/site-packages/zarr/indexing.py:350\u001b[0m, in \u001b[0;36mBasicIndexer.__init__\u001b[0;34m(self, selection, array)\u001b[0m\n\u001b[1;32m    347\u001b[0m         dim_indexer \u001b[39m=\u001b[39m SliceDimIndexer(dim_sel, dim_len, dim_chunk_len)\n\u001b[1;32m    349\u001b[0m     \u001b[39melse\u001b[39;00m:\n\u001b[0;32m--> 350\u001b[0m         \u001b[39mraise\u001b[39;00m \u001b[39mIndexError\u001b[39;00m(\u001b[39m'\u001b[39m\u001b[39munsupported selection item for basic indexing; \u001b[39m\u001b[39m'\u001b[39m\n\u001b[1;32m    351\u001b[0m                          \u001b[39m'\u001b[39m\u001b[39mexpected integer or slice, got \u001b[39m\u001b[39m{!r}\u001b[39;00m\u001b[39m'\u001b[39m\n\u001b[1;32m    352\u001b[0m                          \u001b[39m.\u001b[39mformat(\u001b[39mtype\u001b[39m(dim_sel)))\n\u001b[1;32m    354\u001b[0m     dim_indexers\u001b[39m.\u001b[39mappend(dim_indexer)\n\u001b[1;32m    356\u001b[0m \u001b[39mself\u001b[39m\u001b[39m.\u001b[39mdim_indexers \u001b[39m=\u001b[39m dim_indexers\n",
      "\u001b[0;31mIndexError\u001b[0m: unsupported selection item for basic indexing; expected integer or slice, got <class 'numpy.ndarray'>"
     ]
    }
   ],
   "source": []
  },
  {
   "cell_type": "code",
   "execution_count": 41,
   "metadata": {},
   "outputs": [],
   "source": [
    "all_pd_voxels = np.array(list(in_cylinder(a,b,5)))\n",
    "ds[all_pd_voxels[:,0],all_pd_voxels[:,1],all_pd_voxels[:,2]] = 1"
   ]
  },
  {
   "cell_type": "code",
   "execution_count": 40,
   "metadata": {},
   "outputs": [
    {
     "data": {
      "text/plain": [
       "array({(10, 5, 11), (2, 8, 3), (12, 16, 13), (13, 13, 13), (18, 19, 21), (3, 7, 6), (19, 15, 19), (13, 16, 18), (11, 10, 7), (12, 17, 14), (12, 9, 10), (2, 4, 5), (3, 0, 3), (21, 19, 18), (11, 14, 13), (6, 7, 8), (18, 20, 21), (18, 12, 17), (5, 8, 4), (4, 4, 3), (5, 11, 9), (4, 7, 8), (14, 10, 8), (8, 11, 7), (24, 18, 18), (14, 21, 17), (15, 17, 15), (5, 1, 1), (15, 9, 11), (23, 20, 16), (4, -3, 0), (17, 21, 15), (5, 4, 6), (6, 8, 8), (4, 8, 9), (6, 0, 4), (4, 0, 5), (14, 14, 14), (15, 10, 12), (5, 5, 7), (15, 13, 17), (4, 1, 6), (8, 4, 3), (17, 16, 21), (-1, -1, 2), (1, 6, 3), (16, 17, 17), (17, 13, 15), (20, 21, 16), (9, 8, 3), (7, 8, 10), (1, 3, -3), (17, 17, 22), (16, 18, 18), (0, 2, 1), (16, 10, 14), (20, 22, 17), (10, 16, 10), (7, 1, 7), (9, 12, 9), (16, 11, 15), (19, 18, 14), (13, 15, 12), (16, 14, 20), (3, 10, 7), (13, 18, 17), (3, 2, 3), (10, 8, 11), (18, 23, 17), (20, 17, 23), (9, 4, 10), (13, 8, 9), (13, 19, 18), (11, 13, 7), (13, 11, 14), (21, 21, 17), (11, 16, 12), (12, 12, 10), (2, 7, 5), (3, 3, 3), (22, 18, 15), (18, 18, 23), (11, 17, 13), (6, 10, 8), (11, 9, 9), (12, 13, 11), (18, 15, 17), (12, 16, 16), (2, 0, 2), (15, 20, 16), (22, 19, 16), (15, 12, 12), (6, 3, 5), (6, 6, 10), (5, 7, 6), (17, 16, 11), (15, 16, 18), (4, 3, 5), (8, 7, 4), (6, 7, 11), (14, 17, 14), (14, 9, 10), (5, 8, 7), (17, 17, 12), (5, 0, 3), (4, 4, 6), (7, 11, 5), (23, 19, 18), (4, 7, 11), (-1, 2, -1), (14, 10, 11), (8, 10, 14), (0, 5, 2), (7, 4, 2), (17, 20, 22), (7, 3, 6), (10, 11, 7), (17, 12, 18), (9, 15, 10), (1, 2, 0), (16, 13, 14), (20, 17, 13), (16, 16, 19), (9, 7, 5), (7, 7, 12), (0, 6, 2), (-1, -1, 5), (16, 17, 20), (10, 12, 7), (9, 8, 6), (18, 18, 13), (12, 15, 11), (10, 7, 14), (3, 6, 4), (19, 13, 15), (13, 14, 14), (3, -2, 0), (3, -1, 0), (22, 21, 16), (3, 9, 9), (2, 2, 1), (12, 11, 13), (13, 15, 15), (6, 6, 0), (13, 7, 11), (21, 17, 14), (19, 17, 21), (3, 2, 6), (11, 12, 9), (12, 8, 7), (10, 8, 14), (2, 3, 2), (22, 22, 16), (21, 18, 15), (18, 14, 20), (11, 13, 10), (11, 5, 6), (11, 16, 15), (6, 9, 10), (6, 1, 6), (-2, 4, -2), (-1, 4, -2), (-2, 4, -1), (-1, 4, -1), (15, 19, 18), (4, 6, 5), (15, 11, 14), (8, 10, 4), (6, 10, 11), (14, 20, 14), (6, 2, 7), (14, 12, 10), (15, 20, 19), (5, 3, 3), (15, 12, 15), (17, 23, 17), (5, 6, 8), (14, 13, 11), (4, 2, 7), (14, 16, 16), (8, 13, 14), (7, 7, 2), (-1, 0, 5), (10, 14, 7), (17, 15, 18), (9, 10, 6), (7, 10, 13), (1, 5, 0), (8, 6, 11), (10, 7, 4), (9, 14, 12), (16, 20, 20), (1, 1, 2), (0, 5, 5), (16, 12, 16), (9, 11, 6), (13, 17, 15), (20, 16, 15), (7, 3, 9), (10, 11, 10), (10, 10, 14), (16, 13, 17), (9, 6, 13), (3, 1, 0), (13, 9, 10), (21, 20, 15), (16, 16, 22), (3, 4, 5), (12, 14, 13), (13, 10, 11), (3, 5, 6), (11, 15, 9), (22, 20, 18), (3, -3, 2), (11, 7, 5), (21, 16, 17), (2, 6, 2), (12, 15, 14), (2, -1, -1), (12, 7, 10), (18, 17, 20), (19, 13, 18), (11, 8, 6), (6, 12, 10), (2, 2, 4), (15, 22, 18), (15, 14, 14), (5, 9, 9), (6, 5, 7), (4, 5, 8), (11, 4, 8), (11, 11, 16), (14, 19, 17), (14, 11, 13), (15, 15, 15), (7, 10, 3), (5, 10, 10), (15, 18, 20), (8, 9, 6), (6, 9, 13), (-2, 4, 1), (-1, 4, 1), (15, 8, 12), (17, 19, 14), (5, 2, 5), (4, 6, 8), (15, 11, 17), (4, -2, 4), (4, -1, 4), (17, 18, 18), (7, 13, 13), (14, 12, 13), (0, 7, 4), (16, 15, 17), (10, 10, 4), (20, 18, 14), (9, 6, 3), (7, 6, 10), (10, 13, 9), (17, 14, 20), (-3, 0, 3), (9, 9, 8), (1, 4, 2), (19, 23, 17), (0, 0, 1), (20, 19, 15), (16, 19, 23), (10, 14, 10), (17, 15, 21), (10, 6, 6), (-3, 1, 4), (9, 10, 9), (9, 2, 5), (19, 16, 14), (13, 13, 12), (13, 16, 17), (12, 17, 13), (12, 9, 9), (2, 4, 4), (3, 8, 6), (13, 17, 18), (3, 0, 2), (21, 19, 17), (11, 14, 12), (2, 1, -2), (2, 1, -1), (12, 10, 10), (12, 18, 14), (18, 20, 20), (4, 5, -1), (2, 5, 5), (18, 12, 16), (3, 1, 3), (11, 11, 6), (13, 9, 13), (21, 20, 18), (3, 4, 8), (18, 13, 17), (4, 9, 4), (18, 16, 22), (5, 12, 9), (17, 21, 14), (11, 15, 12), (6, 8, 7), (4, 8, 8), (6, 0, 3), (11, 7, 8), (14, 14, 13), (15, 10, 11), (15, 21, 20), (5, 5, 6), (15, 13, 16), (4, 1, 5), (8, 12, 6), (8, 4, 2), (6, 4, 9), (14, 15, 14), (14, 18, 19), (17, 14, 10), (15, 14, 17), (7, 9, 5), (5, 9, 12), (8, 5, 3), (17, 17, 21), (16, 19, 13), (14, 11, 16), (5, -2, 2), (5, -1, 2), (16, 18, 17), (23, 17, 17), (20, 22, 16), (7, 1, 6), (9, 12, 8), (1, 7, 2), (7, 4, 11), (8, 8, 13), (0, 3, 1), (19, 18, 13), (16, 11, 14), (16, 14, 19), (17, 18, 21), (10, 9, 6), (9, 13, 9), (9, 5, 5), (0, 4, 2), (19, 19, 14), (16, 15, 20), (10, 10, 7), (13, 19, 17), (20, 18, 17), (9, 6, 6), (10, 13, 12), (9, 9, 11), (10, 12, 16), (3, 3, 2), (13, 12, 14), (21, 22, 17), (19, 14, 20), (11, 17, 12), (18, 16, 12), (12, 13, 10), (2, 8, 5), (18, 15, 16), (12, 16, 15), (2, 0, 1), (22, 19, 15), (13, 13, 15), (18, 19, 23), (3, 7, 8), (19, 15, 21), (13, 16, 20), (11, 10, 9), (12, 6, 7), (12, 17, 16), (12, 9, 12), (2, 4, 7), (21, 19, 20), (8, 7, 3), (6, 7, 10), (5, 8, 6), (17, 17, 11), (5, 0, 2), (4, 4, 5), (7, 11, 4), (5, 11, 11), (4, 7, 10), (14, 10, 10), (8, 11, 9), (15, 17, 17), (5, 1, 3), (15, 9, 13), (17, 21, 17), (7, 4, 1), (8, 8, 3), (5, 4, 8), (4, 8, 11), (6, 0, 6), (-1, 3, -2), (-2, 3, -1), (-1, 3, -1), (4, 0, 7), (14, 14, 16), (7, 5, 2), (23, 16, 20), (7, 7, 11), (0, 6, 1), (-2, -2, 4), (-2, -1, 4), (-1, -2, 4), (-1, -1, 4), (1, 6, 5), (10, 12, 6), (17, 13, 17), (20, 21, 18), (16, 17, 19), (9, 8, 5), (7, 8, 12), (18, 18, 12), (16, 18, 20), (0, 2, 3), (16, 10, 16), (10, 16, 12), (18, 19, 13), (9, 12, 11), (12, 19, 16), (19, 18, 16), (13, 15, 14), (1, -2, 5), (1, -1, 5), (13, 7, 10), (13, 18, 19), (3, 2, 5), (12, 8, 6), (10, 8, 13), (2, 3, 1), (13, 8, 11), (21, 18, 14), (18, 14, 19), (11, 13, 9), (13, 11, 16), (11, 5, 5), (11, 16, 14), (12, 12, 12), (4, 7, 0), (2, 7, 7), (3, 3, 5), (22, 18, 17), (11, 6, 6), (11, 17, 15), (6, 10, 10), (11, 9, 11), (-1, 5, -1), (5, 4, -1), (4, 8, 1), (12, 5, 9), (18, 15, 19), (4, 0, -3), (15, 20, 18), (15, 12, 14), (4, 10, 10), (6, 3, 7), (14, 13, 10), (8, 14, 9), (6, 6, 12), (14, 16, 15), (7, 7, 1), (5, 7, 8), (17, 16, 13), (15, 16, 20), (4, 3, 7), (23, 18, 19), (8, 7, 6), (14, 17, 16), (14, 9, 12), (7, 8, 2), (5, 8, 9), (-2, 1, 5), (-1, 1, 5), (5, 0, 5), (7, 11, 7), (4, 4, 8), (17, 19, 23), (16, 21, 15), (16, 20, 19), (1, 1, 1), (0, 5, 4), (9, 11, 5), (20, 16, 14), (7, 3, 8), (10, 11, 9), (9, 15, 12), (1, 2, 2), (16, 13, 16), (20, 17, 15), (16, 16, 21), (9, 7, 7), (19, 21, 16), (13, 10, 10), (16, 17, 22), (3, 5, 5), (10, 4, 5), (18, 18, 15), (2, 6, 1), (12, 15, 13), (12, 7, 9), (3, 6, 6), (19, 13, 17), (13, 14, 16), (3, -2, 2), (3, -1, 2), (11, 8, 5), (2, 2, 3), (12, 11, 15), (6, 6, 2), (13, 7, 13), (21, 17, 16), (19, 17, 23), (3, 2, 8), (11, 12, 11), (11, 4, 7), (12, 8, 9), (15, 16, 10), (2, 3, 4), (15, 15, 14), (5, 10, 9), (15, 18, 19), (11, 5, 8), (6, -1, 3), (8, 9, 5), (6, 9, 12), (-2, 4, 0), (-1, 4, 0), (15, 8, 11), (17, 19, 13), (15, 19, 20), (5, 2, 4), (4, 6, 7), (15, 11, 16), (4, -2, 3), (4, -1, 3), (8, 10, 6), (6, 10, 13), (8, 2, 2), (14, 20, 16), (6, 2, 9), (-2, 5, 1), (-1, 5, 1), (14, 12, 12), (17, 20, 14), (5, 3, 5), (15, 12, 17), (17, 23, 19), (5, 6, 10), (14, 13, 13), (16, 16, 11), (14, 16, 18), (8, 5, 12), (7, 7, 4), (0, 0, 0), (20, 19, 14), (16, 19, 22), (10, 14, 9), (17, 15, 20), (10, 6, 5), (-3, 1, 3), (9, 10, 8), (1, 5, 2), (0, 1, 1), (19, 16, 13), (20, 20, 15), (10, 15, 10), (10, 7, 6), (9, 14, 14), (16, 20, 22), (1, 1, 4), (16, 12, 18), (0, -3, 3), (9, 11, 8), (13, 17, 17), (20, 16, 17), (9, 3, 4), (18, 21, 15), (20, 15, 21), (12, 18, 13), (19, 17, 13), (10, 10, 16), (2, 5, 4), (3, 1, 2), (13, 9, 12), (21, 20, 17), (3, 4, 7), (18, 13, 16), (12, 14, 15), (6, 9, 2), (13, 10, 13), (4, 9, 3), (18, 16, 21), (3, 5, 8), (11, 15, 11), (11, 7, 7), (21, 16, 19), (2, 6, 4), (2, -2, 0), (2, -1, 0), (12, 7, 12), (18, 17, 22), (11, 8, 8), (8, 12, 5), (6, 12, 12), (6, 4, 8), (5, 6, 0), (14, 15, 13), (15, 14, 16), (7, 9, 4), (5, 9, 11), (8, 5, 2), (6, 5, 9), (4, 5, 10), (16, 19, 12), (14, 19, 19), (14, 11, 15), (5, -2, 1), (5, -1, 1), (15, 15, 17), (7, 10, 5), (7, 2, 1), (8, 6, 3), (15, 18, 22), (14, 8, 9), (8, 9, 8), (-2, 4, 3), (-1, 4, 3), (5, 2, 7), (17, 11, 12), (17, 18, 20), (9, 13, 8), (7, 5, 11), (1, 0, -1), (9, 16, 13), (0, 4, 1), (19, 19, 13), (16, 15, 19), (10, 10, 6), (20, 18, 16), (9, 6, 5), (7, 6, 12), (10, 13, 11), (19, 20, 14), (9, 9, 10), (1, 4, 4), (0, 0, 3), (13, 20, 17), (20, 19, 17), (10, 14, 12), (10, 6, 8), (9, 10, 11), (19, 16, 16), (13, 13, 14), (3, 7, 7), (18, 17, 12), (13, 16, 19), (19, 15, 20), (12, 6, 6), (12, 17, 15), (12, 9, 11), (2, 4, 6), (3, 8, 8), (13, 17, 20), (3, 0, 4), (21, 19, 19), (11, 14, 14), (2, 1, 0), (12, 18, 16), (12, 10, 12), (13, 6, 10), (4, 5, 0), (18, 20, 22), (2, 5, 7), (18, 12, 18), (11, 11, 8), (13, 9, 15), (22, 16, 17), (15, 18, 12), (8, 11, 8), (18, 13, 19), (2, -3, 2), (15, 17, 16), (5, 1, 2), (4, -3, 1), (8, 8, 2), (17, 21, 16), (5, 4, 7), (6, 8, 9), (4, 8, 10), (6, 0, 5), (11, 7, 10), (4, 0, 6), (14, 14, 15), (15, 10, 13), (7, 5, 1), (5, 5, 8), (15, 13, 18), (4, 1, 7), (8, 12, 8), (23, 16, 19), (8, 4, 4), (14, 15, 16), (17, 22, 16), (7, 6, 2), (14, 18, 21), (17, 14, 12), (15, 14, 19), (7, 9, 7), (14, 7, 11), (1, 3, -2), (1, 3, -1), (17, 17, 23), (16, 18, 19), (23, 17, 19), (0, 2, 2), (20, 22, 18), (10, 16, 11), (9, 12, 10), (1, 7, 4), (13, 16, 9), (0, 3, 3), (19, 18, 15), (16, 11, 16), (17, 18, 23), (10, 9, 8), (9, 13, 11), (9, 5, 7), (1, 0, 1), (18, 23, 18), (19, 19, 16), (13, 8, 10), (13, 19, 19), (13, 11, 15), (12, 12, 11), (2, 7, 6), (3, 3, 4), (6, 11, 5), (13, 12, 16), (22, 18, 16), (11, 6, 5), (18, 18, 24), (11, 17, 14), (11, 9, 10), (12, 13, 12), (12, 5, 8), (2, 8, 7), (18, 15, 18), (12, 16, 17), (2, 0, 3), (22, 19, 17), (21, 15, 16), (3, 7, 10), (11, 18, 15), (11, 10, 11), (5, 5, -1), (12, 6, 9), (4, 1, -3), (12, 9, 14), (15, 16, 19), (14, 18, 11), (8, 7, 5), (6, 7, 12), (14, 17, 15), (5, 8, 8), (17, 17, 13), (5, 0, 4), (4, 4, 7), (7, 11, 6), (14, 10, 12), (8, 11, 11), (15, 17, 19), (5, 1, 5), (15, 9, 15), (7, 12, 7), (17, 21, 19), (7, 4, 3), (8, 8, 5), (5, 4, 10), (17, 20, 23), (16, 14, 11), (14, 14, 18), (1, 2, 1), (20, 17, 14), (7, 7, 13), (0, 6, 3), (19, 21, 15), (1, 6, 7), (16, 17, 21), (10, 12, 8), (17, 13, 19), (10, 4, 4), (9, 8, 7), (20, 13, 16), (1, 3, 1), (18, 18, 14), (19, 22, 16), (16, 18, 22), (0, 2, 5), (3, 6, 5), (10, 5, 5), (10, 16, 14), (18, 19, 15), (9, 12, 13), (12, 11, 14), (13, 15, 16), (6, 6, 1), (13, 7, 12), (19, 17, 22), (3, 2, 7), (12, 8, 8), (2, 3, 3), (6, 7, 2), (13, 8, 13), (21, 18, 16), (18, 14, 21), (11, 13, 11), (11, 5, 7), (11, 16, 16), (12, 12, 14), (4, 7, 2), (22, 18, 19), (11, 6, 8), (21, 14, 18), (8, 10, 5), (6, 10, 12), (11, 9, 13), (6, 2, 8), (-1, 5, 0), (5, 4, 0), (18, 15, 21), (17, 20, 13), (15, 20, 20), (5, 3, 4), (15, 12, 16), (17, 23, 18), (5, 6, 9), (8, 3, 2), (6, 3, 9), (14, 13, 12), (4, 2, 8), (8, 14, 11), (16, 16, 10), (14, 16, 17), (7, 7, 3), (5, 7, 10), (17, 16, 15), (4, 3, 9), (8, 7, 8), (16, 17, 11), (14, 17, 18), (14, 9, 14), (8, 6, 12), (7, 8, 4), (20, 20, 14), (7, 11, 9), (10, 15, 9), (9, 14, 13), (16, 20, 21), (1, 1, 3), (0, 5, 6), (16, 12, 17), (9, 11, 7), (20, 16, 16), (9, 3, 3), (7, 3, 10), (10, 11, 11), (18, 21, 14), (9, 15, 14), (3, 2, -3), (1, 2, 4), (16, 13, 18), (10, 8, 5), (20, 17, 17), (9, 4, 4), (18, 22, 15), (18, 14, 11), (9, 7, 9), (19, 21, 18), (13, 10, 12), (3, 5, 7), (3, -3, 3), (18, 18, 17), (2, 6, 3), (12, 15, 15), (12, 7, 11), (6, 2, -1), (18, 17, 21), (3, 6, 8), (19, 13, 19), (13, 14, 18), (3, -2, 4), (3, -1, 4), (11, 8, 7), (4, 2, -2), (4, 2, -1), (2, 2, 5), (12, 11, 17), (6, 6, 4), (21, 17, 18), (11, 12, 13), (6, 5, 8), (12, 8, 11), (15, 15, 16), (7, 10, 4), (5, 10, 11), (8, 6, 2), (15, 18, 21), (8, 9, 7), (-2, 4, 2), (-1, 4, 2), (17, 19, 15), (15, 19, 22), (5, 2, 6), (17, 11, 11), (4, 6, 9), (7, 14, 10), (15, 11, 18), (4, -1, 5), (8, 10, 8), (8, 2, 4), (14, 20, 18), (-1, 5, 3), (14, 12, 14), (7, 3, 0), (5, 3, 7), (17, 12, 12), (7, 6, 11), (16, 16, 13), (1, 4, 3), (19, 23, 18), (0, 0, 2), (20, 19, 16), (10, 14, 11), (10, 6, 7), (9, 10, 10), (9, 2, 6), (1, 5, 4), (0, 1, 3), (19, 16, 15), (20, 20, 17), (10, 15, 12), (10, 7, 8), (3, 6, -1), (13, 14, 8), (3, 9, 3), (3, 8, 7), (13, 17, 19), (9, 3, 6), (18, 21, 17), (12, 18, 15), (12, 10, 11), (13, 6, 9), (2, 5, 6), (3, 1, 4), (11, 11, 7), (13, 9, 14), (22, 16, 16), (21, 20, 19), (3, 4, 9), (15, 18, 11), (18, 13, 18), (12, 14, 17), (2, -3, 1), (6, 9, 4), (13, 10, 15), (4, 9, 5), (6, 1, 0), (22, 17, 17), (11, 15, 13), (11, 7, 9), (15, 19, 12), (21, 16, 21), (15, 11, 8), (2, 6, 6), (2, -2, 2), (2, -1, 2), (15, 21, 21), (11, 8, 10), (8, 12, 7), (6, 4, 10), (14, 15, 15), (7, 6, 1), (14, 18, 20), (17, 14, 11), (15, 14, 18), (7, 9, 6), (8, 13, 8), (8, 5, 4), (6, 5, 11), (14, 7, 10), (16, 19, 14), (17, 15, 12), (14, 11, 17), (5, -1, 3), (15, 15, 19), (7, 10, 7), (23, 17, 18), (7, 2, 3), (-3, 4, 0), (14, 8, 11), (1, 7, 3), (8, 8, 14), (16, 23, 20), (0, 3, 2), (17, 18, 22), (10, 9, 7), (9, 13, 10), (16, 12, 10), (9, 5, 6), (1, 8, 4), (1, 0, 0), (0, 4, 3), (19, 19, 15), (16, 15, 21), (10, 10, 8), (20, 18, 18), (9, 6, 7), (10, 13, 13), (19, 20, 16), (9, 9, 12), (1, 4, 6), (0, 0, 5), (13, 12, 15), (10, 6, 10), (18, 16, 13), (2, 8, 6), (13, 13, 16), (21, 15, 15), (3, 7, 9), (11, 18, 14), (19, 15, 22), (11, 10, 10), (12, 6, 8), (12, 17, 17), (12, 9, 13), (6, 4, 0), (2, 4, 8), (3, 0, 6), (11, 14, 16), (2, 1, 2), (5, 9, 3), (12, 10, 14), (6, 5, 1), (4, 5, 2), (2, 5, 9), (11, 11, 10), (22, 16, 19), (14, 11, 7), (8, 11, 10), (15, 17, 18), (5, 1, 4), (15, 9, 14), (7, 12, 6), (17, 21, 18), (8, 8, 4), (5, 4, 9), (6, 8, 11), (16, 14, 10), (17, 18, 12), (14, 14, 17), (15, 10, 15), (7, 13, 7), (7, 5, 3), (5, 5, 10), (8, 12, 10), (8, 4, 6), (16, 15, 11), (14, 15, 18), (17, 14, 14), (1, 6, 6), (7, 9, 9), (17, 13, 18), (20, 21, 19), (7, 8, 13), (1, 3, 0), (19, 22, 15), (16, 18, 21), (0, 2, 4), (10, 5, 4), (10, 16, 13), (18, 19, 14), (9, 12, 12), (19, 15, 12), (1, 7, 6), (13, 16, 11), (0, 3, 5), (19, 18, 17), (20, 14, 15), (10, 17, 14), (10, 9, 10), (9, 13, 13), (2, 4, -2), (2, 4, -1), (9, 5, 9), (19, 19, 18), (6, 7, 1), (13, 8, 12), (18, 20, 14), (13, 11, 17), (12, 12, 13), (4, 7, 1), (2, 7, 8), (3, 3, 6), (6, 11, 7), (13, 12, 18), (22, 18, 18), (11, 6, 7), (21, 14, 17), (11, 17, 16), (11, 9, 12), (12, 13, 14), (4, 8, 2), (18, 15, 20), (4, 0, -2), (4, 0, -1), (2, 0, 5), (12, 16, 19), (22, 19, 19), (21, 15, 18), (11, 10, 13), (6, 3, 8), (5, 5, 0), (8, 14, 10), (15, 13, 10), (5, 7, 9), (17, 16, 14), (15, 16, 21), (4, 3, 8), (8, 15, 11), (8, 7, 7), (14, 17, 17), (14, 9, 13), (7, 8, 3), (5, 8, 10), (17, 17, 15), (5, 0, 6), (4, 4, 9), (7, 11, 8), (-2, 2, 1), (-1, 2, 1), (8, 11, 13), (14, 10, 14), (16, 21, 16), (15, 17, 21), (5, 1, 7), (7, 12, 9), (7, 4, 5), (9, 15, 13), (16, 14, 13), (1, 2, 3), (10, 8, 4), (20, 17, 16), (9, 4, 3), (9, 7, 8), (13, 11, 7), (0, 6, 5), (19, 21, 17), (0, -1, 1), (10, 12, 10), (10, 4, 6), (9, 8, 9), (1, 3, 3), (13, 12, 8), (18, 18, 16), (19, 22, 18), (19, 14, 14), (3, 6, 7), (10, 5, 7), (13, 14, 17), (3, -2, 3), (3, -1, 3), (12, 16, 9), (18, 19, 17), (6, 3, -1), (12, 11, 16), (13, 15, 18), (6, 6, 3), (21, 17, 17), (11, 12, 12), (12, 8, 10), (15, 16, 11), (4, 3, -2), (4, 3, -1), (2, 3, 5), (6, 7, 4), (21, 18, 18), (11, 13, 13), (11, 5, 9), (5, 11, 5), (12, 12, 16), (2, -4, 2), (4, 7, 4), (15, 19, 21), (8, 10, 7), (8, 2, 3), (14, 20, 17), (-2, 5, 2), (-1, 5, 2), (17, 20, 15), (5, 3, 6), (17, 12, 11), (15, 12, 18), (17, 23, 20), (5, 6, 11), (8, 3, 4), (14, 13, 14), (8, 14, 13), (16, 16, 12), (14, 16, 19), (7, 7, 5), (17, 16, 17), (16, 17, 13), (14, 17, 20), (17, 13, 11), (1, 5, 3), (0, 1, 2), (20, 20, 16), (10, 15, 11), (10, 7, 7), (9, 14, 15), (16, 20, 23), (1, 1, 5), (16, 12, 19), (0, -3, 4), (9, 11, 9), (20, 16, 18), (9, 3, 5), (12, 11, 6), (10, 11, 13), (18, 21, 16), (19, 17, 14), (13, 18, 13), (1, 2, 6), (16, 13, 20), (10, 8, 7), (9, 4, 6), (18, 22, 17), (18, 14, 13), (9, 7, 11), (12, 14, 16), (6, 9, 3), (13, 10, 14), (22, 17, 16), (3, 5, 9), (21, 16, 20), (2, 6, 5), (12, 15, 17), (2, -2, 1), (2, -1, 1), (6, 10, 4), (12, 7, 13), (6, 2, 0), (18, 17, 23), (3, 6, 10), (6, 13, 9), (3, -1, 6), (11, 8, 9), (15, 12, 8), (5, 6, 1), (4, 10, 4), (4, 2, 0), (2, 2, 7), (21, 17, 20), (8, 13, 7), (11, 12, 15), (6, 5, 10), (5, 7, 2), (4, 3, 1), (14, 19, 20), (17, 15, 11), (15, 15, 18), (7, 10, 6), (7, 2, 2), (8, 6, 4), (14, 8, 10), (8, 9, 9), (-2, 4, 4), (-1, 4, 4), (16, 23, 19), (17, 19, 17), (5, 2, 8), (17, 11, 13), (8, 10, 10), (16, 20, 13), (8, 2, 6), (0, 5, -1), (16, 12, 9), (14, 12, 16), (14, 20, 20), (7, 3, 2), (5, 3, 9), (16, 13, 10), (16, 16, 15), (19, 20, 15), (3, 4, -2), (3, 4, -1), (1, 4, 5), (0, 0, 4), (20, 19, 18), (10, 14, 13), (10, 6, 9), (9, 10, 12), (1, 5, 6), (1, -3, 2), (0, 1, 5), (19, 16, 17), (20, 20, 19), (10, 7, 10), (18, 17, 13), (3, 8, 9), (3, 0, 5), (2, 2, -3), (18, 21, 19), (11, 14, 15), (2, 1, 1), (5, 9, 2), (12, 10, 13), (12, 18, 17), (6, 5, 0), (4, 5, 1), (2, 5, 8), (3, 1, 6), (11, 11, 9), (13, 9, 16), (22, 16, 18), (15, 18, 13), (2, -3, 3), (6, 9, 6), (22, 17, 19), (4, 9, 7), (6, 1, 2), (11, 15, 15), (6, 8, 10), (11, 7, 11), (5, 2, -2), (5, 2, -1), (4, 6, 1), (15, 11, 10), (2, -2, 4), (2, -1, 4), (15, 10, 14), (5, 5, 9), (15, 13, 19), (4, 1, 8), (8, 12, 9), (8, 4, 5), (16, 15, 10), (14, 15, 17), (17, 22, 17), (7, 6, 3), (17, 14, 13), (15, 14, 20), (7, 9, 8), (8, 13, 10), (8, 5, 6), (-1, 0, 1), (16, 19, 16), (17, 15, 14), (5, -1, 5), (7, 10, 9), (23, 17, 20), (7, 2, 5), (14, 8, 13), (1, 7, 5), (13, 16, 10), (0, 3, 4), (16, 11, 17), (20, 14, 14), (10, 17, 13), (10, 9, 9), (9, 13, 12), (9, 5, 8), (13, 17, 11), (1, 0, 2), (18, 23, 19), (0, 4, 5), (19, 19, 17), (20, 15, 15), (10, 10, 10), (20, 18, 20), (2, 5, -2), (2, 5, -1), (9, 6, 9), (10, 13, 15), (13, 9, 6), (19, 20, 18), (9, 9, 14), (3, 4, 1), (6, 11, 6), (13, 12, 17), (18, 16, 15), (12, 13, 13), (2, 8, 8), (12, 16, 18), (2, 0, 4), (22, 19, 18), (13, 13, 18), (21, 15, 17), (11, 10, 12), (12, 6, 10), (15, 13, 9), (4, 1, -2), (4, 1, -1), (6, 12, 6), (12, 9, 15), (6, 4, 2), (14, 18, 12), (15, 14, 10), (11, 14, 18), (2, 1, 4), (5, 9, 5), (4, 5, 4), (17, 17, 14), (11, 11, 12), (14, 11, 9), (-2, 2, 0), (-1, 2, 0), (8, 11, 12), (14, 10, 13), (15, 17, 20), (5, 1, 6), (7, 12, 8), (17, 21, 20), (7, 4, 4), (8, 8, 6), (-2, 3, 1), (-1, 3, 1), (16, 22, 16), (16, 14, 12), (17, 18, 14), (14, 14, 19), (7, 13, 9), (7, 5, 5), (8, 4, 8), (16, 15, 13), (0, 6, 4), (9, 9, 4), (10, 12, 9), (17, 13, 20), (9, 8, 8), (20, 13, 17), (1, 3, 2), (13, 12, 7), (19, 22, 17), (19, 14, 13), (0, 2, 6), (10, 5, 6), (10, 16, 15), (13, 13, 8), (18, 19, 16), (9, 12, 14), (3, 7, 1), (19, 15, 14), (13, 16, 13), (0, 3, 7), (19, 18, 19), (13, 15, 17), (20, 14, 17), (12, 9, 5), (10, 9, 12), (2, 4, 0), (9, 5, 11), (11, 14, 8), (6, 7, 3), (13, 8, 14), (21, 18, 17), (11, 13, 12), (18, 12, 12), (4, 4, -2), (4, 4, -1), (11, 16, 17), (12, 12, 15), (4, 7, 3), (3, 3, 8), (6, 11, 9), (22, 18, 20), (11, 6, 9), (11, 9, 14), (12, 13, 16), (5, 4, 1), (6, 8, 3), (4, 8, 4), (18, 15, 22), (4, 0, 0), (15, 20, 21), (14, 14, 9), (21, 15, 20), (8, 3, 3), (11, 10, 15), (6, 3, 10), (8, 14, 12), (15, 13, 12), (5, 7, 11), (17, 16, 16), (8, 7, 9), (16, 17, 12), (14, 17, 19), (17, 13, 10), (14, 9, 15), (7, 8, 5), (5, 8, 12), (17, 17, 17), (-3, 3, 0), (7, 11, 10), (16, 18, 13), (-2, 2, 3), (-1, 2, 3), (14, 10, 16), (16, 21, 18), (7, 1, 2), (7, 4, 7), (10, 11, 12), (9, 15, 15), (13, 18, 12), (3, 2, -2), (3, 2, -1), (1, 2, 5), (16, 13, 19), (10, 8, 6), (20, 17, 18), (9, 4, 5), (18, 22, 16), (18, 14, 12), (9, 7, 10), (13, 19, 13), (13, 11, 9), (19, 21, 19), (0, -2, 3), (0, -1, 3), (10, 12, 12), (10, 4, 8), (9, 8, 11), (3, 3, -2), (3, 3, -1), (18, 18, 18), (12, 15, 16), (19, 14, 16), (6, 10, 3), (3, 6, 9), (18, 15, 12), (13, 14, 19), (3, -1, 5), (6, 3, 0), (2, 2, 6), (6, 6, 5), (21, 17, 19), (11, 12, 14), (5, 7, 1), (12, 8, 12), (15, 16, 13), (4, 3, 0), (2, 3, 7), (21, 18, 20), (11, 13, 15), (5, 8, 2), (11, 5, 11), (5, 0, -1), (4, 4, 1), (5, 11, 7), (4, 7, 6), (17, 19, 16), (4, 6, 10), (7, 14, 11), (8, 10, 9), (8, 2, 5), (14, 20, 19), (-1, 5, 4), (14, 12, 15), (17, 20, 17), (7, 3, 1), (5, 3, 8), (17, 12, 13), (8, 3, 6), (16, 13, 9), (14, 13, 16), (16, 16, 14), (7, 7, 7), (17, 16, 19), (-3, 2, 2), (16, 17, 15), (3, 5, -1), (1, 5, 5), (0, 1, 4), (20, 20, 18), (10, 15, 13), (10, 7, 9), (13, 14, 9), (3, 9, 4), (1, 1, 7), (9, 11, 11), (20, 16, 20), (2, 2, -4), (9, 3, 7), (12, 11, 8), (10, 11, 15), (1, -2, 1), (1, -1, 1), (18, 21, 18), (19, 17, 16), (13, 18, 15), (3, 2, 1), (10, 8, 9), (3, 1, 5), (2, 3, -3), (9, 4, 8), (18, 22, 19), (18, 14, 15), (9, 7, 13), (21, 21, 15), (12, 14, 18), (6, 9, 5), (13, 10, 16), (4, 9, 6), (6, 1, 1), (22, 17, 18), (11, 15, 14), (15, 19, 13), (21, 16, 22), (4, 6, 0), (15, 11, 9), (2, 6, 7), (12, 15, 19), (2, -2, 3), (2, -1, 3), (6, 10, 6), (6, 2, 2), (11, 8, 11), (5, 3, -1), (15, 12, 10), (5, 6, 3), (4, 10, 6), (4, 2, 2), (14, 16, 11), (21, 17, 22), (8, 13, 9), (8, 5, 5), (16, 19, 15), (17, 15, 13), (14, 11, 18), (5, -1, 4), (15, 15, 20), (7, 10, 8), (7, 2, 4), (8, 6, 6), (-3, 4, 1), (-2, 1, 1), (-1, 1, 1), (8, 9, 11), (14, 8, 12), (17, 19, 19), (17, 11, 15), (16, 20, 15), (8, 2, 8), (16, 12, 11), (14, 12, 18), (1, 8, 5), (13, 17, 10), (0, 4, 4), (7, 3, 4), (20, 15, 14), (10, 10, 9), (20, 18, 19), (9, 6, 8), (10, 13, 14), (19, 20, 17), (9, 9, 13), (3, 4, 0), (1, 4, 7), (0, 0, 6), (20, 19, 20), (12, 14, 8), (10, 14, 15), (13, 10, 6), (18, 24, 18), (10, 6, 11), (18, 16, 14), (9, 10, 14), (3, 5, 1), (1, 5, 8), (1, -3, 4), (19, 16, 19), (13, 13, 17), (12, 15, 9), (18, 17, 15), (19, 13, 13), (12, 17, 18), (6, 4, 1), (3, 0, 7), (15, 14, 9), (11, 14, 17), (2, 1, 3), (5, 9, 4), (-4, 2, 2), (12, 10, 15), (6, 5, 2), (4, 5, 3), (11, 11, 11), (22, 16, 20), (14, 11, 8), (15, 15, 10), (5, 10, 5), (15, 18, 15), (22, 17, 21), (4, 9, 9), (6, 1, 4), (11, 15, 17), (6, 8, 12), (11, 7, 13), (-2, 3, 0), (-1, 3, 0), (5, 2, 0), (4, 6, 3), (17, 18, 13), (15, 10, 16), (7, 13, 8), (7, 5, 4), (5, 5, 11), (8, 12, 11), (8, 4, 7), (16, 15, 12), (14, 15, 19), (17, 22, 19), (7, 6, 5), (17, 14, 15), (9, 9, 3), (7, 9, 10), (1, 4, -3), (8, 5, 8), (-2, 0, 3), (-1, 0, 3), (16, 19, 18), (9, 10, 4), (7, 2, 7), (13, 13, 7), (3, 7, 0), (19, 15, 13), (1, 7, 7), (13, 16, 12), (0, 3, 6), (19, 18, 18), (20, 14, 16), (10, 9, 11), (9, 13, 14), (9, 5, 10), (13, 17, 13), (3, 0, -3), (1, 0, 4), (0, 4, 7), (19, 19, 19), (20, 15, 17), (11, 14, 7), (10, 10, 12), (18, 20, 15), (20, 18, 22), (2, 5, 0), (9, 6, 11), (3, 1, -2), (3, 1, -1), (13, 9, 8), (10, 13, 17), (3, 4, 3), (19, 12, 16), (3, 3, 7), (6, 11, 8), (18, 13, 12), (11, 17, 17), (18, 16, 17), (12, 13, 15), (6, 8, 2), (4, 8, 3), (2, 0, 6), (14, 14, 8), (21, 15, 19), (11, 10, 14), (15, 21, 15), (5, 5, 1), (12, 6, 12), (15, 13, 11), (4, 1, 0), (6, 12, 8), (6, 4, 4), (14, 15, 9), (14, 18, 14), (8, 15, 12), (15, 14, 12), (2, 1, 6), (5, 8, 11), (17, 17, 16), (4, 4, 10), (16, 18, 12), (-2, 2, 2), (-1, 2, 2), (8, 11, 14), (14, 10, 15), (16, 21, 17), (7, 1, 1), (5, 1, 8), (7, 12, 10), (17, 21, 22), (7, 4, 6), (8, 8, 8), (-2, 3, 3), (-1, 3, 3), (16, 22, 18), (16, 14, 14), (17, 18, 16), (7, 13, 11), (7, 5, 7), (16, 15, 15), (13, 11, 8), (0, 6, 6), (0, -2, 2), (0, -1, 2), (10, 12, 11), (10, 4, 7), (9, 8, 10), (3, 3, -3), (1, 3, 4), (13, 12, 9), (19, 22, 19), (19, 14, 15), (10, 5, 8), (18, 15, 11), (12, 16, 10), (18, 19, 18), (9, 12, 16), (3, 7, 3), (19, 15, 16), (19, 18, 21), (13, 15, 19), (20, 14, 19), (12, 9, 7), (2, 4, 2), (15, 16, 12), (2, 3, 6), (6, 7, 5), (21, 18, 19), (11, 13, 14), (5, 8, 1), (11, 5, 10), (4, 4, 0), (5, 11, 6), (12, 12, 17), (4, 7, 5), (8, 11, 4), (6, 11, 11), (11, 6, 11), (15, 17, 12), (5, 1, -2), (5, 1, -1), (5, 4, 3), (4, 8, 6), (6, 0, 1), (4, 0, 2), (17, 20, 16), (15, 12, 19), (14, 14, 11), (8, 3, 5), (14, 13, 15), (8, 14, 14), (14, 16, 20), (7, 7, 6), (17, 16, 18), (-3, 2, 1), (-1, 6, 3), (1, 6, 0), (8, 7, 11), (16, 17, 14), (14, 17, 21), (17, 13, 12), (7, 8, 7), (17, 17, 19), (7, 0, 3), (-3, 3, 2), (7, 11, 12), (16, 18, 15), (0, 2, -2), (0, 2, -1), (-2, 2, 5), (-1, 2, 5), (16, 10, 11), (16, 21, 20), (9, 12, 6), (1, 1, 6), (7, 4, 9), (9, 11, 10), (20, 16, 19), (12, 11, 7), (13, 15, 9), (10, 11, 14), (1, -1, 0), (19, 17, 15), (13, 18, 14), (3, 2, 0), (1, 2, 7), (10, 8, 8), (20, 17, 20), (9, 4, 7), (18, 22, 18), (18, 14, 14), (9, 7, 12), (13, 19, 15), (13, 11, 11), (0, -1, 5), (12, 12, 7), (10, 12, 14), (10, 4, 10), (2, 7, 2), (9, 8, 13), (18, 18, 20), (12, 15, 18), (19, 14, 18), (6, 10, 5), (11, 9, 6), (6, 2, 1), (6, 13, 10), (18, 15, 14), (15, 12, 9), (5, 6, 2), (4, 10, 5), (6, 3, 2), (4, 2, 1), (2, 2, 8), (6, 6, 7), (14, 16, 10), (21, 17, 21), (11, 12, 16), (5, 7, 3), (12, 8, 14), (15, 16, 15), (4, 3, 2), (14, 17, 11), (8, 6, 5), (11, 13, 17), (-1, 1, 0), (5, 0, 0), (8, 9, 10), (-1, 4, 5), (17, 19, 18), (5, 2, 9), (17, 11, 14), (8, 10, 11), (16, 20, 14), (8, 2, 7), (14, 12, 17), (17, 20, 19), (7, 3, 3), (17, 12, 15), (1, 2, -3), (8, 3, 8), (16, 13, 11), (14, 13, 18), (16, 16, 16), (7, 7, 9), (20, 19, 19), (10, 14, 14), (9, 10, 13), (16, 9, 13), (3, 5, 0), (1, 5, 7), (1, -3, 3), (0, 1, 6), (19, 16, 18), (20, 20, 20), (12, 15, 8), (10, 15, 15), (10, 7, 11), (18, 17, 14), (3, 6, 1), (13, 14, 11), (3, 9, 6), (9, 11, 13), (20, 16, 22), (2, 2, -2), (2, 2, -1), (9, 3, 9), (12, 11, 10), (1, -2, 3), (1, -1, 3), (13, 7, 8), (12, 18, 18), (19, 17, 18), (18, 21, 20), (11, 12, 6), (3, 1, 7), (15, 15, 9), (18, 14, 17), (5, 10, 4), (15, 18, 14), (6, 9, 7), (22, 17, 20), (4, 9, 8), (6, 1, 3), (11, 15, 16), (11, 7, 12), (15, 19, 15), (4, 6, 2), (15, 11, 11), (2, 6, 9), (4, -2, -2), (4, -1, -2), (4, -2, -1), (4, -1, -1), (2, -2, 5), (2, -1, 5), (6, 2, 4), (11, 8, 13), (5, 3, 0), (5, 6, 5), (4, 10, 8), (14, 13, 8), (4, 2, 4), (17, 22, 18), (7, 6, 4), (14, 16, 13), (8, 13, 11), (8, 5, 7), (-2, 0, 2), (-1, 0, 2), (16, 19, 17), (23, 18, 17), (17, 15, 15), (7, 10, 10), (8, 6, 8), (7, 2, 6), (-2, 1, 3), (-1, 1, 3), (8, 9, 13), (14, 8, 14), (17, 19, 21), (17, 11, 17), (9, 14, 9), (16, 20, 17), (16, 12, 13), (13, 17, 12), (1, 0, 3), (0, 4, 6), (20, 15, 16), (10, 10, 11), (20, 18, 21), (9, 6, 10), (3, 1, -3), (10, 13, 16), (13, 9, 7), (19, 20, 19), (9, 9, 15), (3, 4, 2), (19, 12, 15), (12, 14, 10), (10, 14, 17), (13, 10, 8), (10, 6, 13), (2, 9, 5), (18, 16, 16), (3, 5, 3), (19, 16, 21), (10, 3, 7), (13, 13, 19), (12, 7, 7), (18, 17, 17), (12, 6, 11), (6, 12, 7), (12, 9, 16), (6, 4, 3), (14, 18, 13), (15, 14, 11), (2, 1, 5), (5, 9, 6), (6, 5, 4), (4, 5, 5), (11, 11, 13), (14, 19, 14), (22, 16, 22), (14, 11, 10), (15, 15, 12), (5, 10, 7), (15, 18, 17), (8, 9, 3), (17, 21, 21), (8, 8, 7), (-2, 3, 2), (-1, 3, 2), (5, 2, 2), (16, 22, 17), (4, -2, 1), (4, -1, 1), (17, 18, 15), (14, 14, 20), (7, 13, 10), (7, 5, 6), (8, 1, 4), (8, 12, 13), (8, 4, 9), (16, 15, 14), (17, 22, 21), (7, 6, 7), (10, 13, 6), (17, 14, 17), (9, 9, 5), (7, 9, 12), (8, 5, 10), (16, 19, 20), (10, 6, 3), (10, 16, 16), (13, 13, 9), (9, 12, 15), (3, 7, 2), (19, 15, 15), (13, 16, 14), (19, 18, 20), (20, 14, 18), (12, 9, 6), (10, 9, 13), (9, 13, 16), (2, 4, 1), (3, 8, 3), (9, 5, 12), (1, 0, 6), (19, 19, 21), (20, 15, 19), (11, 14, 9), (12, 10, 7), (18, 20, 17), (2, 5, 2), (18, 12, 13), (3, 3, 9), (6, 11, 10), (18, 13, 14), (11, 6, 10), (15, 17, 11), (18, 16, 19), (11, 9, 15), (12, 13, 17), (5, 4, 2), (6, 8, 4), (4, 8, 5), (6, 0, 0), (4, 0, 1), (14, 14, 10), (21, 15, 21), (11, 10, 16), (15, 21, 17), (5, 5, 3), (15, 13, 13), (4, 1, 2), (6, 4, 6), (14, 15, 11), (14, 18, 16), (-1, 6, 2), (8, 7, 10), (7, 8, 6), (17, 17, 18), (-3, 3, 1), (7, 11, 11), (16, 18, 14), (16, 10, 10), (-2, 2, 4), (-1, 2, 4), (14, 10, 17), (16, 21, 19), (7, 1, 3), (9, 12, 5), (7, 12, 12), (7, 4, 8), (8, 8, 10), (0, 3, -2), (0, 3, -1), (-1, 3, 5), (16, 11, 11), (16, 22, 20), (16, 14, 16), (17, 10, 14), (9, 13, 6), (9, 5, 2), (7, 5, 9), (20, 17, 19), (13, 19, 14), (13, 11, 10), (19, 21, 20), (0, -2, 4), (0, -1, 4), (12, 12, 6), (10, 12, 13), (10, 4, 9), (2, 7, 1), (9, 8, 12), (1, 3, 6), (13, 12, 11), (18, 18, 19), (19, 14, 17), (11, 9, 5), (12, 13, 7), (10, 5, 10), (2, 8, 2), (18, 15, 13), (12, 16, 12), (2, 0, -2), (2, 0, -1), (18, 19, 20), (3, 7, 5), (19, 15, 18), (11, 10, 6), (6, 3, 1), (19, 18, 23), (6, 6, 6), (18, 11, 15), (12, 8, 13), (15, 16, 14), (2, 3, 8), (6, 7, 7), (14, 17, 10), (21, 18, 21), (11, 13, 16), (5, 8, 3), (4, 4, 2), (5, 11, 8), (22, 15, 19), (4, 7, 7), (14, 10, 7), (8, 11, 6), (15, 17, 14), (5, 1, 0), (15, 9, 10), (-1, 5, 5), (5, 4, 5), (4, 0, 4), (17, 20, 18), (17, 12, 14), (8, 3, 7), (14, 13, 17), (7, 7, 8), (17, 16, 20), (-3, 2, 3), (1, 6, 2), (8, 7, 13), (16, 17, 16), (16, 9, 12), (17, 13, 14), (20, 21, 15), (7, 8, 9), (7, 11, 14), (10, 15, 14), (0, 2, 0), (16, 10, 13), (3, 6, 0), (13, 14, 10), (16, 21, 22), (3, 9, 5), (9, 11, 12), (20, 16, 21), (9, 3, 8), (12, 11, 9), (13, 15, 11), (10, 11, 16), (1, -2, 2), (1, -1, 2), (13, 7, 7), (3, 10, 6), (19, 17, 17), (13, 18, 16), (3, 2, 2), (10, 8, 10), (20, 17, 22), (2, 3, -2), (2, 3, -1), (9, 4, 9), (13, 8, 8), (18, 22, 20), (18, 14, 16), (13, 11, 13), (21, 21, 16), (11, 16, 11), (13, 10, 17), (12, 12, 9), (2, 7, 4), (15, 19, 14), (18, 18, 22), (2, 6, 8), (6, 10, 7), (11, 9, 8), (6, 2, 3), (11, 8, 12), (15, 20, 15), (15, 12, 11), (5, 6, 4), (4, 10, 7), (6, 3, 4), (4, 2, 3), (6, 6, 9), (14, 16, 12), (5, 7, 5), (4, 11, 8), (15, 16, 17), (4, 3, 4), (15, 15, 21), (14, 17, 13), (14, 9, 9), (8, 6, 7), (-2, 1, 2), (-1, 1, 2), (8, 9, 12), (23, 19, 17), (17, 19, 20), (17, 11, 16), (9, 14, 8), (8, 10, 13), (16, 20, 16), (1, 1, -2), (1, 1, -1), (0, 5, 1), (16, 12, 12), (17, 20, 21), (7, 3, 5), (10, 11, 6), (17, 12, 17), (9, 15, 9), (16, 13, 13), (16, 16, 18), (9, 7, 4), (1, 4, 8), (20, 19, 21), (12, 14, 9), (10, 14, 16), (13, 10, 7), (10, 6, 12), (9, 10, 15), (3, 5, 2), (19, 16, 20), (10, 3, 6), (2, 6, -1), (12, 15, 10), (12, 7, 6), (10, 7, 13), (18, 17, 16), (3, 6, 3), (19, 13, 14), (13, 14, 13), (3, 9, 8), (9, 11, 15), (2, 2, 0), (12, 11, 12), (19, 17, 20), (12, 10, 16), (11, 12, 8), (6, 5, 3), (22, 16, 21), (14, 19, 13), (15, 15, 11), (5, 10, 6), (15, 18, 16), (6, 9, 9), (4, 9, 10), (6, 1, 5), (11, 15, 18), (11, 7, 14), (15, 19, 17), (5, 2, 1), (4, 6, 4), (15, 11, 13), (4, -2, 0), (4, -1, 0), (6, 2, 6), (14, 12, 9), (11, 8, 15), (5, 3, 2), (8, 12, 12), (5, 6, 7), (14, 15, 20), (4, 2, 6), (17, 22, 20), (7, 6, 6), (17, 14, 16), (7, 9, 11), (8, 13, 13), (1, 4, -2), (1, 4, -1), (8, 5, 9), (-2, 0, 4), (-1, 0, 4), (16, 19, 19), (17, 15, 17), (9, 10, 5), (7, 10, 12), (7, 2, 8), (8, 6, 10), (0, 1, -1), (20, 23, 17), (10, 7, 3), (9, 14, 11), (9, 13, 15), (16, 12, 15), (3, 8, 2), (13, 17, 14), (3, 0, -1), (3, 0, -2), (1, 0, 5), (19, 19, 20), (20, 15, 18), (12, 10, 6), (10, 10, 13), (18, 20, 16), (2, 5, 1), (9, 6, 12), (13, 9, 9), (19, 20, 21), (3, 4, 4), (18, 13, 13), (12, 14, 12), (18, 16, 18), (11, 15, 8), (22, 20, 17), (3, -3, 1), (11, 7, 4), (21, 16, 16), (19, 16, 23), (18, 17, 19), (15, 21, 16), (5, 5, 2), (4, 1, 1), (6, 12, 9), (6, 4, 5), (14, 15, 10), (14, 18, 15), (15, 14, 13), (2, 1, 7), (5, 9, 8), (6, 5, 6), (4, 5, 7), (11, 11, 15), (14, 19, 16), (14, 11, 12), (5, -1, -1), (8, 11, 15), (7, 12, 11), (8, 8, 9), (0, 3, -3), (16, 11, 10), (-2, 3, 4), (-1, 3, 4), (16, 22, 19), (16, 14, 15), (17, 18, 17), (17, 10, 13), (7, 13, 12), (7, 5, 8), (0, 4, -2), (0, 4, -1), (8, 12, 15), (8, 4, 11), (0, 7, 3), (16, 15, 16), (9, 6, 2), (7, 6, 9), (10, 13, 8), (17, 14, 19), (9, 9, 7), (1, 4, 1), (19, 23, 16), (1, 3, 5), (13, 12, 10), (10, 5, 9), (12, 16, 11), (13, 13, 11), (18, 19, 19), (3, 7, 4), (19, 15, 17), (13, 16, 16), (11, 10, 5), (19, 18, 22), (20, 14, 20), (12, 17, 12), (12, 9, 8), (10, 9, 15), (2, 4, 3), (3, 8, 5), (18, 11, 14), (3, 0, 1), (21, 19, 16), (11, 14, 11), (2, 1, -3), (6, 7, 6), (12, 10, 9), (18, 20, 19), (18, 12, 15), (11, 11, 5), (12, 12, 18), (22, 15, 18), (8, 11, 5), (6, 11, 12), (11, 6, 12), (15, 17, 13), (15, 9, 9), (5, 12, 8), (5, 4, 4), (6, 8, 6), (4, 8, 7), (6, 0, 2), (4, 0, 3), (14, 14, 12), (15, 10, 10), (15, 21, 19), (5, 5, 5), (15, 13, 15), (4, 1, 4), (8, 4, 1), (14, 18, 18), (1, 6, 1), (8, 7, 12), (17, 13, 13), (7, 8, 8), (17, 17, 20), (7, 0, 4), (-3, 3, 3), (7, 11, 13), (16, 18, 16), (16, 10, 12), (-1, 2, 6), (16, 21, 21), (7, 1, 5), (9, 12, 7), (1, 7, 1), (7, 4, 10), (8, 8, 12), (0, 3, 0), (16, 11, 13), (13, 15, 10), (16, 22, 22), (16, 14, 18), (10, 9, 5), (9, 5, 4), (20, 17, 21), (13, 8, 7), (13, 19, 16), (13, 11, 12), (11, 16, 10), (12, 12, 8), (10, 12, 15), (2, 7, 3), (9, 8, 14), (3, 3, 1), (13, 12, 13), (21, 22, 16), (18, 18, 21), (19, 14, 19), (11, 17, 11), (11, 9, 7), (12, 13, 9), (2, 8, 4), (18, 15, 15), (12, 16, 14), (2, 0, 0), (15, 20, 14), (18, 19, 22), (11, 10, 8), (6, 3, 3), (6, 6, 8), (11, 12, 17), (5, 7, 4), (12, 8, 15), (4, 11, 7), (15, 16, 16), (4, 3, 3), (8, 7, 2), (6, 7, 9), (14, 17, 12), (14, 9, 8), (5, 8, 5), (5, 0, 1), (4, 4, 4), (23, 19, 16), (5, 11, 10), (4, 7, 9), (14, 10, 9), (14, 21, 18), (8, 10, 12), (15, 9, 12), (23, 20, 17), (0, 5, 0), (7, 4, 0), (17, 20, 20), (10, 11, 5), (17, 12, 16), (1, 2, -2), (1, 2, -1), (8, 3, 9), (16, 13, 12), (14, 13, 19), (16, 16, 17), (9, 7, 3), (7, 7, 10), (17, 16, 22), (0, 6, 0), (-2, -1, 3), (-1, -2, 3), (-1, -1, 3), (1, 6, 4), (16, 17, 18), (17, 13, 16), (20, 21, 17), (9, 8, 4), (7, 8, 11), (10, 15, 16), (10, 7, 12), (16, 10, 15), (3, 6, 2), (13, 14, 12), (3, -2, -1), (3, -1, -1), (3, -1, -2), (3, 9, 7), (9, 11, 14), (12, 19, 15), (20, 16, 23), (12, 11, 11), (13, 15, 13), (1, -2, 4), (1, -1, 4), (13, 7, 9), (19, 17, 19), (18, 21, 21), (13, 18, 18), (3, 2, 4), (11, 12, 7), (12, 8, 5), (10, 8, 12), (2, 3, 0), (18, 14, 18), (11, 13, 8), (21, 21, 18), (11, 16, 13), (6, 9, 8), (15, 19, 16), (15, 11, 12), (2, -1, 6), (6, 10, 9), (6, 2, 5), (14, 12, 8), (11, 8, 14), (15, 20, 17), (5, 3, 1), (15, 12, 13), (5, 6, 6), (4, 10, 9), (6, 3, 6), (14, 13, 9), (4, 2, 5), (8, 14, 8), (6, 6, 11), (14, 16, 14), (8, 13, 12), (5, 7, 7), (17, 16, 12), (4, 3, 6), (23, 18, 18), (17, 15, 16), (7, 10, 11), (14, 9, 11), (1, 5, -2), (1, 5, -1), (8, 6, 9), (-2, 1, 4), (-1, 1, 4), (8, 9, 14), (20, 23, 16), (17, 19, 22), (9, 14, 10), (16, 20, 18), (1, 1, 0), (0, 5, 3), (16, 12, 14), (20, 16, 13), (7, 3, 7), (10, 11, 8), (9, 15, 11), (16, 13, 15), (16, 16, 20), (19, 20, 20), (9, 7, 6), (12, 14, 11), (13, 10, 9), (2, 9, 6), (3, 5, 4), (22, 20, 16), (3, -3, 0), (21, 16, 15), (19, 16, 22), (2, 6, 0), (12, 15, 12), (12, 7, 8), (18, 17, 18), (19, 13, 16), (22, 21, 17), (13, 14, 15), (3, -2, 1), (3, -1, 1), (11, 8, 4), (2, 2, 2), (21, 17, 15), (5, 9, 7), (11, 12, 10), (6, 5, 5), (4, 5, 6), (11, 11, 14), (14, 19, 15), (14, 11, 11), (15, 15, 13), (5, 10, 8), (15, 18, 18), (6, -1, 2), (8, 9, 4), (6, 9, 11), (6, 1, 7), (15, 19, 19), (5, 2, 3), (4, 6, 6), (15, 11, 15), (4, -2, 2), (4, -1, 2), (14, 20, 15), (14, 12, 11), (8, 1, 5), (0, 4, -3), (8, 12, 14), (8, 4, 10), (7, 6, 8), (10, 13, 7), (17, 14, 18), (9, 9, 6), (7, 9, 13), (1, 4, 0), (8, 5, 11), (16, 19, 21), (10, 14, 8), (17, 15, 19), (10, 6, 4), (-3, 1, 2), (9, 10, 7), (7, 10, 14), (1, 5, 1), (0, 1, 0), (19, 16, 12), (13, 13, 10), (10, 7, 5), (13, 16, 15), (12, 17, 11), (10, 9, 14), (3, 8, 4), (13, 17, 16), (3, 0, 0), (21, 19, 15), (19, 19, 22), (20, 15, 20), (11, 14, 10), (12, 18, 12), (12, 10, 8), (10, 10, 15), (18, 20, 18), (2, 5, 3), (18, 12, 14), (3, 1, 1), (13, 9, 11), (21, 20, 16), (3, 4, 6), (18, 13, 15), (12, 14, 14), (18, 16, 20), (12, 13, 18), (11, 15, 10), (6, 8, 5), (11, 7, 6), (21, 16, 18), (15, 10, 9), (15, 21, 18), (5, 5, 4), (15, 13, 14), (4, 1, 3), (6, 12, 11), (6, 4, 7), (14, 15, 12), (14, 18, 17), (15, 22, 19), (15, 14, 15), (7, 9, 3), (5, 9, 10), (8, 5, 1), (4, 5, 9), (11, 11, 17), (14, 19, 18), (14, 11, 14), (5, -1, 0), (14, 8, 8), (7, 1, 4), (7, 12, 13), (8, 8, 11), (16, 11, 12), (-1, 3, 6), (16, 22, 21), (16, 14, 17), (17, 18, 19), (10, 9, 4), (9, 13, 7), (9, 5, 3), (7, 5, 10), (9, 16, 12), (0, 4, 0), (16, 15, 18), (10, 10, 5), (20, 18, 15), (9, 6, 4), (10, 13, 10), (17, 14, 21), (-3, 0, 4), (9, 9, 9), (13, 20, 16), (3, 3, 0), (1, 3, 7), (13, 12, 12), (12, 13, 8)},\n",
       "      dtype=object)"
      ]
     },
     "execution_count": 40,
     "metadata": {},
     "output_type": "execute_result"
    }
   ],
   "source": [
    "all_pd_voxels"
   ]
  },
  {
   "cell_type": "code",
   "execution_count": 35,
   "metadata": {},
   "outputs": [
    {
     "ename": "TypeError",
     "evalue": "'set' object is not subscriptable",
     "output_type": "error",
     "traceback": [
      "\u001b[0;31m---------------------------------------------------------------------------\u001b[0m",
      "\u001b[0;31mTypeError\u001b[0m                                 Traceback (most recent call last)",
      "Cell \u001b[0;32mIn[35], line 1\u001b[0m\n\u001b[0;32m----> 1\u001b[0m all_pd_voxels[\u001b[39m0\u001b[39;49m]\n",
      "\u001b[0;31mTypeError\u001b[0m: 'set' object is not subscriptable"
     ]
    }
   ],
   "source": [
    "all_pd_voxels[0]"
   ]
  },
  {
   "cell_type": "code",
   "execution_count": 28,
   "metadata": {},
   "outputs": [],
   "source": [
    "all_plasmodesmata_voxels = set(([1,2,3],[500,600,700]))\n",
    "\n",
    "\n",
    "for idx in in_cylinder(a,b,5):\n",
    "    ds[idx[0],idx[1],idx[2]] = 1\n"
   ]
  },
  {
   "cell_type": "code",
   "execution_count": 12,
   "metadata": {},
   "outputs": [],
   "source": [
    "z = zarr.open('test.n5', mode='w')\n",
    "z[1,2,3]=1\n"
   ]
  },
  {
   "cell_type": "code",
   "execution_count": 33,
   "metadata": {},
   "outputs": [],
   "source": [
    "arr = np.zeros([128*3]*3)\n",
    "starts = np.array([100.5,20,5])\n",
    "ends = np.array([150,40.5,20])\n",
    "radius = 3\n",
    "index_iterable = np.ndindex(*arr.shape)\n"
   ]
  },
  {
   "cell_type": "code",
   "execution_count": 58,
   "metadata": {},
   "outputs": [
    {
     "data": {
      "text/plain": [
       "array([False, False, False, ..., False, False, False])"
      ]
     },
     "execution_count": 58,
     "metadata": {},
     "output_type": "execute_result"
    }
   ],
   "source": [
    "#p = np.indices(arr.shape).reshape((arr.size,3))\n",
    "\n",
    "in_cylinder(p,a,b,r)"
   ]
  },
  {
   "attachments": {},
   "cell_type": "markdown",
   "metadata": {},
   "source": [
    "simplest way to generate the rasterized cylinders would be to open each annotation and writing out annotations in corresponding chunks, then we only have to do ~1900 iterations. and can just write out to appropriate chunks. can also read if the chunk already exists so we can write multiple annotations to same chunk"
   ]
  },
  {
   "cell_type": "code",
   "execution_count": 32,
   "metadata": {},
   "outputs": [
    {
     "ename": "KeyError",
     "evalue": "'blockSize'",
     "output_type": "error",
     "traceback": [
      "\u001b[0;31m---------------------------------------------------------------------------\u001b[0m",
      "\u001b[0;31mKeyError\u001b[0m                                  Traceback (most recent call last)",
      "Cell \u001b[0;32mIn[32], line 1\u001b[0m\n\u001b[0;32m----> 1\u001b[0m np\u001b[39m.\u001b[39marray(zarr_file[dataset]\u001b[39m.\u001b[39;49mattrs\u001b[39m.\u001b[39;49masdict()[\u001b[39m\"\u001b[39;49m\u001b[39mblockSize\u001b[39;49m\u001b[39m\"\u001b[39;49m])\n",
      "\u001b[0;31mKeyError\u001b[0m: 'blockSize'"
     ]
    }
   ],
   "source": [
    "np.array(zarr_file[dataset].attrs.asdict()[\"blockSize\"])"
   ]
  },
  {
   "cell_type": "code",
   "execution_count": 53,
   "metadata": {},
   "outputs": [
    {
     "data": {
      "text/plain": [
       "(11301, 6464, 32690)"
      ]
     },
     "execution_count": 53,
     "metadata": {},
     "output_type": "execute_result"
    }
   ],
   "source": [
    "zarr_file[dataset].shape"
   ]
  },
  {
   "cell_type": "code",
   "execution_count": 14,
   "metadata": {},
   "outputs": [
    {
     "data": {
      "text/plain": [
       "Text(0.5, 0, 'Volume (nm^3)')"
      ]
     },
     "execution_count": 14,
     "metadata": {},
     "output_type": "execute_result"
    },
    {
     "data": {
      "image/png": "[encoded data removed]",
      "text/plain": [
       "<Figure size 640x480 with 1 Axes>"
      ]
     },
     "metadata": {},
     "output_type": "display_data"
    }
   ],
   "source": [
    "import pandas as pd\n",
    "import matplotlib.pyplot as plt\n",
    "df = pd.read_csv(\"/nrs/cellmap/ackermand/cellmap/analysisResults/jrc_mus-liver-zon-1/nucleus.csv\")\n",
    "plt.hist(df[\"Volume (nm^3)\"],bins=100)\n",
    "plt.semilogy()\n",
    "plt.ylabel('Count')\n",
    "plt.xlabel('Volume (nm^3)')"
   ]
  },
  {
   "cell_type": "code",
   "execution_count": 16,
   "metadata": {},
   "outputs": [
    {
     "data": {
      "text/plain": [
       "4"
      ]
     },
     "execution_count": 16,
     "metadata": {},
     "output_type": "execute_result"
    }
   ],
   "source": [
    "import numpy as np\n",
    "np.sum(df[\"Volume (nm^3)\"]>0.25e13)"
   ]
  },
  {
   "cell_type": "code",
   "execution_count": null,
   "metadata": {},
   "outputs": [],
   "source": []
  }
 ],
 "metadata": {
  "kernelspec": {
   "display_name": "plasmodesmata_dacapo",
   "language": "python",
   "name": "python3"
  },
  "language_info": {
   "codemirror_mode": {
    "name": "ipython",
    "version": 3
   },
   "file_extension": ".py",
   "mimetype": "text/x-python",
   "name": "python",
   "nbconvert_exporter": "python",
   "pygments_lexer": "ipython3",
   "version": "3.10.9"
  },
  "orig_nbformat": 4
 },
 "nbformat": 4,
 "nbformat_minor": 2
}
