{
 "cells": [
  {
   "attachments": {},
   "cell_type": "markdown",
   "metadata": {},
   "source": [
    "## create rasterized datasets"
   ]
  },
  {
   "cell_type": "code",
   "execution_count": 1,
   "metadata": {},
   "outputs": [
    {
     "name": "stdout",
     "output_type": "stream",
     "text": [
      "rois as annotations: precomputed://https://cellmap-vm1.int.janelia.org/dm11/ackermand/neuroglancer_annotations/plasmodesmata/splitting/jrc_22ak351-leaf-3r/bounding_boxes\n"
     ]
    },
    {
     "name": "stderr",
     "output_type": "stream",
     "text": [
      "100%|██████████| 2038/2038 [00:07<00:00, 280.38it/s]\n",
      "100%|██████████| 2038/2038 [03:00<00:00, 11.31it/s]\n",
      "100%|██████████| 2038/2038 [00:02<00:00, 936.06it/s]\n"
     ]
    },
    {
     "name": "stdout",
     "output_type": "stream",
     "text": [
      "number of original centers: 2038, number of training centers: 1432\n"
     ]
    },
    {
     "name": "stderr",
     "output_type": "stream",
     "text": [
      "100%|██████████| 606/606 [00:00<00:00, 162318.68it/s]\n"
     ]
    },
    {
     "name": "stdout",
     "output_type": "stream",
     "text": [
      "annotations: precomputed://https://cellmap-vm1.int.janelia.org/dm11/ackermand/neuroglancer_annotations/plasmodesmata/removed_annotations/jrc_22ak351-leaf-3r/removed_annotations\n"
     ]
    },
    {
     "name": "stderr",
     "output_type": "stream",
     "text": [
      "100%|██████████| 1432/1432 [00:00<00:00, 142594.98it/s]"
     ]
    },
    {
     "name": "stdout",
     "output_type": "stream",
     "text": [
      "annotations: precomputed://https://cellmap-vm1.int.janelia.org/dm11/ackermand/neuroglancer_annotations/plasmodesmata/removed_annotations/jrc_22ak351-leaf-3r/kept_annotations\n"
     ]
    },
    {
     "name": "stderr",
     "output_type": "stream",
     "text": [
      "\n"
     ]
    }
   ],
   "source": [
    "import sys\n",
    "\n",
    "sys.path.append(\"..\")\n",
    "from utils.preprocess import PreprocessCylindricalAnnotations\n",
    "import os\n",
    "\n",
    "dataset = os.getcwd().split(\"/\")[-1]\n",
    "annotation_path = f\"../annotations/{dataset}/\"\n",
    "annotation_csvs = [\n",
    "    annotation_path + f for f in os.listdir(annotation_path) if f.endswith(\".csv\")\n",
    "]\n",
    "annotation_name = \"plasmodesmata\"\n",
    "preprocess = PreprocessCylindricalAnnotations(\n",
    "    username=\"ackermand\",\n",
    "    annotation_name=annotation_name,\n",
    "    training_csvs=annotation_csvs,\n",
    "    rois_to_split_yml=f\"../annotations/{dataset}/rois_from_spreadsheet.yml\",\n",
    "    dataset=dataset,\n",
    "    radius=4,\n",
    ")\n",
    "preprocess.standard_preprocessing()\n",
    "# seems to work https://neuroglancer-demo.appspot.com/#!gs://flyem-user-links/short/2023-09-30.025524.json"
   ]
  },
  {
   "attachments": {},
   "cell_type": "markdown",
   "metadata": {},
   "source": [
    "# Dacapo"
   ]
  },
  {
   "cell_type": "code",
   "execution_count": 2,
   "metadata": {},
   "outputs": [],
   "source": [
    "from dacapo.experiments.architectures import CNNectomeUNetConfig\n",
    "from dacapo.experiments.trainers import GunpowderTrainerConfig\n",
    "from dacapo.experiments.trainers.gp_augments import (\n",
    "    ElasticAugmentConfig,\n",
    "    IntensityAugmentConfig,\n",
    ")\n",
    "from dacapo.experiments.tasks import AffinitiesTaskConfig\n",
    "from funlib.geometry.coordinate import Coordinate\n",
    "import math"
   ]
  },
  {
   "attachments": {},
   "cell_type": "markdown",
   "metadata": {},
   "source": [
    "## Trainer"
   ]
  },
  {
   "cell_type": "code",
   "execution_count": 3,
   "metadata": {},
   "outputs": [],
   "source": [
    "trainer_config = GunpowderTrainerConfig(\n",
    "    name=\"default_v2_no_dataset_predictor_node_lr_5E-5\",\n",
    "    batch_size=2,\n",
    "    learning_rate=0.00005,\n",
    "    augments=[\n",
    "        ElasticAugmentConfig(\n",
    "            control_point_spacing=(100, 100, 100),\n",
    "            control_point_displacement_sigma=(10.0, 10.0, 10.0),\n",
    "            rotation_interval=(0, math.pi / 2.0),\n",
    "            subsample=8,\n",
    "            uniform_3d_rotation=True,\n",
    "        ),\n",
    "        IntensityAugmentConfig(\n",
    "            scale=(0.7, 1.3),\n",
    "            shift=(-0.2, 0.2),\n",
    "            clip=True,\n",
    "        ),\n",
    "    ],\n",
    "    clip_raw=True,\n",
    "    num_data_fetchers=20,\n",
    "    snapshot_interval=10000,\n",
    "    min_masked=0.05,\n",
    "    add_predictor_nodes_to_dataset=False,\n",
    ")"
   ]
  },
  {
   "attachments": {},
   "cell_type": "markdown",
   "metadata": {},
   "source": [
    "## Task"
   ]
  },
  {
   "cell_type": "code",
   "execution_count": 4,
   "metadata": {},
   "outputs": [],
   "source": [
    "task_config = AffinitiesTaskConfig(\n",
    "    name=f\"3d_lsdaffs_weight_ratio_0.50\",\n",
    "    neighborhood=[\n",
    "        (1, 0, 0),\n",
    "        (0, 1, 0),\n",
    "        (0, 0, 1),\n",
    "        (3, 0, 0),\n",
    "        (0, 3, 0),\n",
    "        (0, 0, 3),\n",
    "        (9, 0, 0),\n",
    "        (0, 9, 0),\n",
    "        (0, 0, 9),\n",
    "    ],\n",
    "    lsds=True,\n",
    "    lsds_to_affs_weight_ratio=0.50,\n",
    ")"
   ]
  },
  {
   "attachments": {},
   "cell_type": "markdown",
   "metadata": {},
   "source": [
    "## Architecture"
   ]
  },
  {
   "attachments": {},
   "cell_type": "markdown",
   "metadata": {},
   "source": [
    "I had an issue where, by default, I created the rasterization at the same resolution as the raw data. But the default architecture (with the upsampling layer `upsample_factors`) expects it to be at 2x the resolution including mask and validation. This resulted in an error when submitting. Since we don't really care about a higher res (at the moment), we can just comment out the upsampling layer (`constant_upsample` and `upsample_factors`)"
   ]
  },
  {
   "cell_type": "code",
   "execution_count": 5,
   "metadata": {},
   "outputs": [],
   "source": [
    "architecture_config = CNNectomeUNetConfig(\n",
    "    name=\"unet\",\n",
    "    input_shape=Coordinate(216, 216, 216),\n",
    "    eval_shape_increase=Coordinate(72, 72, 72),\n",
    "    fmaps_in=1,\n",
    "    num_fmaps=12,\n",
    "    fmaps_out=72,\n",
    "    fmap_inc_factor=6,\n",
    "    downsample_factors=[(2, 2, 2), (3, 3, 3), (3, 3, 3)],\n",
    "    # constant_upsample=True,\n",
    "    # upsample_factors=[(2, 2, 2)],\n",
    ")"
   ]
  },
  {
   "attachments": {},
   "cell_type": "markdown",
   "metadata": {},
   "source": [
    "## Datasplit"
   ]
  },
  {
   "attachments": {},
   "cell_type": "markdown",
   "metadata": {},
   "source": [
    "EVERYTHING MUST BE IN Z,Y,X AND NM!"
   ]
  },
  {
   "cell_type": "code",
   "execution_count": 6,
   "metadata": {},
   "outputs": [],
   "source": [
    "from dacapo.store.create_store import create_config_store\n",
    "\n",
    "config_store = create_config_store()\n",
    "\n",
    "# use pseudorandom centers\n",
    "from pathlib import Path\n",
    "from dacapo.experiments.datasplits.datasets.arrays import (\n",
    "    ZarrArrayConfig,\n",
    "    IntensitiesArrayConfig,\n",
    "    CropArrayConfig,\n",
    ")\n",
    "from dacapo.experiments.datasplits.datasets import RawGTDatasetConfig\n",
    "from dacapo.experiments.datasplits import TrainValidateDataSplitConfig\n",
    "from funlib.geometry import Roi\n",
    "\n",
    "raw_config = ZarrArrayConfig(\n",
    "    name=\"raw\",\n",
    "    file_name=Path(f\"/nrs/cellmap/data/{dataset}/{dataset}.n5\"),\n",
    "    dataset=\"em/fibsem-uint8/s0\",\n",
    ")\n",
    "# We get an error without this, and will suggests having it as such https://cell-map.slack.com/archives/D02KBQ990ER/p1683762491204909\n",
    "raw_config = IntensitiesArrayConfig(\n",
    "    name=\"raw\", source_array_config=raw_config, min=0, max=255\n",
    ")\n",
    "\n",
    "gt_config = ZarrArrayConfig(\n",
    "    name=annotation_name,\n",
    "    file_name=Path(\n",
    "        f\"/nrs/cellmap/ackermand/cellmap/{annotation_name}/annotations_as_cylinders.n5\"\n",
    "    ),\n",
    "    dataset=dataset,\n",
    ")\n",
    "\n",
    "# mask out regions of overlapping plasmodesmata\n",
    "mask_config = ZarrArrayConfig(\n",
    "    name=\"mask\",\n",
    "    file_name=Path(\n",
    "        f\"/nrs/cellmap/ackermand/cellmap/{annotation_name}/annotation_intersection_masks.zarr\"\n",
    "    ),\n",
    "    dataset=dataset,\n",
    ")\n",
    "\n",
    "# NOTE: Everything has to be in z,y,x\n",
    "validation_data_config = []\n",
    "for i, roi in enumerate(preprocess.rois_dict[\"validation\"]):\n",
    "    val_gt_config = CropArrayConfig(\n",
    "        f\"val_gt_{i}\", source_array_config=gt_config, roi=roi\n",
    "    )\n",
    "    validation_data_config.append(\n",
    "        RawGTDatasetConfig(\n",
    "            f\"val_{i}\",\n",
    "            raw_config=raw_config,\n",
    "            gt_config=val_gt_config,\n",
    "            mask_config=mask_config,\n",
    "        )\n",
    "    )\n",
    "\n",
    "training_data_config = RawGTDatasetConfig(\n",
    "    f\"train\",\n",
    "    raw_config=raw_config,\n",
    "    gt_config=gt_config,\n",
    "    sample_points=[\n",
    "        Coordinate(pseudorandom_training_center[::-1])\n",
    "        for pseudorandom_training_center in preprocess.pseudorandom_training_centers\n",
    "    ],\n",
    "    mask_config=mask_config,\n",
    ")\n",
    "datasplit_config = TrainValidateDataSplitConfig(\n",
    "    name=f\"{dataset}_{annotation_name}_pseudorandom_training_centers\",\n",
    "    train_configs=[training_data_config],\n",
    "    validate_configs=validation_data_config,\n",
    ")\n",
    "\n",
    "# store it so that can combine later\n",
    "config_store.store_datasplit_config(datasplit_config)"
   ]
  },
  {
   "attachments": {},
   "cell_type": "markdown",
   "metadata": {},
   "source": [
    "## Run"
   ]
  },
  {
   "cell_type": "code",
   "execution_count": 7,
   "metadata": {},
   "outputs": [
    {
     "name": "stdout",
     "output_type": "stream",
     "text": [
      "visualize run: python /groups/scicompsoft/home/ackermand/Programming/ml_experiments/scripts/visualize_pipeline.py visualize-pipeline -r finetuned_3d_lsdaffs_weight_ratio_0.50_jrc_22ak351-leaf-3r_plasmodesmata_pseudorandom_training_centers_unet_default_v2_no_dataset_predictor_node_lr_5E-5__0\n",
      "visualize run: python /groups/scicompsoft/home/ackermand/Programming/ml_experiments/scripts/visualize_pipeline.py visualize-pipeline -r finetuned_3d_lsdaffs_weight_ratio_0.50_jrc_22ak351-leaf-3r_plasmodesmata_pseudorandom_training_centers_unet_default_v2_no_dataset_predictor_node_lr_5E-5__1\n",
      "visualize run: python /groups/scicompsoft/home/ackermand/Programming/ml_experiments/scripts/visualize_pipeline.py visualize-pipeline -r finetuned_3d_lsdaffs_weight_ratio_0.50_jrc_22ak351-leaf-3r_plasmodesmata_pseudorandom_training_centers_unet_default_v2_no_dataset_predictor_node_lr_5E-5__2\n"
     ]
    }
   ],
   "source": [
    "from dacapo.experiments import RunConfig\n",
    "from dacapo.experiments.starts import StartConfig\n",
    "from dacapo.store.create_store import create_config_store\n",
    "\n",
    "config_store = create_config_store()\n",
    "start_config = StartConfig(\n",
    "    \"finetuned_3d_lsdaffs_weight_ratio_0.50_plasmodesmata_pseudorandom_training_centers_maxshift_18_more_annotations_unet_default_v2_no_dataset_predictor_node_lr_5E-5__1\",\n",
    "    \"140000\",\n",
    ")\n",
    "iterations = 200000\n",
    "# make validation interval huge so don't have to deal with validation until after the fact\n",
    "validation_interval = 5000\n",
    "repetitions = 3\n",
    "for i in range(repetitions):\n",
    "    run_config = RunConfig(\n",
    "        name=(\"_\").join(\n",
    "            [\n",
    "                \"scratch\" if start_config is None else \"finetuned\",\n",
    "                task_config.name,\n",
    "                datasplit_config.name,\n",
    "                architecture_config.name,\n",
    "                trainer_config.name,\n",
    "            ]\n",
    "        )\n",
    "        + f\"__{i}\",\n",
    "        task_config=task_config,\n",
    "        datasplit_config=datasplit_config,\n",
    "        architecture_config=architecture_config,\n",
    "        trainer_config=trainer_config,\n",
    "        num_iterations=iterations,\n",
    "        validation_interval=validation_interval,\n",
    "        repetition=i,\n",
    "        start_config=start_config,\n",
    "    )\n",
    "    config_store.store_run_config(run_config)\n",
    "    # \"dacapo run -r {run_config.name}\"\n",
    "    print(\n",
    "        f\"visualize run: python /groups/scicompsoft/home/ackermand/Programming/ml_experiments/scripts/visualize_pipeline.py visualize-pipeline -r {run_config.name}\"\n",
    "    )"
   ]
  },
  {
   "attachments": {},
   "cell_type": "markdown",
   "metadata": {},
   "source": [
    "# Prediction Mask"
   ]
  },
  {
   "cell_type": "code",
   "execution_count": 7,
   "metadata": {},
   "outputs": [],
   "source": [
    "from funlib.persistence import open_ds, prepare_ds\n",
    "from funlib.geometry import Roi, Coordinate\n",
    "from scipy.ndimage import binary_dilation, distance_transform_edt\n",
    "import numpy as np\n",
    "\n",
    "for iterations in range(1, 4):\n",
    "    ds = open_ds(\n",
    "        f\"/nrs/cellmap/ackermand/cellmap/leaf-gall/{dataset}.n5\",\n",
    "        \"plasmodesmata_column_cells\",\n",
    "    )\n",
    "    voxel_size = ds.voxel_size\n",
    "    data = ds.to_ndarray() > 0\n",
    "    ds = open_ds(\n",
    "        f\"/nrs/cellmap/ackermand/cellmap/leaf-gall/{dataset}.n5\",\n",
    "        \"plasmodesmata_column_target_cells\",\n",
    "    )\n",
    "    data += ds.to_ndarray() > 0\n",
    "    data = 1 - (data > 0)\n",
    "    data = binary_dilation(data, iterations=iterations)\n",
    "\n",
    "    output_ds = prepare_ds(\n",
    "        \"/nrs/cellmap/ackermand/cellmap/leaf-gall/prediction_masks.zarr\",\n",
    "        f\"dilation_iterations_{iterations}_{dataset}\",\n",
    "        total_roi=ds.roi,\n",
    "        voxel_size=voxel_size,\n",
    "        dtype=np.uint8,\n",
    "        write_size=Coordinate(np.array([64, 64, 64]) * 256),\n",
    "        delete=True,\n",
    "        # force_exact_write_size=True\n",
    "    )\n",
    "    output_ds[ds.roi] = data"
   ]
  },
  {
   "cell_type": "code",
   "execution_count": null,
   "metadata": {},
   "outputs": [],
   "source": []
  }
 ],
 "metadata": {
  "kernelspec": {
   "display_name": "plasmodesmata_dacapo",
   "language": "python",
   "name": "python3"
  },
  "language_info": {
   "codemirror_mode": {
    "name": "ipython",
    "version": 3
   },
   "file_extension": ".py",
   "mimetype": "text/x-python",
   "name": "python",
   "nbconvert_exporter": "python",
   "pygments_lexer": "ipython3",
   "version": "3.10.12"
  },
  "orig_nbformat": 4
 },
 "nbformat": 4,
 "nbformat_minor": 2
}
