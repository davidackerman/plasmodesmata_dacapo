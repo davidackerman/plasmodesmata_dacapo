{
 "cells": [
  {
   "attachments": {},
   "cell_type": "markdown",
   "metadata": {},
   "source": [
    "# Get Best Run"
   ]
  },
  {
   "cell_type": "markdown",
   "metadata": {},
   "source": [
    "grace annotated 4 new validation regions: https://cell-map.slack.com/archives/C04N9JUFQK1/p1695934591940359, so will use these\n",
    "\n",
    "we will use her initial large \"validation region\" as testing region\n",
    "\n",
    "annotations_20230929_115330.csv is validation region 2\n",
    "\n",
    "annotations_20230929_115745.csv is validation region 3\n",
    "\n",
    "annotations_20230929_115914.csv is validation regions 4 and 5\n"
   ]
  },
  {
   "cell_type": "code",
   "execution_count": 20,
   "metadata": {},
   "outputs": [
    {
     "name": "stdout",
     "output_type": "stream",
     "text": [
      "all annotations: 4429\n",
      "all annotations assuming region 1 is used for test: 3455\n"
     ]
    }
   ],
   "source": [
    "import pandas as pd\n",
    "\n",
    "original_annotations = pd.read_csv(\"../preprocessing/annotations_20230510_114340.csv\")\n",
    "validation_region_1 = pd.read_csv(\"../preprocessing/annotations_20230829_173628.csv\")\n",
    "validation_region_2 = pd.read_csv(\"../preprocessing/annotations_20230929_115330.csv\")\n",
    "validation_region_3 = pd.read_csv(\"../preprocessing/annotations_20230929_115745.csv\")\n",
    "validation_region_4_and_5 = pd.read_csv(\"annotations_20230929_115914.csv\")\n",
    "print(\n",
    "    f\"all annotations: {len(original_annotations) + len(validation_region_1) + len(validation_region_2) + len(validation_region_3)+ len(validation_region_4_and_5)}\"\n",
    ")\n",
    "print(\n",
    "    f\"all annotations assuming region 1 is used for test: {len(original_annotations) + len(validation_region_2) + len(validation_region_3) + len(validation_region_4_and_5)}\"\n",
    ")  # if use validation 1 as test"
   ]
  },
  {
   "cell_type": "code",
   "execution_count": 34,
   "metadata": {},
   "outputs": [],
   "source": [
    "import numpy as np\n",
    "df = validation_region_4_and_5\n",
    "\n",
    "pd_starts = (\n",
    "    np.array([df[\"start x (nm)\"], df[\"start y (nm)\"], df[\"start z (nm)\"]]).T\n",
    ")\n",
    "pd_ends = (\n",
    "    np.array([df[\"end x (nm)\"], df[\"end y (nm)\"], df[\"end z (nm)\"]]).T \n",
    ")\n",
    "pd_centers = np.array(list(\n",
    "    map(tuple, np.round(((pd_starts + pd_ends) / 2)).astype(int))\n",
    "))\n",
    "\n",
    "in_box_5 = (pd_centers[:,0]<=126598) & (pd_centers[:,0]>=118478) & (pd_centers[:,1]<=38009) & (pd_centers[:,1]>=30502) & (pd_centers[:,2]<=50384) & (pd_centers[:,2]>=34005)"
   ]
  },
  {
   "cell_type": "code",
   "execution_count": 37,
   "metadata": {},
   "outputs": [
    {
     "name": "stdout",
     "output_type": "stream",
     "text": [
      "3515\n"
     ]
    }
   ],
   "source": [
    "print(len(original_annotations)+len(validation_region_4_and_5)+len(validation_region_1))"
   ]
  },
  {
   "cell_type": "code",
   "execution_count": 15,
   "metadata": {},
   "outputs": [],
   "source": [
    "import json\n",
    "from dacapo.store.create_store import (\n",
    "    create_config_store,\n",
    ")\n",
    "from dacapo.experiments import Run\n",
    "import matplotlib.pyplot as plt\n",
    "import pandas as pd\n",
    "import os\n",
    "\n",
    "df = pd.DataFrame(\n",
    "    columns=[\n",
    "        \"run\",\n",
    "        \"iteration\",\n",
    "        \"parameter\",\n",
    "        \"full_path\",\n",
    "        \"rand_voi\",\n",
    "        \"rand_voi_bkgd\",\n",
    "        \"detection_f1\",\n",
    "        \"detection_iou_f1\",\n",
    "        \"detection_avg_iou\",\n",
    "        \"detection_iou_avg_iou\",\n",
    "    ]\n",
    ")\n",
    "\n",
    "base_dir = \"/nrs/cellmap/ackermand/validation_inference/\"\n",
    "for run_name in os.listdir(base_dir):\n",
    "    for iteration in range(5000, 200000 + 1, 5000):\n",
    "        for idx, bias in enumerate([0.1, 0.25, 0.5, 0.75, 0.9]):\n",
    "            parameter = f\"WatershedPostProcessorParameters(id={idx}, bias={bias})\"\n",
    "            dir_name = f\"/nrs/cellmap/ackermand/validation_inference/{run_name}/processed.n5/iteration_{iteration}/{parameter}\"\n",
    "            file_name = f\"{dir_name}/attributes.json\"\n",
    "            try:\n",
    "                with open(file_name) as f:\n",
    "                    data = json.load(f)\n",
    "                detection = data[\"detection\"]\n",
    "                f1 = (\n",
    "                    2\n",
    "                    * detection[\"tp\"]\n",
    "                    / (2 * detection[\"tp\"] + detection[\"fp\"] + detection[\"fn\"])\n",
    "                )\n",
    "                detection_iou = data[\"detection_iou\"]\n",
    "                f1_iou = (\n",
    "                    2\n",
    "                    * detection_iou[\"tp\"]\n",
    "                    / (\n",
    "                        2 * detection_iou[\"tp\"]\n",
    "                        + detection_iou[\"fp\"]\n",
    "                        + detection_iou[\"fn\"]\n",
    "                    )\n",
    "                )\n",
    "                row = [\n",
    "                    run_name,\n",
    "                    iteration,\n",
    "                    parameter,\n",
    "                    dir_name,\n",
    "                    data[\"rand_voi\"],\n",
    "                    data[\"rand_voi_include_background\"],\n",
    "                    f1,\n",
    "                    f1_iou,\n",
    "                    detection[\"avg_iou\"],\n",
    "                    detection_iou[\"avg_iou\"],\n",
    "                ]\n",
    "                df.loc[len(df.index)] = row\n",
    "            except:\n",
    "                pass\n",
    "                # print(run_name,iteration)"
   ]
  },
  {
   "cell_type": "code",
   "execution_count": 16,
   "metadata": {},
   "outputs": [
    {
     "name": "stdout",
     "output_type": "stream",
     "text": [
      "0.975 ['/nrs/cellmap/ackermand/validation_inference/finetuned_3d_lsdaffs_weight_ratio_0.50_plasmodesmata_pseudorandom_training_centers_maxshift_18_removed_dummy_annotations_unet_default_v2_no_dataset_predictor_node_lr_5E-5__1/processed.n5/iteration_130000/WatershedPostProcessorParameters(id=2, bias=0.5)']\n"
     ]
    }
   ],
   "source": [
    "removed_dummy = df[df[\"run\"].str.contains(\"removed_dummy\")]\n",
    "f1_max = max(\n",
    "    removed_dummy[\"detection_f1\"].max(), removed_dummy[\"detection_iou_f1\"].max()\n",
    ")\n",
    "df_maxs = removed_dummy[\n",
    "    (removed_dummy[\"detection_f1\"] == f1_max)\n",
    "    | (removed_dummy[\"detection_iou_f1\"] == f1_max)\n",
    "]\n",
    "print(f1_max, df_maxs[\"full_path\"].values)"
   ]
  },
  {
   "cell_type": "code",
   "execution_count": 18,
   "metadata": {},
   "outputs": [
    {
     "data": {
      "text/plain": [
       "{'avg_distance': 0, 'avg_iou': 0, 'fn': 40, 'fp': 0, 'tp': 0}"
      ]
     },
     "execution_count": 18,
     "metadata": {},
     "output_type": "execute_result"
    }
   ],
   "source": [
    "detection_iou"
   ]
  },
  {
   "attachments": {},
   "cell_type": "markdown",
   "metadata": {},
   "source": [
    "# Check f1 score in new validation region"
   ]
  },
  {
   "cell_type": "code",
   "execution_count": 3,
   "metadata": {},
   "outputs": [
    {
     "ename": "KeyboardInterrupt",
     "evalue": "",
     "output_type": "error",
     "traceback": [
      "\u001b[0;31m---------------------------------------------------------------------------\u001b[0m",
      "\u001b[0;31mKeyboardInterrupt\u001b[0m                         Traceback (most recent call last)",
      "\u001b[1;32m/groups/cellmap/cellmap/ackermand/Programming/plasmodesmata_dacapo/postprocessing.ipynb Cell 5\u001b[0m line \u001b[0;36m1\n\u001b[1;32m      <a href='vscode-notebook-cell://ssh-remote%2Backermand-ws2/groups/cellmap/cellmap/ackermand/Programming/plasmodesmata_dacapo/postprocessing.ipynb#W4sdnNjb2RlLXJlbW90ZQ%3D%3D?line=4'>5</a>\u001b[0m best \u001b[39m=\u001b[39m open_ds(\n\u001b[1;32m      <a href='vscode-notebook-cell://ssh-remote%2Backermand-ws2/groups/cellmap/cellmap/ackermand/Programming/plasmodesmata_dacapo/postprocessing.ipynb#W4sdnNjb2RlLXJlbW90ZQ%3D%3D?line=5'>6</a>\u001b[0m     \u001b[39m\"\u001b[39m\u001b[39m/nrs/cellmap/ackermand/predictions/jrc_22ak351-leaf-3m/jrc_22ak351-leaf-3m.n5\u001b[39m\u001b[39m\"\u001b[39m,\n\u001b[1;32m      <a href='vscode-notebook-cell://ssh-remote%2Backermand-ws2/groups/cellmap/cellmap/ackermand/Programming/plasmodesmata_dacapo/postprocessing.ipynb#W4sdnNjb2RlLXJlbW90ZQ%3D%3D?line=6'>7</a>\u001b[0m     \u001b[39m\"\u001b[39m\u001b[39mprocessed/2023-08-17/plasmodesmata_affs_lsds/0/fragments_relabeled/\u001b[39m\u001b[39m\"\u001b[39m,\n\u001b[1;32m      <a href='vscode-notebook-cell://ssh-remote%2Backermand-ws2/groups/cellmap/cellmap/ackermand/Programming/plasmodesmata_dacapo/postprocessing.ipynb#W4sdnNjb2RlLXJlbW90ZQ%3D%3D?line=7'>8</a>\u001b[0m )\n\u001b[1;32m      <a href='vscode-notebook-cell://ssh-remote%2Backermand-ws2/groups/cellmap/cellmap/ackermand/Programming/plasmodesmata_dacapo/postprocessing.ipynb#W4sdnNjb2RlLXJlbW90ZQ%3D%3D?line=8'>9</a>\u001b[0m gt \u001b[39m=\u001b[39m open_ds(\n\u001b[1;32m     <a href='vscode-notebook-cell://ssh-remote%2Backermand-ws2/groups/cellmap/cellmap/ackermand/Programming/plasmodesmata_dacapo/postprocessing.ipynb#W4sdnNjb2RlLXJlbW90ZQ%3D%3D?line=9'>10</a>\u001b[0m     \u001b[39m\"\u001b[39m\u001b[39m/nrs/cellmap/ackermand/cellmap/leaf-gall/jrc_22ak351-leaf-3m.n5\u001b[39m\u001b[39m\"\u001b[39m,\n\u001b[1;32m     <a href='vscode-notebook-cell://ssh-remote%2Backermand-ws2/groups/cellmap/cellmap/ackermand/Programming/plasmodesmata_dacapo/postprocessing.ipynb#W4sdnNjb2RlLXJlbW90ZQ%3D%3D?line=10'>11</a>\u001b[0m     \u001b[39m\"\u001b[39m\u001b[39mlarger_validation_crop\u001b[39m\u001b[39m\"\u001b[39m,\n\u001b[1;32m     <a href='vscode-notebook-cell://ssh-remote%2Backermand-ws2/groups/cellmap/cellmap/ackermand/Programming/plasmodesmata_dacapo/postprocessing.ipynb#W4sdnNjb2RlLXJlbW90ZQ%3D%3D?line=11'>12</a>\u001b[0m )\n\u001b[0;32m---> <a href='vscode-notebook-cell://ssh-remote%2Backermand-ws2/groups/cellmap/cellmap/ackermand/Programming/plasmodesmata_dacapo/postprocessing.ipynb#W4sdnNjb2RlLXJlbW90ZQ%3D%3D?line=12'>13</a>\u001b[0m best \u001b[39m=\u001b[39m best\u001b[39m.\u001b[39;49mto_ndarray(roi)\n\u001b[1;32m     <a href='vscode-notebook-cell://ssh-remote%2Backermand-ws2/groups/cellmap/cellmap/ackermand/Programming/plasmodesmata_dacapo/postprocessing.ipynb#W4sdnNjb2RlLXJlbW90ZQ%3D%3D?line=13'>14</a>\u001b[0m gt \u001b[39m=\u001b[39m gt\u001b[39m.\u001b[39mto_ndarray(roi)\n",
      "File \u001b[0;32m~/miniconda3/envs/cellmap_experiments/lib/python3.10/site-packages/funlib/persistence/arrays/array.py:243\u001b[0m, in \u001b[0;36mArray.to_ndarray\u001b[0;34m(self, roi, fill_value)\u001b[0m\n\u001b[1;32m    240\u001b[0m     \u001b[39mreturn\u001b[39;00m \u001b[39mself\u001b[39m\u001b[39m.\u001b[39mdata[\u001b[39mself\u001b[39m\u001b[39m.\u001b[39m__slices(\u001b[39mself\u001b[39m\u001b[39m.\u001b[39mroi)]\n\u001b[1;32m    242\u001b[0m \u001b[39mif\u001b[39;00m fill_value \u001b[39mis\u001b[39;00m \u001b[39mNone\u001b[39;00m:\n\u001b[0;32m--> 243\u001b[0m     \u001b[39mreturn\u001b[39;00m \u001b[39mself\u001b[39;49m[roi]\u001b[39m.\u001b[39;49mto_ndarray()\n\u001b[1;32m    245\u001b[0m shape \u001b[39m=\u001b[39m (roi \u001b[39m/\u001b[39m \u001b[39mself\u001b[39m\u001b[39m.\u001b[39mvoxel_size)\u001b[39m.\u001b[39mshape\n\u001b[1;32m    246\u001b[0m data \u001b[39m=\u001b[39m np\u001b[39m.\u001b[39mzeros(\n\u001b[1;32m    247\u001b[0m     \u001b[39mself\u001b[39m\u001b[39m.\u001b[39mdata\u001b[39m.\u001b[39mshape[: \u001b[39mself\u001b[39m\u001b[39m.\u001b[39mn_channel_dims] \u001b[39m+\u001b[39m shape, dtype\u001b[39m=\u001b[39m\u001b[39mself\u001b[39m\u001b[39m.\u001b[39mdata\u001b[39m.\u001b[39mdtype\n\u001b[1;32m    248\u001b[0m )\n",
      "File \u001b[0;32m~/miniconda3/envs/cellmap_experiments/lib/python3.10/site-packages/funlib/persistence/arrays/array.py:240\u001b[0m, in \u001b[0;36mArray.to_ndarray\u001b[0;34m(self, roi, fill_value)\u001b[0m\n\u001b[1;32m    222\u001b[0m \u001b[39m\u001b[39m\u001b[39m\"\"\"Copy the data represented by this array into an ``ndarray``.\u001b[39;00m\n\u001b[1;32m    223\u001b[0m \n\u001b[1;32m    224\u001b[0m \u001b[39mArgs:\u001b[39;00m\n\u001b[0;32m   (...)\u001b[0m\n\u001b[1;32m    236\u001b[0m \u001b[39m        Outside values will be filled with ``fill_value``.\u001b[39;00m\n\u001b[1;32m    237\u001b[0m \u001b[39m\"\"\"\u001b[39;00m\n\u001b[1;32m    239\u001b[0m \u001b[39mif\u001b[39;00m roi \u001b[39mis\u001b[39;00m \u001b[39mNone\u001b[39;00m:\n\u001b[0;32m--> 240\u001b[0m     \u001b[39mreturn\u001b[39;00m \u001b[39mself\u001b[39;49m\u001b[39m.\u001b[39;49mdata[\u001b[39mself\u001b[39;49m\u001b[39m.\u001b[39;49m__slices(\u001b[39mself\u001b[39;49m\u001b[39m.\u001b[39;49mroi)]\n\u001b[1;32m    242\u001b[0m \u001b[39mif\u001b[39;00m fill_value \u001b[39mis\u001b[39;00m \u001b[39mNone\u001b[39;00m:\n\u001b[1;32m    243\u001b[0m     \u001b[39mreturn\u001b[39;00m \u001b[39mself\u001b[39m[roi]\u001b[39m.\u001b[39mto_ndarray()\n",
      "File \u001b[0;32m~/miniconda3/envs/cellmap_experiments/lib/python3.10/site-packages/zarr/core.py:821\u001b[0m, in \u001b[0;36mArray.__getitem__\u001b[0;34m(self, selection)\u001b[0m\n\u001b[1;32m    819\u001b[0m     result \u001b[39m=\u001b[39m \u001b[39mself\u001b[39m\u001b[39m.\u001b[39mvindex[selection]\n\u001b[1;32m    820\u001b[0m \u001b[39melse\u001b[39;00m:\n\u001b[0;32m--> 821\u001b[0m     result \u001b[39m=\u001b[39m \u001b[39mself\u001b[39;49m\u001b[39m.\u001b[39;49mget_basic_selection(pure_selection, fields\u001b[39m=\u001b[39;49mfields)\n\u001b[1;32m    822\u001b[0m \u001b[39mreturn\u001b[39;00m result\n",
      "File \u001b[0;32m~/miniconda3/envs/cellmap_experiments/lib/python3.10/site-packages/zarr/core.py:947\u001b[0m, in \u001b[0;36mArray.get_basic_selection\u001b[0;34m(self, selection, out, fields)\u001b[0m\n\u001b[1;32m    944\u001b[0m     \u001b[39mreturn\u001b[39;00m \u001b[39mself\u001b[39m\u001b[39m.\u001b[39m_get_basic_selection_zd(selection\u001b[39m=\u001b[39mselection, out\u001b[39m=\u001b[39mout,\n\u001b[1;32m    945\u001b[0m                                         fields\u001b[39m=\u001b[39mfields)\n\u001b[1;32m    946\u001b[0m \u001b[39melse\u001b[39;00m:\n\u001b[0;32m--> 947\u001b[0m     \u001b[39mreturn\u001b[39;00m \u001b[39mself\u001b[39;49m\u001b[39m.\u001b[39;49m_get_basic_selection_nd(selection\u001b[39m=\u001b[39;49mselection, out\u001b[39m=\u001b[39;49mout,\n\u001b[1;32m    948\u001b[0m                                         fields\u001b[39m=\u001b[39;49mfields)\n",
      "File \u001b[0;32m~/miniconda3/envs/cellmap_experiments/lib/python3.10/site-packages/zarr/core.py:990\u001b[0m, in \u001b[0;36mArray._get_basic_selection_nd\u001b[0;34m(self, selection, out, fields)\u001b[0m\n\u001b[1;32m    984\u001b[0m \u001b[39mdef\u001b[39;00m \u001b[39m_get_basic_selection_nd\u001b[39m(\u001b[39mself\u001b[39m, selection, out\u001b[39m=\u001b[39m\u001b[39mNone\u001b[39;00m, fields\u001b[39m=\u001b[39m\u001b[39mNone\u001b[39;00m):\n\u001b[1;32m    985\u001b[0m     \u001b[39m# implementation of basic selection for array with at least one dimension\u001b[39;00m\n\u001b[1;32m    986\u001b[0m \n\u001b[1;32m    987\u001b[0m     \u001b[39m# setup indexer\u001b[39;00m\n\u001b[1;32m    988\u001b[0m     indexer \u001b[39m=\u001b[39m BasicIndexer(selection, \u001b[39mself\u001b[39m)\n\u001b[0;32m--> 990\u001b[0m     \u001b[39mreturn\u001b[39;00m \u001b[39mself\u001b[39;49m\u001b[39m.\u001b[39;49m_get_selection(indexer\u001b[39m=\u001b[39;49mindexer, out\u001b[39m=\u001b[39;49mout, fields\u001b[39m=\u001b[39;49mfields)\n",
      "File \u001b[0;32m~/miniconda3/envs/cellmap_experiments/lib/python3.10/site-packages/zarr/core.py:1285\u001b[0m, in \u001b[0;36mArray._get_selection\u001b[0;34m(self, indexer, out, fields)\u001b[0m\n\u001b[1;32m   1275\u001b[0m \u001b[39mif\u001b[39;00m (\n\u001b[1;32m   1276\u001b[0m     \u001b[39mnot\u001b[39;00m \u001b[39mhasattr\u001b[39m(\u001b[39mself\u001b[39m\u001b[39m.\u001b[39mchunk_store, \u001b[39m\"\u001b[39m\u001b[39mgetitems\u001b[39m\u001b[39m\"\u001b[39m) \u001b[39mand\u001b[39;00m \u001b[39mnot\u001b[39;00m (\n\u001b[1;32m   1277\u001b[0m         \u001b[39mhasattr\u001b[39m(\u001b[39mself\u001b[39m\u001b[39m.\u001b[39mchunk_store, \u001b[39m\"\u001b[39m\u001b[39mget_partial_values\u001b[39m\u001b[39m\"\u001b[39m) \u001b[39mand\u001b[39;00m\n\u001b[0;32m   (...)\u001b[0m\n\u001b[1;32m   1280\u001b[0m ) \u001b[39mor\u001b[39;00m \u001b[39many\u001b[39m(\u001b[39mmap\u001b[39m(\u001b[39mlambda\u001b[39;00m x: x \u001b[39m==\u001b[39m \u001b[39m0\u001b[39m, \u001b[39mself\u001b[39m\u001b[39m.\u001b[39mshape)):\n\u001b[1;32m   1281\u001b[0m     \u001b[39m# sequentially get one key at a time from storage\u001b[39;00m\n\u001b[1;32m   1282\u001b[0m     \u001b[39mfor\u001b[39;00m chunk_coords, chunk_selection, out_selection \u001b[39min\u001b[39;00m indexer:\n\u001b[1;32m   1283\u001b[0m \n\u001b[1;32m   1284\u001b[0m         \u001b[39m# load chunk selection into output array\u001b[39;00m\n\u001b[0;32m-> 1285\u001b[0m         \u001b[39mself\u001b[39;49m\u001b[39m.\u001b[39;49m_chunk_getitem(chunk_coords, chunk_selection, out, out_selection,\n\u001b[1;32m   1286\u001b[0m                             drop_axes\u001b[39m=\u001b[39;49mindexer\u001b[39m.\u001b[39;49mdrop_axes, fields\u001b[39m=\u001b[39;49mfields)\n\u001b[1;32m   1287\u001b[0m \u001b[39melse\u001b[39;00m:\n\u001b[1;32m   1288\u001b[0m     \u001b[39m# allow storage to get multiple items at once\u001b[39;00m\n\u001b[1;32m   1289\u001b[0m     lchunk_coords, lchunk_selection, lout_selection \u001b[39m=\u001b[39m \u001b[39mzip\u001b[39m(\u001b[39m*\u001b[39mindexer)\n",
      "File \u001b[0;32m~/miniconda3/envs/cellmap_experiments/lib/python3.10/site-packages/zarr/core.py:2006\u001b[0m, in \u001b[0;36mArray._chunk_getitem\u001b[0;34m(self, chunk_coords, chunk_selection, out, out_selection, drop_axes, fields)\u001b[0m\n\u001b[1;32m   2003\u001b[0m         out[out_selection] \u001b[39m=\u001b[39m fill_value\n\u001b[1;32m   2005\u001b[0m \u001b[39melse\u001b[39;00m:\n\u001b[0;32m-> 2006\u001b[0m     \u001b[39mself\u001b[39;49m\u001b[39m.\u001b[39;49m_process_chunk(out, cdata, chunk_selection, drop_axes,\n\u001b[1;32m   2007\u001b[0m                         out_is_ndarray, fields, out_selection)\n",
      "File \u001b[0;32m~/miniconda3/envs/cellmap_experiments/lib/python3.10/site-packages/zarr/core.py:1949\u001b[0m, in \u001b[0;36mArray._process_chunk\u001b[0;34m(self, out, cdata, chunk_selection, drop_axes, out_is_ndarray, fields, out_selection, partial_read_decode)\u001b[0m\n\u001b[1;32m   1947\u001b[0m \u001b[39mexcept\u001b[39;00m ArrayIndexError:\n\u001b[1;32m   1948\u001b[0m     cdata \u001b[39m=\u001b[39m cdata\u001b[39m.\u001b[39mread_full()\n\u001b[0;32m-> 1949\u001b[0m chunk \u001b[39m=\u001b[39m \u001b[39mself\u001b[39;49m\u001b[39m.\u001b[39;49m_decode_chunk(cdata)\n\u001b[1;32m   1951\u001b[0m \u001b[39m# select data from chunk\u001b[39;00m\n\u001b[1;32m   1952\u001b[0m \u001b[39mif\u001b[39;00m fields:\n",
      "File \u001b[0;32m~/miniconda3/envs/cellmap_experiments/lib/python3.10/site-packages/zarr/core.py:2233\u001b[0m, in \u001b[0;36mArray._decode_chunk\u001b[0;34m(self, cdata, start, nitems, expected_shape)\u001b[0m\n\u001b[1;32m   2231\u001b[0m         chunk \u001b[39m=\u001b[39m \u001b[39mself\u001b[39m\u001b[39m.\u001b[39m_compressor\u001b[39m.\u001b[39mdecode_partial(cdata, start, nitems)\n\u001b[1;32m   2232\u001b[0m     \u001b[39melse\u001b[39;00m:\n\u001b[0;32m-> 2233\u001b[0m         chunk \u001b[39m=\u001b[39m \u001b[39mself\u001b[39;49m\u001b[39m.\u001b[39;49m_compressor\u001b[39m.\u001b[39;49mdecode(cdata)\n\u001b[1;32m   2234\u001b[0m \u001b[39melse\u001b[39;00m:\n\u001b[1;32m   2235\u001b[0m     chunk \u001b[39m=\u001b[39m cdata\n",
      "File \u001b[0;32m~/miniconda3/envs/cellmap_experiments/lib/python3.10/site-packages/zarr/n5.py:911\u001b[0m, in \u001b[0;36mN5ChunkWrapper.decode\u001b[0;34m(self, chunk, out)\u001b[0m\n\u001b[1;32m    908\u001b[0m \u001b[39melse\u001b[39;00m:\n\u001b[1;32m    910\u001b[0m     \u001b[39mif\u001b[39;00m \u001b[39mself\u001b[39m\u001b[39m.\u001b[39m_compressor:\n\u001b[0;32m--> 911\u001b[0m         chunk \u001b[39m=\u001b[39m \u001b[39mself\u001b[39;49m\u001b[39m.\u001b[39;49m_compressor\u001b[39m.\u001b[39;49mdecode(chunk)\n\u001b[1;32m    913\u001b[0m     \u001b[39m# more expensive byteswap\u001b[39;00m\n\u001b[1;32m    914\u001b[0m     chunk \u001b[39m=\u001b[39m \u001b[39mself\u001b[39m\u001b[39m.\u001b[39m_from_big_endian(chunk)\n",
      "File \u001b[0;32m~/miniconda3/envs/cellmap_experiments/lib/python3.10/site-packages/numcodecs/gzip.py:54\u001b[0m, in \u001b[0;36mGZip.decode\u001b[0;34m(self, buf, out)\u001b[0m\n\u001b[1;32m     52\u001b[0m             \u001b[39mraise\u001b[39;00m \u001b[39mValueError\u001b[39;00m(\u001b[39m\"\u001b[39m\u001b[39mUnable to fit data into `out`\u001b[39m\u001b[39m\"\u001b[39m)\n\u001b[1;32m     53\u001b[0m     \u001b[39melse\u001b[39;00m:\n\u001b[0;32m---> 54\u001b[0m         out \u001b[39m=\u001b[39m decompressor\u001b[39m.\u001b[39;49mread()\n\u001b[1;32m     56\u001b[0m \u001b[39mreturn\u001b[39;00m out\n",
      "File \u001b[0;32m~/miniconda3/envs/cellmap_experiments/lib/python3.10/gzip.py:301\u001b[0m, in \u001b[0;36mGzipFile.read\u001b[0;34m(self, size)\u001b[0m\n\u001b[1;32m    299\u001b[0m     \u001b[39mimport\u001b[39;00m \u001b[39merrno\u001b[39;00m\n\u001b[1;32m    300\u001b[0m     \u001b[39mraise\u001b[39;00m \u001b[39mOSError\u001b[39;00m(errno\u001b[39m.\u001b[39mEBADF, \u001b[39m\"\u001b[39m\u001b[39mread() on write-only GzipFile object\u001b[39m\u001b[39m\"\u001b[39m)\n\u001b[0;32m--> 301\u001b[0m \u001b[39mreturn\u001b[39;00m \u001b[39mself\u001b[39;49m\u001b[39m.\u001b[39;49m_buffer\u001b[39m.\u001b[39;49mread(size)\n",
      "File \u001b[0;32m~/miniconda3/envs/cellmap_experiments/lib/python3.10/_compression.py:118\u001b[0m, in \u001b[0;36mDecompressReader.readall\u001b[0;34m(self)\u001b[0m\n\u001b[1;32m    114\u001b[0m chunks \u001b[39m=\u001b[39m []\n\u001b[1;32m    115\u001b[0m \u001b[39m# sys.maxsize means the max length of output buffer is unlimited,\u001b[39;00m\n\u001b[1;32m    116\u001b[0m \u001b[39m# so that the whole input buffer can be decompressed within one\u001b[39;00m\n\u001b[1;32m    117\u001b[0m \u001b[39m# .decompress() call.\u001b[39;00m\n\u001b[0;32m--> 118\u001b[0m \u001b[39mwhile\u001b[39;00m data \u001b[39m:=\u001b[39m \u001b[39mself\u001b[39;49m\u001b[39m.\u001b[39;49mread(sys\u001b[39m.\u001b[39;49mmaxsize):\n\u001b[1;32m    119\u001b[0m     chunks\u001b[39m.\u001b[39mappend(data)\n\u001b[1;32m    121\u001b[0m \u001b[39mreturn\u001b[39;00m \u001b[39mb\u001b[39m\u001b[39m\"\u001b[39m\u001b[39m\"\u001b[39m\u001b[39m.\u001b[39mjoin(chunks)\n",
      "File \u001b[0;32m~/miniconda3/envs/cellmap_experiments/lib/python3.10/gzip.py:496\u001b[0m, in \u001b[0;36m_GzipReader.read\u001b[0;34m(self, size)\u001b[0m\n\u001b[1;32m    493\u001b[0m \u001b[39m# Read a chunk of data from the file\u001b[39;00m\n\u001b[1;32m    494\u001b[0m buf \u001b[39m=\u001b[39m \u001b[39mself\u001b[39m\u001b[39m.\u001b[39m_fp\u001b[39m.\u001b[39mread(io\u001b[39m.\u001b[39mDEFAULT_BUFFER_SIZE)\n\u001b[0;32m--> 496\u001b[0m uncompress \u001b[39m=\u001b[39m \u001b[39mself\u001b[39;49m\u001b[39m.\u001b[39;49m_decompressor\u001b[39m.\u001b[39;49mdecompress(buf, size)\n\u001b[1;32m    497\u001b[0m \u001b[39mif\u001b[39;00m \u001b[39mself\u001b[39m\u001b[39m.\u001b[39m_decompressor\u001b[39m.\u001b[39munconsumed_tail \u001b[39m!=\u001b[39m \u001b[39mb\u001b[39m\u001b[39m\"\u001b[39m\u001b[39m\"\u001b[39m:\n\u001b[1;32m    498\u001b[0m     \u001b[39mself\u001b[39m\u001b[39m.\u001b[39m_fp\u001b[39m.\u001b[39mprepend(\u001b[39mself\u001b[39m\u001b[39m.\u001b[39m_decompressor\u001b[39m.\u001b[39munconsumed_tail)\n",
      "\u001b[0;31mKeyboardInterrupt\u001b[0m: "
     ]
    }
   ],
   "source": [
    "from funlib.persistence import open_ds\n",
    "from funlib.geometry import Roi\n",
    "\n",
    "roi = Roi((19952, 9736, 153344), (13464, 14064, 15104))\n",
    "best = open_ds(\n",
    "    \"/nrs/cellmap/ackermand/predictions/jrc_22ak351-leaf-3m/jrc_22ak351-leaf-3m.n5\",\n",
    "    \"processed/2023-08-17/plasmodesmata_affs_lsds/0/fragments_relabeled/\",\n",
    ")\n",
    "gt = open_ds(\n",
    "    \"/nrs/cellmap/ackermand/cellmap/leaf-gall/jrc_22ak351-leaf-3m.n5\",\n",
    "    \"larger_validation_crop\",\n",
    ")\n",
    "best = best.to_ndarray(roi)\n",
    "gt = gt.to_ndarray(roi)"
   ]
  },
  {
   "cell_type": "code",
   "execution_count": 12,
   "metadata": {},
   "outputs": [
    {
     "name": "stdout",
     "output_type": "stream",
     "text": [
      "[########################################] | 100% Completed | 102.84 ms\n",
      "[{2: [array([4]), array([1])], 3: [array([6]), array([1])], 4: [array([7]), array([1])], 5: [array([6]), array([1])], 6: [array([8]), array([1])], 7: [array([4, 6]), array([1, 1])], 8: [array([4]), array([1])]}, {3: [array([3, 8]), array([1, 1])], 4: [array([5]), array([1])], 5: [array([9]), array([1])], 6: [array([6]), array([1])], 9: [array([2, 3, 5]), array([1, 1, 1])]}]\n"
     ]
    }
   ],
   "source": [
    "import dask\n",
    "import dask.array as da\n",
    "import numpy as np\n",
    "import dask.diagnostics\n",
    "\n",
    "# target array to be processed block-by-block\n",
    "# use `da.overlap.overlap` for overlapped blocks\n",
    "gt_da = da.random.randint(low=1, high=10, size=(4, 4), dtype=int, chunks=2)\n",
    "test_da = da.random.randint(low=1, high=10, size=(4, 4), dtype=int, chunks=2)\n",
    "\n",
    "\n",
    "# function that returns a python dictionary\n",
    "def get_overlap_dict(gt, test):\n",
    "    out_dict = {}\n",
    "    gt_ids = np.unique(gt)\n",
    "    for gt_id in gt_ids:\n",
    "        if gt_id > 0:\n",
    "            test_ids, test_counts = np.unique(test[gt == gt_id], return_counts=True)\n",
    "            nonzeros = test_ids > 0\n",
    "            out_dict[gt_id] = [\n",
    "                test_ids[nonzeros],\n",
    "                test_counts[nonzeros],\n",
    "            ]\n",
    "    return out_dict\n",
    "\n",
    "\n",
    "# list comprehension to iterate over the blocks, lazily\n",
    "delayed_result = [\n",
    "    dask.delayed(get_overlap_dict)(gt_block, test_block)\n",
    "    for (gt_block, test_block) in zip(gt_da.blocks, test_da.blocks)\n",
    "]\n",
    "\n",
    "result = dask.delayed(list)(delayed_result)\n",
    "with dask.diagnostics.ProgressBar():\n",
    "    print(result.compute())"
   ]
  },
  {
   "cell_type": "code",
   "execution_count": 1,
   "metadata": {},
   "outputs": [
    {
     "name": "stdout",
     "output_type": "stream",
     "text": [
      "Click here to monitor job: http://ackermand-ws2:8787/status\n",
      "[########################################] | 100% Completed | 135.72 s\n"
     ]
    }
   ],
   "source": [
    "import dask.diagnostics\n",
    "import dask.array as da\n",
    "from dask.distributed import Client, LocalCluster\n",
    "import numpy as np\n",
    "from scipy.ndimage import binary_erosion\n",
    "import socket\n",
    "import itertools\n",
    "from funlib.persistence import open_ds\n",
    "from funlib.geometry import Roi\n",
    "import itertools\n",
    "\n",
    "# target array to be processed block-by-block\n",
    "# use `da.overlap.overlap` for overlapped blocks\n",
    "with LocalCluster(n_workers=8, threads_per_worker=1) as cluster:\n",
    "    with Client(cluster) as client:\n",
    "        print(\n",
    "            f'Click here to monitor job: {client.dashboard_link.replace(\"127.0.0.1\", socket.gethostname())}'\n",
    "        )\n",
    "\n",
    "        roi = Roi((19952, 9736, 153344), (13464, 14064, 15104)).snap_to_grid((8, 8, 8))\n",
    "        start_original = np.array(roi.begin / 8).astype(int)\n",
    "        end_original = np.array(roi.end / 8).astype(int)\n",
    "\n",
    "        # need to snap to 256 since we are using that for chunk size and because chunks start at 0,0,0\n",
    "        # in voxels\n",
    "        roi = roi.snap_to_grid((256 * 8, 256 * 8, 256 * 8))\n",
    "\n",
    "        # start_prediction_mask = np.array([22400.0, 12800.0, 0.0], dtype=int) / 128\n",
    "        # prediction_mask_da = da.from_zarr(\n",
    "        #    \"/nrs/cellmap/ackermand/cellmap/leaf-gall/validation_masks.zarr\",\n",
    "        #    \"jrc_22ak351-leaf-3m\",\n",
    "        #    chunks=(16, 16, 16),\n",
    "        # )\n",
    "        # prediction_mask_da = da.pad(\n",
    "        #     prediction_mask_da,\n",
    "        #     [(start_prediction_mask[i] - start[i], 0) for i in range(3)],\n",
    "        #     mode=\"constant\",\n",
    "        #     constant_values=0,\n",
    "        # )\n",
    "\n",
    "        prediction_mask_da = da.from_zarr(\n",
    "            \"/nrs/cellmap/ackermand/cellmap/leaf-gall/validation_masks.zarr\",\n",
    "            \"jrc_22ak351-leaf-3m\",\n",
    "            chunks=(128, 128, 128),\n",
    "        )\n",
    "\n",
    "        start_prediction = np.array(roi.begin / 128).astype(int)\n",
    "        end_prediction = np.array(roi.end / 128).astype(int)\n",
    "        prediction_mask_da = prediction_mask_da[\n",
    "            start_prediction[0] : end_prediction[0],\n",
    "            start_prediction[1] : end_prediction[1],\n",
    "            start_prediction[2] : end_prediction[2],\n",
    "        ]\n",
    "        prediction_mask_da = (\n",
    "            prediction_mask_da.repeat(16, axis=0).repeat(16, axis=1).repeat(16, axis=2)\n",
    "        )\n",
    "        prediction_mask_da = prediction_mask_da.rechunk((256, 256, 256))\n",
    "\n",
    "        start = np.array(roi.begin / 8).astype(int)\n",
    "        end = np.array(roi.end / 8).astype(int)\n",
    "        test_da = da.from_zarr(\n",
    "            \"/nrs/cellmap/ackermand/predictions/jrc_22ak351-leaf-3m/jrc_22ak351-leaf-3m.n5\",\n",
    "            \"processed/2023-08-17/plasmodesmata_affs_lsds/0/fragments_relabeled/\",\n",
    "            chunks=(256, 256, 256),\n",
    "        )\n",
    "\n",
    "        test_da = da.pad(\n",
    "            test_da,\n",
    "            [\n",
    "                (start_original[i] - start[i], end[i] - end_original[i])\n",
    "                for i in range(3)\n",
    "            ],\n",
    "            mode=\"constant\",\n",
    "            constant_values=0,\n",
    "        )\n",
    "        test_da = test_da.rechunk((256, 256, 256))\n",
    "\n",
    "        gt_da = da.from_zarr(\n",
    "            \"/nrs/cellmap/ackermand/cellmap/leaf-gall/jrc_22ak351-leaf-3m.n5\",\n",
    "            \"larger_validation_crop\",\n",
    "            chunks=(256, 256, 256),\n",
    "        )\n",
    "        gt_da = gt_da[\n",
    "            start[0] : end[0],\n",
    "            start[1] : end[1],\n",
    "            start[2] : end[2],\n",
    "        ]\n",
    "\n",
    "        # function that returns a python dictionary\n",
    "        def get_overlap_dict(true_components, test_components, prediction_mask):\n",
    "            out_dict = {}\n",
    "            # taken from funlib.evaluate detection\n",
    "            # change logical_and to logical_or since we want total counts\n",
    "            # prediction_mask = (\n",
    "            #     prediction_mask.repeat(16, axis=0).repeat(16, axis=1).repeat(16, axis=2)\n",
    "            # )\n",
    "            test_components = np.multiply(test_components, prediction_mask)\n",
    "            both_fg_mask = np.logical_or(true_components > 0, test_components > 0)\n",
    "            both_fg_true = true_components[both_fg_mask].ravel()\n",
    "            both_fg_test = test_components[both_fg_mask].ravel()\n",
    "            if both_fg_true.size > 0:\n",
    "                pairs, counts = np.unique(\n",
    "                    np.array([both_fg_true, both_fg_test]), axis=1, return_counts=True\n",
    "                )\n",
    "\n",
    "                for gt_id, test_id, count in zip(pairs[0], pairs[1], counts):\n",
    "                    out_dict[(gt_id, test_id)] = count\n",
    "                return out_dict\n",
    "\n",
    "    # list comprehension to iterate over the blocks, lazily\n",
    "    delayed_result = [\n",
    "        dask.delayed(get_overlap_dict)(\n",
    "            gt_da.blocks[inds],\n",
    "            test_da.blocks[inds],\n",
    "            prediction_mask_da.blocks[\n",
    "                inds\n",
    "            ],  # tuple([int(ind // 16) for ind in inds])],\n",
    "        )\n",
    "        for inds in itertools.product(*map(range, gt_da.blocks.shape))\n",
    "    ]\n",
    "\n",
    "    result = dask.delayed(list)(delayed_result)\n",
    "    with dask.diagnostics.ProgressBar():\n",
    "        res = result.compute()\n",
    "\n",
    "import pickle\n",
    "\n",
    "with open(\"validation_processing_result.pickle\", \"wb\") as handle:\n",
    "    pickle.dump(res, handle, protocol=pickle.HIGHEST_PROTOCOL)"
   ]
  },
  {
   "cell_type": "code",
   "execution_count": 80,
   "metadata": {},
   "outputs": [
    {
     "data": {
      "text/html": [
       "<table>\n",
       "    <tr>\n",
       "        <td>\n",
       "            <table style=\"border-collapse: collapse;\">\n",
       "                <thead>\n",
       "                    <tr>\n",
       "                        <td> </td>\n",
       "                        <th> Array </th>\n",
       "                        <th> Chunk </th>\n",
       "                    </tr>\n",
       "                </thead>\n",
       "                <tbody>\n",
       "                    \n",
       "                    <tr>\n",
       "                        <th> Bytes </th>\n",
       "                        <td> 9.00 GiB </td>\n",
       "                        <td> 16.00 MiB </td>\n",
       "                    </tr>\n",
       "                    \n",
       "                    <tr>\n",
       "                        <th> Shape </th>\n",
       "                        <td> (2048, 2048, 2304) </td>\n",
       "                        <td> (256, 256, 256) </td>\n",
       "                    </tr>\n",
       "                    <tr>\n",
       "                        <th> Dask graph </th>\n",
       "                        <td colspan=\"2\"> 576 chunks in 187 graph layers </td>\n",
       "                    </tr>\n",
       "                    <tr>\n",
       "                        <th> Data type </th>\n",
       "                        <td colspan=\"2\"> uint8 numpy.ndarray </td>\n",
       "                    </tr>\n",
       "                </tbody>\n",
       "            </table>\n",
       "        </td>\n",
       "        <td>\n",
       "        <svg width=\"242\" height=\"219\" style=\"stroke:rgb(0,0,0);stroke-width:1\" >\n",
       "\n",
       "  <!-- Horizontal lines -->\n",
       "  <line x1=\"10\" y1=\"0\" x2=\"72\" y2=\"62\" style=\"stroke-width:2\" />\n",
       "  <line x1=\"10\" y1=\"13\" x2=\"72\" y2=\"76\" />\n",
       "  <line x1=\"10\" y1=\"26\" x2=\"72\" y2=\"89\" />\n",
       "  <line x1=\"10\" y1=\"40\" x2=\"72\" y2=\"102\" />\n",
       "  <line x1=\"10\" y1=\"53\" x2=\"72\" y2=\"116\" />\n",
       "  <line x1=\"10\" y1=\"66\" x2=\"72\" y2=\"129\" />\n",
       "  <line x1=\"10\" y1=\"80\" x2=\"72\" y2=\"142\" />\n",
       "  <line x1=\"10\" y1=\"93\" x2=\"72\" y2=\"156\" />\n",
       "  <line x1=\"10\" y1=\"106\" x2=\"72\" y2=\"169\" style=\"stroke-width:2\" />\n",
       "\n",
       "  <!-- Vertical lines -->\n",
       "  <line x1=\"10\" y1=\"0\" x2=\"10\" y2=\"106\" style=\"stroke-width:2\" />\n",
       "  <line x1=\"17\" y1=\"7\" x2=\"17\" y2=\"114\" />\n",
       "  <line x1=\"25\" y1=\"15\" x2=\"25\" y2=\"122\" />\n",
       "  <line x1=\"33\" y1=\"23\" x2=\"33\" y2=\"130\" />\n",
       "  <line x1=\"41\" y1=\"31\" x2=\"41\" y2=\"138\" />\n",
       "  <line x1=\"49\" y1=\"39\" x2=\"49\" y2=\"145\" />\n",
       "  <line x1=\"57\" y1=\"47\" x2=\"57\" y2=\"153\" />\n",
       "  <line x1=\"64\" y1=\"54\" x2=\"64\" y2=\"161\" />\n",
       "  <line x1=\"72\" y1=\"62\" x2=\"72\" y2=\"169\" style=\"stroke-width:2\" />\n",
       "\n",
       "  <!-- Colored Rectangle -->\n",
       "  <polygon points=\"10.0,0.0 72.74509803921569,62.74509803921569 72.74509803921569,169.41176470588238 10.0,106.66666666666667\" style=\"fill:#ECB172A0;stroke-width:0\"/>\n",
       "\n",
       "  <!-- Horizontal lines -->\n",
       "  <line x1=\"10\" y1=\"0\" x2=\"130\" y2=\"0\" style=\"stroke-width:2\" />\n",
       "  <line x1=\"17\" y1=\"7\" x2=\"137\" y2=\"7\" />\n",
       "  <line x1=\"25\" y1=\"15\" x2=\"145\" y2=\"15\" />\n",
       "  <line x1=\"33\" y1=\"23\" x2=\"153\" y2=\"23\" />\n",
       "  <line x1=\"41\" y1=\"31\" x2=\"161\" y2=\"31\" />\n",
       "  <line x1=\"49\" y1=\"39\" x2=\"169\" y2=\"39\" />\n",
       "  <line x1=\"57\" y1=\"47\" x2=\"177\" y2=\"47\" />\n",
       "  <line x1=\"64\" y1=\"54\" x2=\"184\" y2=\"54\" />\n",
       "  <line x1=\"72\" y1=\"62\" x2=\"192\" y2=\"62\" style=\"stroke-width:2\" />\n",
       "\n",
       "  <!-- Vertical lines -->\n",
       "  <line x1=\"10\" y1=\"0\" x2=\"72\" y2=\"62\" style=\"stroke-width:2\" />\n",
       "  <line x1=\"23\" y1=\"0\" x2=\"86\" y2=\"62\" />\n",
       "  <line x1=\"36\" y1=\"0\" x2=\"99\" y2=\"62\" />\n",
       "  <line x1=\"50\" y1=\"0\" x2=\"112\" y2=\"62\" />\n",
       "  <line x1=\"63\" y1=\"0\" x2=\"126\" y2=\"62\" />\n",
       "  <line x1=\"76\" y1=\"0\" x2=\"139\" y2=\"62\" />\n",
       "  <line x1=\"90\" y1=\"0\" x2=\"152\" y2=\"62\" />\n",
       "  <line x1=\"103\" y1=\"0\" x2=\"166\" y2=\"62\" />\n",
       "  <line x1=\"116\" y1=\"0\" x2=\"179\" y2=\"62\" />\n",
       "  <line x1=\"130\" y1=\"0\" x2=\"192\" y2=\"62\" style=\"stroke-width:2\" />\n",
       "\n",
       "  <!-- Colored Rectangle -->\n",
       "  <polygon points=\"10.0,0.0 130.0,0.0 192.7450980392157,62.74509803921569 72.74509803921569,62.74509803921569\" style=\"fill:#ECB172A0;stroke-width:0\"/>\n",
       "\n",
       "  <!-- Horizontal lines -->\n",
       "  <line x1=\"72\" y1=\"62\" x2=\"192\" y2=\"62\" style=\"stroke-width:2\" />\n",
       "  <line x1=\"72\" y1=\"76\" x2=\"192\" y2=\"76\" />\n",
       "  <line x1=\"72\" y1=\"89\" x2=\"192\" y2=\"89\" />\n",
       "  <line x1=\"72\" y1=\"102\" x2=\"192\" y2=\"102\" />\n",
       "  <line x1=\"72\" y1=\"116\" x2=\"192\" y2=\"116\" />\n",
       "  <line x1=\"72\" y1=\"129\" x2=\"192\" y2=\"129\" />\n",
       "  <line x1=\"72\" y1=\"142\" x2=\"192\" y2=\"142\" />\n",
       "  <line x1=\"72\" y1=\"156\" x2=\"192\" y2=\"156\" />\n",
       "  <line x1=\"72\" y1=\"169\" x2=\"192\" y2=\"169\" style=\"stroke-width:2\" />\n",
       "\n",
       "  <!-- Vertical lines -->\n",
       "  <line x1=\"72\" y1=\"62\" x2=\"72\" y2=\"169\" style=\"stroke-width:2\" />\n",
       "  <line x1=\"86\" y1=\"62\" x2=\"86\" y2=\"169\" />\n",
       "  <line x1=\"99\" y1=\"62\" x2=\"99\" y2=\"169\" />\n",
       "  <line x1=\"112\" y1=\"62\" x2=\"112\" y2=\"169\" />\n",
       "  <line x1=\"126\" y1=\"62\" x2=\"126\" y2=\"169\" />\n",
       "  <line x1=\"139\" y1=\"62\" x2=\"139\" y2=\"169\" />\n",
       "  <line x1=\"152\" y1=\"62\" x2=\"152\" y2=\"169\" />\n",
       "  <line x1=\"166\" y1=\"62\" x2=\"166\" y2=\"169\" />\n",
       "  <line x1=\"179\" y1=\"62\" x2=\"179\" y2=\"169\" />\n",
       "  <line x1=\"192\" y1=\"62\" x2=\"192\" y2=\"169\" style=\"stroke-width:2\" />\n",
       "\n",
       "  <!-- Colored Rectangle -->\n",
       "  <polygon points=\"72.74509803921569,62.74509803921569 192.7450980392157,62.74509803921569 192.7450980392157,169.41176470588238 72.74509803921569,169.41176470588238\" style=\"fill:#ECB172A0;stroke-width:0\"/>\n",
       "\n",
       "  <!-- Text -->\n",
       "  <text x=\"132.745098\" y=\"189.411765\" font-size=\"1.0rem\" font-weight=\"100\" text-anchor=\"middle\" >2304</text>\n",
       "  <text x=\"212.745098\" y=\"116.078431\" font-size=\"1.0rem\" font-weight=\"100\" text-anchor=\"middle\" transform=\"rotate(-90,212.745098,116.078431)\">2048</text>\n",
       "  <text x=\"31.372549\" y=\"158.039216\" font-size=\"1.0rem\" font-weight=\"100\" text-anchor=\"middle\" transform=\"rotate(45,31.372549,158.039216)\">2048</text>\n",
       "</svg>\n",
       "        </td>\n",
       "    </tr>\n",
       "</table>"
      ],
      "text/plain": [
       "dask.array<rechunk-merge, shape=(2048, 2048, 2304), dtype=uint8, chunksize=(256, 256, 256), chunktype=numpy.ndarray>"
      ]
     },
     "execution_count": 80,
     "metadata": {},
     "output_type": "execute_result"
    }
   ],
   "source": [
    "prediction_mask_da = da.from_zarr(\n",
    "    \"/nrs/cellmap/ackermand/cellmap/leaf-gall/validation_masks.zarr\",\n",
    "    \"jrc_22ak351-leaf-3m\",\n",
    "    chunks=(128, 128, 128),\n",
    ")\n",
    "\n",
    "start_prediction = np.array(roi.begin / 128).astype(int)\n",
    "end_prediction = np.array(roi.end / 128).astype(int)\n",
    "prediction_mask_da = prediction_mask_da[\n",
    "    start_prediction[0] : end_prediction[0],\n",
    "    start_prediction[1] : end_prediction[1],\n",
    "    start_prediction[2] : end_prediction[2],\n",
    "]\n",
    "prediction_mask_da = (\n",
    "    prediction_mask_da.repeat(16, axis=0).repeat(16, axis=1).repeat(16, axis=2)\n",
    ")\n",
    "prediction_mask_da = prediction_mask_da.rechunk((256, 256, 256))\n",
    "prediction_mask_da"
   ]
  },
  {
   "cell_type": "code",
   "execution_count": 3,
   "metadata": {},
   "outputs": [
    {
     "data": {
      "text/plain": [
       "<matplotlib.image.AxesImage at 0x7f656af0af50>"
      ]
     },
     "execution_count": 3,
     "metadata": {},
     "output_type": "execute_result"
    },
    {
     "data": {
      "image/png": "[encoded data removed]",
      "text/plain": [
       "<Figure size 2000x1200 with 3 Axes>"
      ]
     },
     "metadata": {},
     "output_type": "display_data"
    }
   ],
   "source": [
    "import matplotlib.pyplot as plt\n",
    "\n",
    "plt.subplots(3, 1, figsize=(20, 12))\n",
    "plt.subplot(3, 1, 1)\n",
    "p = prediction_mask_da[:, 1000, :]\n",
    "p = p.compute()\n",
    "plt.imshow(p, interpolation=\"none\")\n",
    "\n",
    "gt = gt_da[:, 1000, :]\n",
    "gt = gt.compute()\n",
    "plt.subplot(3, 1, 2)\n",
    "plt.imshow(gt > 0, interpolation=\"none\")\n",
    "\n",
    "test = test_da[:, 1000, :]\n",
    "test = test.compute()\n",
    "plt.subplot(3, 1, 3)\n",
    "plt.imshow(test > 0, interpolation=\"none\")"
   ]
  },
  {
   "cell_type": "code",
   "execution_count": 10,
   "metadata": {},
   "outputs": [
    {
     "name": "stdout",
     "output_type": "stream",
     "text": [
      "974 892\n"
     ]
    }
   ],
   "source": [
    "import pickle\n",
    "import numpy as np\n",
    "\n",
    "\n",
    "with open(\"validation_processing_result.pickle\", \"rb\") as f:\n",
    "    res = pickle.load(f)\n",
    "test_id_counts = {}\n",
    "gt_id_counts = {}\n",
    "for current_dict in res:\n",
    "    if current_dict:\n",
    "        for k, v in current_dict.items():\n",
    "            gt_id, test_id = k\n",
    "            if gt_id > 0:\n",
    "                if test_id not in test_id_counts:\n",
    "                    test_id_counts[test_id] = v\n",
    "                else:\n",
    "                    test_id_counts[test_id] += v\n",
    "\n",
    "                if gt_id not in gt_id_counts:\n",
    "                    gt_id_counts[gt_id] = v\n",
    "                else:\n",
    "                    gt_id_counts[gt_id] += v\n",
    "\n",
    "vs = np.array(list(test_id_counts.values()))\n",
    "print(np.sum(np.array(list(gt_id_counts.values())) > 0), np.sum(vs > 0))"
   ]
  },
  {
   "cell_type": "code",
   "execution_count": 2,
   "metadata": {},
   "outputs": [],
   "source": [
    "import dask.array as da\n",
    "from funlib.geometry import Roi\n",
    "import numpy as np\n",
    "\n",
    "roi = Roi((19952, 9736, 153344), (13464, 14064, 15104)).snap_to_grid((8, 8, 8))\n",
    "# need to snap to 256 since we are using that for chunk size and because chunks start at 0,0,0\n",
    "# in voxels\n",
    "s_original = np.array(roi.begin / 8).astype(int)\n",
    "e = np.array(roi.end / 8).astype(int)\n",
    "\n",
    "roi = roi.snap_to_grid((256 * 8, 256 * 8, 256 * 8))\n",
    "s = np.array(roi.begin / 8).astype(int)\n",
    "\n",
    "test_da = da.from_zarr(\n",
    "    \"/nrs/cellmap/ackermand/predictions/jrc_22ak351-leaf-3m/jrc_22ak351-leaf-3m.n5\",\n",
    "    \"processed/2023-08-17/plasmodesmata_affs_lsds/0/fragments_relabeled/\",\n",
    "    chunks=(256, 256, 256),\n",
    ")\n",
    "test_da = da.pad(\n",
    "    test_da,\n",
    "    [(s_original[i] - s[i], 0) for i in range(3)],\n",
    "    mode=\"constant\",\n",
    "    constant_values=0,\n",
    ")\n",
    "test_da = test_da.rechunk((256, 256, 256))\n",
    "\n",
    "gt_da = da.from_zarr(\n",
    "    \"/nrs/cellmap/ackermand/cellmap/leaf-gall/jrc_22ak351-leaf-3m.n5\",\n",
    "    \"larger_validation_crop\",\n",
    "    chunks=(256, 256, 256),\n",
    ")\n",
    "gt_da = gt_da[s[0] : e[0], s[1] : e[1], s[2] : e[2]]"
   ]
  },
  {
   "cell_type": "code",
   "execution_count": 21,
   "metadata": {},
   "outputs": [
    {
     "name": "stdout",
     "output_type": "stream",
     "text": [
      "[[[0.89552253 0.5178612 ]\n",
      "  [0.64727431 0.79562215]]\n",
      "\n",
      " [[0.5017423  0.24596905]\n",
      "  [0.98897249 0.52345661]]] [[[0.59480061 0.92093337]\n",
      "  [0.7366641  0.24027499]]\n",
      "\n",
      " [[0.65958781 0.68071869]\n",
      "  [0.36993547 0.05152294]]]\n"
     ]
    }
   ],
   "source": [
    "a = np.random.random((2, 2, 2))\n",
    "b = np.random.random((2, 2, 2))\n",
    "\n",
    "print(a, b)"
   ]
  },
  {
   "cell_type": "code",
   "execution_count": 27,
   "metadata": {},
   "outputs": [],
   "source": [
    "pairs, counts = np.unique(np.array([a.ravel(), b.ravel()]), axis=1, return_counts=True)"
   ]
  },
  {
   "cell_type": "code",
   "execution_count": 29,
   "metadata": {},
   "outputs": [
    {
     "data": {
      "text/plain": [
       "array([0.24596905, 0.5017423 , 0.5178612 , 0.52345661, 0.64727431,\n",
       "       0.79562215, 0.89552253, 0.98897249])"
      ]
     },
     "execution_count": 29,
     "metadata": {},
     "output_type": "execute_result"
    }
   ],
   "source": [
    "pairs[0]"
   ]
  },
  {
   "cell_type": "code",
   "execution_count": 11,
   "metadata": {},
   "outputs": [
    {
     "data": {
      "text/plain": [
       "array([3, 4])"
      ]
     },
     "execution_count": 11,
     "metadata": {},
     "output_type": "execute_result"
    }
   ],
   "source": [
    "b = a[a > 2]\n",
    "np.unique(b)"
   ]
  },
  {
   "cell_type": "code",
   "execution_count": null,
   "metadata": {},
   "outputs": [],
   "source": [
    "import dask.array as da\n",
    "from dask.distributed import Client, LocalCluster\n",
    "import numpy as np\n",
    "from scipy.ndimage import binary_erosion\n",
    "import socket\n",
    "import itertools\n",
    "from funlib.persistence import open_ds\n",
    "from funlib.geometry import Roi\n",
    "\n",
    "# startup dask\n",
    "with LocalCluster(n_workers=8, threads_per_worker=1) as cluster:\n",
    "    with Client(cluster) as client:\n",
    "        print(\n",
    "            f'Click here to monitor job: {client.dashboard_link.replace(\"127.0.0.1\", socket.gethostname())}'\n",
    "        )\n",
    "\n",
    "        # get nucleus data\n",
    "        offset = np.array([13048, 54080, 15944])\n",
    "        dimension = np.array(\n",
    "            [10696, 10536, 12960]\n",
    "            # [100,100,100]\n",
    "            # [5000, 5000, 5000]\n",
    "        )\n",
    "\n",
    "        roi = Roi(offset, dimension).snap_to_grid((16, 16, 16))\n",
    "        offset = np.array(roi.begin / 8)\n",
    "        dimension = np.array(roi.shape / 8)\n",
    "\n",
    "        # now offset = (1630, 6760, 1992)\n",
    "        # now dimension = (1338, 1318, 1622)\n",
    "        # used to be (1631, 6760, 1993)\n",
    "        # (1337, 1317, 1620)\n",
    "\n",
    "        nucleus = da.from_zarr(\n",
    "            \"/nrs/cellmap/ackermand/cellmap/jrc_mus-liver-zon-1.n5\",\n",
    "            \"nucleus\",\n",
    "            chunks=(256, 256, 256),\n",
    "        )\n",
    "        s = (offset / 2).astype(int)\n",
    "        e = ((offset + dimension) / 2).astype(int)\n",
    "        nucleus = nucleus[s[0] : e[0], s[1] : e[1], s[2] : e[2]]\n",
    "        nucleus = nucleus == 93  # the specific nucleus we are choosing\n",
    "\n",
    "        # get surface\n",
    "        surface = nucleus ^ binary_erosion(nucleus)\n",
    "\n",
    "        # convert from 16 nm to 8 nm resolution\n",
    "        surface = surface.repeat(2, axis=0).repeat(2, axis=1).repeat(2, axis=2)\n",
    "        nucleus = nucleus.repeat(2, axis=0).repeat(2, axis=1).repeat(2, axis=2)\n",
    "\n",
    "        # get pore voxels\n",
    "        pores = da.from_zarr(\n",
    "            \"/nrs/cellmap/nguyenh3/cellmap/predictions/jrc_mus-liver-zon-1/jrc_mus-liver-zon-1.n5\",\n",
    "            \"processed/2023-07-19-masked/nuclear_pores_affs_lsds/0/fragments_relabeled/\",\n",
    "            chunks=(512, 512, 512),\n",
    "        )\n",
    "\n",
    "        # so basically pores starts at whatever my predictions box is, but reading from zarr it sees that corner as 0,0,0\n",
    "        # not what the ROI actually is. (the nucleus predictions do actually start at 0,0,0 tho)\n",
    "        # so i have to subtract to make it line up\n",
    "\n",
    "        pred_roi = Roi(\n",
    "            np.array([7704, 54080, 14152]), np.array([315048, 74488, 85432])\n",
    "        ).snap_to_grid((16, 16, 16))\n",
    "        print(pred_roi)\n",
    "        pred_offset = np.array(pred_roi.begin) / 8  # to get to voxels\n",
    "        print(pred_offset)\n",
    "        pores_offset = offset - pred_offset\n",
    "        print(pores_offset)\n",
    "        s = (pores_offset).astype(int)\n",
    "        e = ((pores_offset + dimension)).astype(int)\n",
    "\n",
    "        pores = pores > 0\n",
    "        pores = pores[s[0] : e[0], s[1] : e[1], s[2] : e[2]]\n",
    "\n",
    "        # summer to return count of surface exposed faces\n",
    "        def summer(n, s):\n",
    "            return da.sum(da.map_overlap(get_surface_counts, n, s, depth=1))\n",
    "        \n",
    "        da.reduction(\n",
    "        # do calculations\n",
    "        prod = da.multiply(surface, pores)  # gets where surface and pores overlap\n",
    "        num = summer(nucleus, prod).compute()  # specifically counts surface of pores\n",
    "\n",
    "        print(f\"# surface faces at nuclear pores: {num}\")\n",
    "\n",
    "        den = summer(nucleus, surface).compute()  # counts surface of whole nuc\n",
    "\n",
    "        print(f\"# surface faces: {den}\")\n",
    "        print(f\"Fraction of surface faces at nuclear pores: {num/den}\")"
   ]
  },
  {
   "cell_type": "code",
   "execution_count": 5,
   "metadata": {},
   "outputs": [
    {
     "data": {
      "text/plain": [
       "dtype('uint64')"
      ]
     },
     "execution_count": 5,
     "metadata": {},
     "output_type": "execute_result"
    }
   ],
   "source": [
    "import numpy as np\n",
    "\n",
    "best.dtype"
   ]
  },
  {
   "cell_type": "code",
   "execution_count": 6,
   "metadata": {},
   "outputs": [
    {
     "data": {
      "text/plain": [
       "0"
      ]
     },
     "execution_count": 6,
     "metadata": {},
     "output_type": "execute_result"
    }
   ],
   "source": []
  },
  {
   "cell_type": "code",
   "execution_count": 1,
   "metadata": {},
   "outputs": [
    {
     "ename": "NameError",
     "evalue": "name 'df' is not defined",
     "output_type": "error",
     "traceback": [
      "\u001b[0;31m---------------------------------------------------------------------------\u001b[0m",
      "\u001b[0;31mNameError\u001b[0m                                 Traceback (most recent call last)",
      "Cell \u001b[0;32mIn[1], line 1\u001b[0m\n\u001b[0;32m----> 1\u001b[0m f1_max \u001b[39m=\u001b[39m \u001b[39mmax\u001b[39m(df[\u001b[39m\"\u001b[39m\u001b[39mdetection_f1\u001b[39m\u001b[39m\"\u001b[39m]\u001b[39m.\u001b[39mmax(), df[\u001b[39m\"\u001b[39m\u001b[39mdetection_iou_f1\u001b[39m\u001b[39m\"\u001b[39m]\u001b[39m.\u001b[39mmax())\n\u001b[1;32m      2\u001b[0m df_maxs \u001b[39m=\u001b[39m df[(df[\u001b[39m\"\u001b[39m\u001b[39mdetection_f1\u001b[39m\u001b[39m\"\u001b[39m] \u001b[39m==\u001b[39m f1_max) \u001b[39m|\u001b[39m (df[\u001b[39m\"\u001b[39m\u001b[39mdetection_iou_f1\u001b[39m\u001b[39m\"\u001b[39m] \u001b[39m==\u001b[39m f1_max)]\n\u001b[1;32m      3\u001b[0m \u001b[39mprint\u001b[39m(f1_max, df_maxs[\u001b[39m\"\u001b[39m\u001b[39mfull_path\u001b[39m\u001b[39m\"\u001b[39m]\u001b[39m.\u001b[39mvalues)\n",
      "\u001b[0;31mNameError\u001b[0m: name 'df' is not defined"
     ]
    }
   ],
   "source": [
    "f1_max = max(df[\"detection_f1\"].max(), df[\"detection_iou_f1\"].max())\n",
    "df_maxs = df[(df[\"detection_f1\"] == f1_max) | (df[\"detection_iou_f1\"] == f1_max)]\n",
    "print(f1_max, df_maxs[\"full_path\"].values)"
   ]
  },
  {
   "attachments": {},
   "cell_type": "markdown",
   "metadata": {},
   "source": [
    "# Write out segmentations as annotations"
   ]
  },
  {
   "cell_type": "code",
   "execution_count": 26,
   "metadata": {},
   "outputs": [
    {
     "name": "stderr",
     "output_type": "stream",
     "text": [
      "391068it [00:00, 509063.50it/s]\n"
     ]
    }
   ],
   "source": [
    "import pandas as pd\n",
    "import numpy as np\n",
    "import matplotlib.pyplot as plt\n",
    "from tqdm import tqdm\n",
    "from funlib.persistence import open_ds\n",
    "\n",
    "mask = open_ds(\n",
    "    \"/nrs/cellmap/jonesa/jrc_22ak351-leaf-3m/crop352_mask_revised.zarr\", \"s0\"\n",
    ")\n",
    "mask.materialize()\n",
    "frags = pd.read_csv(\n",
    "    \"/nrs/cellmap/ackermand/cellmap/analysisResults/leaf-gall/jrc_22ak351-leaf-3m.n5/fragments_relabeled.csv\"\n",
    ")\n",
    "volume = frags[\"Volume (nm^3)\"].to_numpy()\n",
    "offsets = np.array([22400.0, 12800.0, 0])\n",
    "count = 0\n",
    "ids = frags[\"Object ID\"].to_numpy()\n",
    "com_z = frags[\"COM Z (nm)\"].to_numpy() - offsets[0]\n",
    "com_y = frags[\"COM Y (nm)\"].to_numpy() - offsets[1]\n",
    "com_x = frags[\"COM X (nm)\"].to_numpy() - offsets[2]\n",
    "ids_to_keep = np.ones_like(ids, dtype=bool)\n",
    "for idx, (id, v, z, y, x) in tqdm(enumerate(zip(ids, volume, com_z, com_y, com_x))):\n",
    "    try:\n",
    "        if (\n",
    "            v < (10**3 * 8**3)\n",
    "            or mask.data[int(z // 128), int(y // 128), int(x // 128)] > 0\n",
    "        ):\n",
    "            ids_to_keep[idx] = 0\n",
    "            # print(np.sum(v<10*10*10*8*8*8)/len(v),len(v))\n",
    "            # plt.hist(v,bins=list(range(0,3_000_000,100000)))\n",
    "            # ds.data\n",
    "    except:\n",
    "        ids_to_keep[idx] = 0"
   ]
  },
  {
   "cell_type": "code",
   "execution_count": 27,
   "metadata": {},
   "outputs": [
    {
     "data": {
      "text/plain": [
       "190714"
      ]
     },
     "execution_count": 27,
     "metadata": {},
     "output_type": "execute_result"
    }
   ],
   "source": [
    "ids_to_keep.sum()"
   ]
  },
  {
   "cell_type": "code",
   "execution_count": 29,
   "metadata": {},
   "outputs": [
    {
     "name": "stderr",
     "output_type": "stream",
     "text": [
      "100%|██████████| 190714/190714 [00:14<00:00, 12860.16it/s]\n"
     ]
    },
    {
     "data": {
      "text/plain": [
       "'precomputed://https://cellmap-vm1.int.janelia.org/dm11/ackermand/neuroglancer_annotations/segmentations/fragments_relabeled'"
      ]
     },
     "execution_count": 29,
     "metadata": {},
     "output_type": "execute_result"
    }
   ],
   "source": [
    "import struct\n",
    "import os\n",
    "import struct\n",
    "import numpy as np\n",
    "import json\n",
    "from time import sleep\n",
    "from datetime import datetime\n",
    "import pandas as pd\n",
    "from tqdm import tqdm\n",
    "\n",
    "\n",
    "def write_precomputed_annotations(annotation_type, annotations):\n",
    "    # write_time = datetime.now().strftime(\"%Y%m%d_%H%M%S\")\n",
    "    output_directory = \"/groups/cellmap/cellmap/ackermand/neuroglancer_annotations/segmentations/fragments_relabeled\"\n",
    "\n",
    "    os.makedirs(f\"{output_directory}/spatial0\")\n",
    "    if annotation_type == \"line\":\n",
    "        coords_to_write = 6\n",
    "    else:\n",
    "        coords_to_write = 3\n",
    "\n",
    "    with open(f\"{output_directory}/spatial0/0_0_0\", \"wb\") as outfile:\n",
    "        total_count = len(annotations)\n",
    "        buf = struct.pack(\"<Q\", total_count)\n",
    "        for annotation in tqdm(annotations):\n",
    "            annotation_buf = struct.pack(f\"<{coords_to_write}f\", *annotation)\n",
    "            buf += annotation_buf\n",
    "        # write the ids at the end of the buffer as increasing integers\n",
    "        id_buf = struct.pack(\n",
    "            f\"<{total_count}Q\", *range(1, len(annotations) + 1, 1)\n",
    "        )  # so start at 1\n",
    "        # id_buf = struct.pack('<%sQ' % len(coordinates), 3,1 )#s*range(len(coordinates)))\n",
    "        buf += id_buf\n",
    "        outfile.write(buf)\n",
    "\n",
    "    max_extents = annotations.reshape((-1, 3)).max(axis=0) + 1\n",
    "    max_extents = [int(max_extent) for max_extent in max_extents]\n",
    "    info = {\n",
    "        \"@type\": \"neuroglancer_annotations_v1\",\n",
    "        \"dimensions\": {\"x\": [1, \"nm\"], \"y\": [1, \"nm\"], \"z\": [1, \"nm\"]},\n",
    "        \"by_id\": {\"key\": \"by_id\"},\n",
    "        \"lower_bound\": [0, 0, 0],\n",
    "        \"upper_bound\": max_extents,\n",
    "        \"annotation_type\": annotation_type,\n",
    "        \"properties\": [],\n",
    "        \"relationships\": [],\n",
    "        \"spatial\": [\n",
    "            {\n",
    "                \"chunk_size\": max_extents,\n",
    "                \"grid_shape\": [1, 1, 1],\n",
    "                \"key\": \"spatial0\",\n",
    "                \"limit\": 1,\n",
    "            }\n",
    "        ],\n",
    "    }\n",
    "\n",
    "    with open(f\"{output_directory}/info\", \"w\") as info_file:\n",
    "        json.dump(info, info_file)\n",
    "\n",
    "    return output_directory.replace(\n",
    "        \"/groups/cellmap/cellmap/ackermand/\",\n",
    "        \"precomputed://https://cellmap-vm1.int.janelia.org/dm11/ackermand/\",\n",
    "    )\n",
    "\n",
    "\n",
    "frags = pd.read_csv(\n",
    "    \"/nrs/cellmap/ackermand/cellmap/analysisResults/leaf-gall/jrc_22ak351-leaf-3m.n5/fragments_relabeled.csv\"\n",
    ")\n",
    "id = frags[\"Object ID\"]\n",
    "com_x = frags[\"COM X (nm)\"].to_numpy()\n",
    "com_y = frags[\"COM Y (nm)\"].to_numpy()\n",
    "com_z = frags[\"COM Z (nm)\"].to_numpy()\n",
    "min_x = frags[\"MIN X (nm)\"].to_numpy()\n",
    "min_y = frags[\"MIN Y (nm)\"].to_numpy()\n",
    "min_z = frags[\"MIN Z (nm)\"].to_numpy()\n",
    "max_x = frags[\"MAX X (nm)\"].to_numpy()\n",
    "max_y = frags[\"MAX Y (nm)\"].to_numpy()\n",
    "max_z = frags[\"MAX Z (nm)\"].to_numpy()\n",
    "annotations = np.column_stack(\n",
    "    (\n",
    "        min_x[ids_to_keep],\n",
    "        min_y[ids_to_keep],\n",
    "        min_z[ids_to_keep],\n",
    "        max_x[ids_to_keep],\n",
    "        max_y[ids_to_keep],\n",
    "        max_z[ids_to_keep],\n",
    "    )\n",
    ")\n",
    "# write_precomputed_annotations(\"line\", annotations)\n",
    "write_precomputed_annotations(\n",
    "    \"point\",\n",
    "    np.column_stack((com_x[ids_to_keep], com_y[ids_to_keep], com_z[ids_to_keep])),\n",
    ")"
   ]
  },
  {
   "cell_type": "code",
   "execution_count": 3,
   "metadata": {},
   "outputs": [],
   "source": [
    "from scipy.stats import gaussian_kde\n",
    "import pandas as pd\n",
    "import numpy as np\n",
    "\n",
    "frags = pd.read_csv(\n",
    "    \"/nrs/cellmap/ackermand/cellmap/analysisResults/leaf-gall/jrc_22ak351-leaf-3m.n5/fragments_relabeled.csv\"\n",
    ")\n",
    "id = frags[\"Object ID\"]\n",
    "com_x = frags[\"COM X (nm)\"].to_numpy()\n",
    "com_y = frags[\"COM Y (nm)\"].to_numpy()\n",
    "com_z = frags[\"COM Z (nm)\"].to_numpy()\n",
    "density = gaussian_kde(np.column_stack((com_x, com_y, com_z)).T)"
   ]
  },
  {
   "cell_type": "code",
   "execution_count": 13,
   "metadata": {},
   "outputs": [
    {
     "ename": "TypeError",
     "evalue": "Invalid shape (100, 100, 100) for image data",
     "output_type": "error",
     "traceback": [
      "\u001b[0;31m---------------------------------------------------------------------------\u001b[0m",
      "\u001b[0;31mTypeError\u001b[0m                                 Traceback (most recent call last)",
      "Cell \u001b[0;32mIn[13], line 26\u001b[0m\n\u001b[1;32m     24\u001b[0m \u001b[39mimport\u001b[39;00m \u001b[39mmatplotlib\u001b[39;00m\u001b[39m.\u001b[39;00m\u001b[39mpyplot\u001b[39;00m \u001b[39mas\u001b[39;00m \u001b[39mplt\u001b[39;00m\n\u001b[1;32m     25\u001b[0m fig, ax \u001b[39m=\u001b[39m plt\u001b[39m.\u001b[39msubplots()\n\u001b[0;32m---> 26\u001b[0m ax\u001b[39m.\u001b[39;49mimshow(np\u001b[39m.\u001b[39;49mrot90(Z), cmap\u001b[39m=\u001b[39;49mplt\u001b[39m.\u001b[39;49mcm\u001b[39m.\u001b[39;49mgist_earth_r,\n\u001b[1;32m     27\u001b[0m           extent\u001b[39m=\u001b[39;49m[xmin, xmax, ymin, ymax, zmin, zmax])\n\u001b[1;32m     28\u001b[0m ax\u001b[39m.\u001b[39mplot(m1, m2, \u001b[39m'\u001b[39m\u001b[39mk.\u001b[39m\u001b[39m'\u001b[39m, markersize\u001b[39m=\u001b[39m\u001b[39m2\u001b[39m)\n\u001b[1;32m     29\u001b[0m ax\u001b[39m.\u001b[39mset_xlim([xmin, xmax])\n",
      "File \u001b[0;32m~/miniconda3/envs/cellmap_experiments/lib/python3.10/site-packages/matplotlib/__init__.py:1442\u001b[0m, in \u001b[0;36m_preprocess_data.<locals>.inner\u001b[0;34m(ax, data, *args, **kwargs)\u001b[0m\n\u001b[1;32m   1439\u001b[0m \u001b[39m@functools\u001b[39m\u001b[39m.\u001b[39mwraps(func)\n\u001b[1;32m   1440\u001b[0m \u001b[39mdef\u001b[39;00m \u001b[39minner\u001b[39m(ax, \u001b[39m*\u001b[39margs, data\u001b[39m=\u001b[39m\u001b[39mNone\u001b[39;00m, \u001b[39m*\u001b[39m\u001b[39m*\u001b[39mkwargs):\n\u001b[1;32m   1441\u001b[0m     \u001b[39mif\u001b[39;00m data \u001b[39mis\u001b[39;00m \u001b[39mNone\u001b[39;00m:\n\u001b[0;32m-> 1442\u001b[0m         \u001b[39mreturn\u001b[39;00m func(ax, \u001b[39m*\u001b[39;49m\u001b[39mmap\u001b[39;49m(sanitize_sequence, args), \u001b[39m*\u001b[39;49m\u001b[39m*\u001b[39;49mkwargs)\n\u001b[1;32m   1444\u001b[0m     bound \u001b[39m=\u001b[39m new_sig\u001b[39m.\u001b[39mbind(ax, \u001b[39m*\u001b[39margs, \u001b[39m*\u001b[39m\u001b[39m*\u001b[39mkwargs)\n\u001b[1;32m   1445\u001b[0m     auto_label \u001b[39m=\u001b[39m (bound\u001b[39m.\u001b[39marguments\u001b[39m.\u001b[39mget(label_namer)\n\u001b[1;32m   1446\u001b[0m                   \u001b[39mor\u001b[39;00m bound\u001b[39m.\u001b[39mkwargs\u001b[39m.\u001b[39mget(label_namer))\n",
      "File \u001b[0;32m~/miniconda3/envs/cellmap_experiments/lib/python3.10/site-packages/matplotlib/axes/_axes.py:5665\u001b[0m, in \u001b[0;36mAxes.imshow\u001b[0;34m(self, X, cmap, norm, aspect, interpolation, alpha, vmin, vmax, origin, extent, interpolation_stage, filternorm, filterrad, resample, url, **kwargs)\u001b[0m\n\u001b[1;32m   5657\u001b[0m \u001b[39mself\u001b[39m\u001b[39m.\u001b[39mset_aspect(aspect)\n\u001b[1;32m   5658\u001b[0m im \u001b[39m=\u001b[39m mimage\u001b[39m.\u001b[39mAxesImage(\u001b[39mself\u001b[39m, cmap\u001b[39m=\u001b[39mcmap, norm\u001b[39m=\u001b[39mnorm,\n\u001b[1;32m   5659\u001b[0m                       interpolation\u001b[39m=\u001b[39minterpolation, origin\u001b[39m=\u001b[39morigin,\n\u001b[1;32m   5660\u001b[0m                       extent\u001b[39m=\u001b[39mextent, filternorm\u001b[39m=\u001b[39mfilternorm,\n\u001b[1;32m   5661\u001b[0m                       filterrad\u001b[39m=\u001b[39mfilterrad, resample\u001b[39m=\u001b[39mresample,\n\u001b[1;32m   5662\u001b[0m                       interpolation_stage\u001b[39m=\u001b[39minterpolation_stage,\n\u001b[1;32m   5663\u001b[0m                       \u001b[39m*\u001b[39m\u001b[39m*\u001b[39mkwargs)\n\u001b[0;32m-> 5665\u001b[0m im\u001b[39m.\u001b[39;49mset_data(X)\n\u001b[1;32m   5666\u001b[0m im\u001b[39m.\u001b[39mset_alpha(alpha)\n\u001b[1;32m   5667\u001b[0m \u001b[39mif\u001b[39;00m im\u001b[39m.\u001b[39mget_clip_path() \u001b[39mis\u001b[39;00m \u001b[39mNone\u001b[39;00m:\n\u001b[1;32m   5668\u001b[0m     \u001b[39m# image does not already have clipping set, clip to axes patch\u001b[39;00m\n",
      "File \u001b[0;32m~/miniconda3/envs/cellmap_experiments/lib/python3.10/site-packages/matplotlib/image.py:710\u001b[0m, in \u001b[0;36m_ImageBase.set_data\u001b[0;34m(self, A)\u001b[0m\n\u001b[1;32m    706\u001b[0m     \u001b[39mself\u001b[39m\u001b[39m.\u001b[39m_A \u001b[39m=\u001b[39m \u001b[39mself\u001b[39m\u001b[39m.\u001b[39m_A[:, :, \u001b[39m0\u001b[39m]\n\u001b[1;32m    708\u001b[0m \u001b[39mif\u001b[39;00m \u001b[39mnot\u001b[39;00m (\u001b[39mself\u001b[39m\u001b[39m.\u001b[39m_A\u001b[39m.\u001b[39mndim \u001b[39m==\u001b[39m \u001b[39m2\u001b[39m\n\u001b[1;32m    709\u001b[0m         \u001b[39mor\u001b[39;00m \u001b[39mself\u001b[39m\u001b[39m.\u001b[39m_A\u001b[39m.\u001b[39mndim \u001b[39m==\u001b[39m \u001b[39m3\u001b[39m \u001b[39mand\u001b[39;00m \u001b[39mself\u001b[39m\u001b[39m.\u001b[39m_A\u001b[39m.\u001b[39mshape[\u001b[39m-\u001b[39m\u001b[39m1\u001b[39m] \u001b[39min\u001b[39;00m [\u001b[39m3\u001b[39m, \u001b[39m4\u001b[39m]):\n\u001b[0;32m--> 710\u001b[0m     \u001b[39mraise\u001b[39;00m \u001b[39mTypeError\u001b[39;00m(\u001b[39m\"\u001b[39m\u001b[39mInvalid shape \u001b[39m\u001b[39m{}\u001b[39;00m\u001b[39m for image data\u001b[39m\u001b[39m\"\u001b[39m\n\u001b[1;32m    711\u001b[0m                     \u001b[39m.\u001b[39mformat(\u001b[39mself\u001b[39m\u001b[39m.\u001b[39m_A\u001b[39m.\u001b[39mshape))\n\u001b[1;32m    713\u001b[0m \u001b[39mif\u001b[39;00m \u001b[39mself\u001b[39m\u001b[39m.\u001b[39m_A\u001b[39m.\u001b[39mndim \u001b[39m==\u001b[39m \u001b[39m3\u001b[39m:\n\u001b[1;32m    714\u001b[0m     \u001b[39m# If the input data has values outside the valid range (after\u001b[39;00m\n\u001b[1;32m    715\u001b[0m     \u001b[39m# normalisation), we issue a warning and then clip X to the bounds\u001b[39;00m\n\u001b[1;32m    716\u001b[0m     \u001b[39m# - otherwise casting wraps extreme values, hiding outliers and\u001b[39;00m\n\u001b[1;32m    717\u001b[0m     \u001b[39m# making reliable interpretation impossible.\u001b[39;00m\n\u001b[1;32m    718\u001b[0m     high \u001b[39m=\u001b[39m \u001b[39m255\u001b[39m \u001b[39mif\u001b[39;00m np\u001b[39m.\u001b[39missubdtype(\u001b[39mself\u001b[39m\u001b[39m.\u001b[39m_A\u001b[39m.\u001b[39mdtype, np\u001b[39m.\u001b[39minteger) \u001b[39melse\u001b[39;00m \u001b[39m1\u001b[39m\n",
      "\u001b[0;31mTypeError\u001b[0m: Invalid shape (100, 100, 100) for image data"
     ]
    },
    {
     "data": {
      "image/png": "[encoded data removed]",
      "text/plain": [
       "<Figure size 640x480 with 1 Axes>"
      ]
     },
     "metadata": {},
     "output_type": "display_data"
    }
   ],
   "source": [
    "import numpy as np\n",
    "from scipy import stats\n",
    "\n",
    "\n",
    "def measure(n):\n",
    "    \"Measurement model, return two coupled measurements.\"\n",
    "    m1 = np.random.normal(size=n)\n",
    "    m2 = np.random.normal(scale=0.5, size=n)\n",
    "    m3 = np.random.normal(size=n)\n",
    "    return m1 + m2, m1 - m2, m3\n",
    "\n",
    "\n",
    "m1, m2, m3 = measure(2000)\n",
    "xmin = m1.min()\n",
    "xmax = m1.max()\n",
    "ymin = m2.min()\n",
    "ymax = m2.max()\n",
    "zmin = m3.min()\n",
    "zmax = m3.max()\n",
    "\n",
    "X, Y, Z = np.mgrid[xmin:xmax:100j, ymin:ymax:100j, zmin:zmax:100j]\n",
    "positions = np.vstack([X.ravel(), Y.ravel(), Z.ravel()])\n",
    "values = np.vstack([m1, m2, m3])\n",
    "kernel = stats.gaussian_kde(values)\n",
    "Z = np.reshape(kernel(positions).T, X.shape)\n",
    "\n",
    "import matplotlib.pyplot as plt\n",
    "\n",
    "fig, ax = plt.subplots()\n",
    "ax.imshow(\n",
    "    np.rot90(Z), cmap=plt.cm.gist_earth_r, extent=[xmin, xmax, ymin, ymax, zmin, zmax]\n",
    ")\n",
    "ax.plot(m1, m2, \"k.\", markersize=2)\n",
    "ax.set_xlim([xmin, xmax])\n",
    "ax.set_ylim([ymin, ymax])\n",
    "plt.show()"
   ]
  },
  {
   "cell_type": "code",
   "execution_count": null,
   "metadata": {},
   "outputs": [],
   "source": []
  }
 ],
 "metadata": {
  "kernelspec": {
   "display_name": "cellmap_experiments",
   "language": "python",
   "name": "python3"
  },
  "language_info": {
   "codemirror_mode": {
    "name": "ipython",
    "version": 3
   },
   "file_extension": ".py",
   "mimetype": "text/x-python",
   "name": "python",
   "nbconvert_exporter": "python",
   "pygments_lexer": "ipython3",
   "version": "3.10.12"
  },
  "orig_nbformat": 4
 },
 "nbformat": 4,
 "nbformat_minor": 2
}
